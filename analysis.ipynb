{
 "cells": [
  {
   "cell_type": "code",
   "execution_count": 26,
   "metadata": {},
   "outputs": [
    {
     "name": "stdout",
     "output_type": "stream",
     "text": [
      "The autoreload extension is already loaded. To reload it, use:\n",
      "  %reload_ext autoreload\n"
     ]
    }
   ],
   "source": [
    "%load_ext autoreload\n",
    "%autoreload 2"
   ]
  },
  {
   "cell_type": "code",
   "execution_count": 27,
   "metadata": {},
   "outputs": [],
   "source": [
    "import numpy as np\n",
    "import os\n",
    "import sys\n",
    "import matplotlib.pyplot as plt\n",
    "import pandas as pd\n",
    "pd.set_option('display.max_columns', 200)\n",
    "\n",
    "from card import Card\n",
    "from board import Board\n",
    "from player import Player\n",
    "from rule import Rule\n",
    "import optimal_strategy as opt\n",
    "\n",
    "import multiprocessing\n",
    "import time\n",
    "from multiprocessing.pool import ThreadPool\n",
    "import threading\n",
    "from tqdm import notebook\n",
    "notebook.tqdm.pandas()\n",
    "\n",
    "from euchre_lib import *\n",
    "from search_lib import *"
   ]
  },
  {
   "cell_type": "code",
   "execution_count": 28,
   "metadata": {},
   "outputs": [],
   "source": [
    "notebook.tqdm.get_lock().locks = []"
   ]
  },
  {
   "cell_type": "markdown",
   "metadata": {},
   "source": [
    "# Basic data exploration"
   ]
  },
  {
   "cell_type": "code",
   "execution_count": 3,
   "metadata": {},
   "outputs": [],
   "source": [
    "board = Board()"
   ]
  },
  {
   "cell_type": "code",
   "execution_count": 15,
   "metadata": {},
   "outputs": [
    {
     "data": {
      "text/html": [
       "<div>\n",
       "<style scoped>\n",
       "    .dataframe tbody tr th:only-of-type {\n",
       "        vertical-align: middle;\n",
       "    }\n",
       "\n",
       "    .dataframe tbody tr th {\n",
       "        vertical-align: top;\n",
       "    }\n",
       "\n",
       "    .dataframe thead th {\n",
       "        text-align: right;\n",
       "    }\n",
       "</style>\n",
       "<table border=\"1\" class=\"dataframe\">\n",
       "  <thead>\n",
       "    <tr style=\"text-align: right;\">\n",
       "      <th></th>\n",
       "      <th>p0c1</th>\n",
       "      <th>p0c1isD</th>\n",
       "      <th>p0c1isH</th>\n",
       "      <th>p0c1isS</th>\n",
       "      <th>p0c2</th>\n",
       "      <th>p0c2isD</th>\n",
       "      <th>p0c2isH</th>\n",
       "      <th>p0c2isS</th>\n",
       "      <th>p0c3</th>\n",
       "      <th>p0c3isD</th>\n",
       "      <th>p0c3isH</th>\n",
       "      <th>p0c3isS</th>\n",
       "      <th>p0c4</th>\n",
       "      <th>p0c4isD</th>\n",
       "      <th>p0c4isH</th>\n",
       "      <th>p0c4isS</th>\n",
       "      <th>p0c5</th>\n",
       "      <th>p0c5isD</th>\n",
       "      <th>p0c5isH</th>\n",
       "      <th>p0c5isS</th>\n",
       "      <th>p1c1</th>\n",
       "      <th>p1c1isD</th>\n",
       "      <th>p1c1isH</th>\n",
       "      <th>p1c1isS</th>\n",
       "      <th>p1c2</th>\n",
       "      <th>p1c2isD</th>\n",
       "      <th>p1c2isH</th>\n",
       "      <th>p1c2isS</th>\n",
       "      <th>p1c3</th>\n",
       "      <th>p1c3isD</th>\n",
       "      <th>p1c3isH</th>\n",
       "      <th>p1c3isS</th>\n",
       "      <th>p1c4</th>\n",
       "      <th>p1c4isD</th>\n",
       "      <th>p1c4isH</th>\n",
       "      <th>p1c4isS</th>\n",
       "      <th>p1c5</th>\n",
       "      <th>p1c5isD</th>\n",
       "      <th>p1c5isH</th>\n",
       "      <th>p1c5isS</th>\n",
       "      <th>p2c1</th>\n",
       "      <th>p2c1isD</th>\n",
       "      <th>p2c1isH</th>\n",
       "      <th>p2c1isS</th>\n",
       "      <th>p2c2</th>\n",
       "      <th>p2c2isD</th>\n",
       "      <th>p2c2isH</th>\n",
       "      <th>p2c2isS</th>\n",
       "      <th>p2c3</th>\n",
       "      <th>p2c3isD</th>\n",
       "      <th>p2c3isH</th>\n",
       "      <th>p2c3isS</th>\n",
       "      <th>p2c4</th>\n",
       "      <th>p2c4isD</th>\n",
       "      <th>p2c4isH</th>\n",
       "      <th>p2c4isS</th>\n",
       "      <th>p2c5</th>\n",
       "      <th>p2c5isD</th>\n",
       "      <th>p2c5isH</th>\n",
       "      <th>p2c5isS</th>\n",
       "      <th>p3c1</th>\n",
       "      <th>p3c1isD</th>\n",
       "      <th>p3c1isH</th>\n",
       "      <th>p3c1isS</th>\n",
       "      <th>p3c2</th>\n",
       "      <th>p3c2isD</th>\n",
       "      <th>p3c2isH</th>\n",
       "      <th>p3c2isS</th>\n",
       "      <th>p3c3</th>\n",
       "      <th>p3c3isD</th>\n",
       "      <th>p3c3isH</th>\n",
       "      <th>p3c3isS</th>\n",
       "      <th>p3c4</th>\n",
       "      <th>p3c4isD</th>\n",
       "      <th>p3c4isH</th>\n",
       "      <th>p3c4isS</th>\n",
       "      <th>p3c5</th>\n",
       "      <th>p3c5isD</th>\n",
       "      <th>p3c5isH</th>\n",
       "      <th>p3c5isS</th>\n",
       "      <th>TC_power</th>\n",
       "      <th>TC_isD</th>\n",
       "      <th>TC_isH</th>\n",
       "      <th>TC_isS</th>\n",
       "      <th>trump_isD</th>\n",
       "      <th>trump_isH</th>\n",
       "      <th>trump_isS</th>\n",
       "      <th>caller</th>\n",
       "      <th>round</th>\n",
       "      <th>alone</th>\n",
       "      <th>winner1</th>\n",
       "      <th>winner2</th>\n",
       "      <th>winner3</th>\n",
       "      <th>winner4</th>\n",
       "      <th>winner5</th>\n",
       "      <th>points02</th>\n",
       "      <th>points13</th>\n",
       "      <th>played1</th>\n",
       "      <th>played2</th>\n",
       "      <th>played3</th>\n",
       "      <th>played4</th>\n",
       "      <th>played5</th>\n",
       "      <th>played6</th>\n",
       "      <th>played7</th>\n",
       "      <th>played8</th>\n",
       "      <th>played9</th>\n",
       "      <th>played10</th>\n",
       "      <th>played11</th>\n",
       "      <th>played12</th>\n",
       "      <th>played13</th>\n",
       "      <th>played14</th>\n",
       "      <th>played15</th>\n",
       "      <th>played16</th>\n",
       "      <th>played17</th>\n",
       "      <th>played18</th>\n",
       "      <th>played19</th>\n",
       "      <th>played20</th>\n",
       "      <th>result</th>\n",
       "      <th>p0trueid</th>\n",
       "      <th>p1trueid</th>\n",
       "      <th>p2trueid</th>\n",
       "      <th>p3trueid</th>\n",
       "    </tr>\n",
       "  </thead>\n",
       "  <tbody>\n",
       "    <tr>\n",
       "      <th>0</th>\n",
       "      <td>12</td>\n",
       "      <td>1</td>\n",
       "      <td>0</td>\n",
       "      <td>0</td>\n",
       "      <td>10</td>\n",
       "      <td>0</td>\n",
       "      <td>0</td>\n",
       "      <td>0</td>\n",
       "      <td>10</td>\n",
       "      <td>0</td>\n",
       "      <td>1</td>\n",
       "      <td>0</td>\n",
       "      <td>5</td>\n",
       "      <td>0</td>\n",
       "      <td>1</td>\n",
       "      <td>0</td>\n",
       "      <td>4</td>\n",
       "      <td>0</td>\n",
       "      <td>0</td>\n",
       "      <td>1</td>\n",
       "      <td>25</td>\n",
       "      <td>1</td>\n",
       "      <td>0</td>\n",
       "      <td>0</td>\n",
       "      <td>5</td>\n",
       "      <td>0</td>\n",
       "      <td>0</td>\n",
       "      <td>0</td>\n",
       "      <td>1</td>\n",
       "      <td>0</td>\n",
       "      <td>0</td>\n",
       "      <td>0</td>\n",
       "      <td>2</td>\n",
       "      <td>0</td>\n",
       "      <td>1</td>\n",
       "      <td>0</td>\n",
       "      <td>3</td>\n",
       "      <td>0</td>\n",
       "      <td>0</td>\n",
       "      <td>1</td>\n",
       "      <td>35</td>\n",
       "      <td>1</td>\n",
       "      <td>0</td>\n",
       "      <td>0</td>\n",
       "      <td>31</td>\n",
       "      <td>0</td>\n",
       "      <td>1</td>\n",
       "      <td>0</td>\n",
       "      <td>15</td>\n",
       "      <td>1</td>\n",
       "      <td>0</td>\n",
       "      <td>0</td>\n",
       "      <td>2</td>\n",
       "      <td>0</td>\n",
       "      <td>0</td>\n",
       "      <td>0</td>\n",
       "      <td>10</td>\n",
       "      <td>0</td>\n",
       "      <td>0</td>\n",
       "      <td>1</td>\n",
       "      <td>30</td>\n",
       "      <td>1</td>\n",
       "      <td>0</td>\n",
       "      <td>0</td>\n",
       "      <td>4</td>\n",
       "      <td>0</td>\n",
       "      <td>0</td>\n",
       "      <td>0</td>\n",
       "      <td>3</td>\n",
       "      <td>0</td>\n",
       "      <td>0</td>\n",
       "      <td>0</td>\n",
       "      <td>4</td>\n",
       "      <td>0</td>\n",
       "      <td>1</td>\n",
       "      <td>0</td>\n",
       "      <td>1</td>\n",
       "      <td>0</td>\n",
       "      <td>1</td>\n",
       "      <td>0</td>\n",
       "      <td>20</td>\n",
       "      <td>1</td>\n",
       "      <td>0</td>\n",
       "      <td>0</td>\n",
       "      <td>1</td>\n",
       "      <td>0</td>\n",
       "      <td>0</td>\n",
       "      <td>1</td>\n",
       "      <td>1</td>\n",
       "      <td>0</td>\n",
       "      <td>3</td>\n",
       "      <td>3</td>\n",
       "      <td>1</td>\n",
       "      <td>1</td>\n",
       "      <td>3</td>\n",
       "      <td>0</td>\n",
       "      <td>2</td>\n",
       "      <td>KC0</td>\n",
       "      <td>TC1</td>\n",
       "      <td>JC2</td>\n",
       "      <td>AC3</td>\n",
       "      <td>AH3</td>\n",
       "      <td>TH0</td>\n",
       "      <td>AS1</td>\n",
       "      <td>9H2</td>\n",
       "      <td>KH3</td>\n",
       "      <td>KD0</td>\n",
       "      <td>JH1</td>\n",
       "      <td>QH2</td>\n",
       "      <td>JD1</td>\n",
       "      <td>AD2</td>\n",
       "      <td>9D3</td>\n",
       "      <td>9C0</td>\n",
       "      <td>TD1</td>\n",
       "      <td>QC2</td>\n",
       "      <td>QD3</td>\n",
       "      <td>JS0</td>\n",
       "      <td>Sweep</td>\n",
       "      <td>1</td>\n",
       "      <td>2</td>\n",
       "      <td>3</td>\n",
       "      <td>0</td>\n",
       "    </tr>\n",
       "    <tr>\n",
       "      <th>1</th>\n",
       "      <td>20</td>\n",
       "      <td>1</td>\n",
       "      <td>0</td>\n",
       "      <td>0</td>\n",
       "      <td>2</td>\n",
       "      <td>0</td>\n",
       "      <td>0</td>\n",
       "      <td>0</td>\n",
       "      <td>1</td>\n",
       "      <td>0</td>\n",
       "      <td>0</td>\n",
       "      <td>0</td>\n",
       "      <td>4</td>\n",
       "      <td>0</td>\n",
       "      <td>1</td>\n",
       "      <td>0</td>\n",
       "      <td>1</td>\n",
       "      <td>0</td>\n",
       "      <td>1</td>\n",
       "      <td>0</td>\n",
       "      <td>12</td>\n",
       "      <td>1</td>\n",
       "      <td>0</td>\n",
       "      <td>0</td>\n",
       "      <td>4</td>\n",
       "      <td>0</td>\n",
       "      <td>0</td>\n",
       "      <td>0</td>\n",
       "      <td>10</td>\n",
       "      <td>0</td>\n",
       "      <td>0</td>\n",
       "      <td>1</td>\n",
       "      <td>5</td>\n",
       "      <td>0</td>\n",
       "      <td>0</td>\n",
       "      <td>1</td>\n",
       "      <td>2</td>\n",
       "      <td>0</td>\n",
       "      <td>0</td>\n",
       "      <td>1</td>\n",
       "      <td>35</td>\n",
       "      <td>1</td>\n",
       "      <td>0</td>\n",
       "      <td>0</td>\n",
       "      <td>30</td>\n",
       "      <td>1</td>\n",
       "      <td>0</td>\n",
       "      <td>0</td>\n",
       "      <td>5</td>\n",
       "      <td>0</td>\n",
       "      <td>1</td>\n",
       "      <td>0</td>\n",
       "      <td>2</td>\n",
       "      <td>0</td>\n",
       "      <td>1</td>\n",
       "      <td>0</td>\n",
       "      <td>3</td>\n",
       "      <td>0</td>\n",
       "      <td>0</td>\n",
       "      <td>1</td>\n",
       "      <td>31</td>\n",
       "      <td>0</td>\n",
       "      <td>1</td>\n",
       "      <td>0</td>\n",
       "      <td>25</td>\n",
       "      <td>1</td>\n",
       "      <td>0</td>\n",
       "      <td>0</td>\n",
       "      <td>10</td>\n",
       "      <td>0</td>\n",
       "      <td>0</td>\n",
       "      <td>0</td>\n",
       "      <td>10</td>\n",
       "      <td>0</td>\n",
       "      <td>1</td>\n",
       "      <td>0</td>\n",
       "      <td>4</td>\n",
       "      <td>0</td>\n",
       "      <td>0</td>\n",
       "      <td>1</td>\n",
       "      <td>15</td>\n",
       "      <td>1</td>\n",
       "      <td>0</td>\n",
       "      <td>0</td>\n",
       "      <td>1</td>\n",
       "      <td>0</td>\n",
       "      <td>0</td>\n",
       "      <td>3</td>\n",
       "      <td>1</td>\n",
       "      <td>0</td>\n",
       "      <td>3</td>\n",
       "      <td>3</td>\n",
       "      <td>0</td>\n",
       "      <td>0</td>\n",
       "      <td>2</td>\n",
       "      <td>2</td>\n",
       "      <td>0</td>\n",
       "      <td>AC0</td>\n",
       "      <td>9C1</td>\n",
       "      <td>QC2</td>\n",
       "      <td>TD3</td>\n",
       "      <td>JD3</td>\n",
       "      <td>KD0</td>\n",
       "      <td>QD1</td>\n",
       "      <td>9D2</td>\n",
       "      <td>KH3</td>\n",
       "      <td>AH0</td>\n",
       "      <td>9H1</td>\n",
       "      <td>TS2</td>\n",
       "      <td>JH0</td>\n",
       "      <td>TC1</td>\n",
       "      <td>KS2</td>\n",
       "      <td>AD3</td>\n",
       "      <td>QS0</td>\n",
       "      <td>QH1</td>\n",
       "      <td>AS2</td>\n",
       "      <td>TH3</td>\n",
       "      <td>EUCHRE</td>\n",
       "      <td>2</td>\n",
       "      <td>3</td>\n",
       "      <td>0</td>\n",
       "      <td>1</td>\n",
       "    </tr>\n",
       "    <tr>\n",
       "      <th>2</th>\n",
       "      <td>3</td>\n",
       "      <td>0</td>\n",
       "      <td>0</td>\n",
       "      <td>1</td>\n",
       "      <td>2</td>\n",
       "      <td>0</td>\n",
       "      <td>0</td>\n",
       "      <td>0</td>\n",
       "      <td>31</td>\n",
       "      <td>1</td>\n",
       "      <td>0</td>\n",
       "      <td>0</td>\n",
       "      <td>2</td>\n",
       "      <td>1</td>\n",
       "      <td>0</td>\n",
       "      <td>0</td>\n",
       "      <td>20</td>\n",
       "      <td>0</td>\n",
       "      <td>1</td>\n",
       "      <td>0</td>\n",
       "      <td>5</td>\n",
       "      <td>1</td>\n",
       "      <td>0</td>\n",
       "      <td>0</td>\n",
       "      <td>30</td>\n",
       "      <td>0</td>\n",
       "      <td>1</td>\n",
       "      <td>0</td>\n",
       "      <td>25</td>\n",
       "      <td>0</td>\n",
       "      <td>1</td>\n",
       "      <td>0</td>\n",
       "      <td>12</td>\n",
       "      <td>0</td>\n",
       "      <td>1</td>\n",
       "      <td>0</td>\n",
       "      <td>4</td>\n",
       "      <td>0</td>\n",
       "      <td>0</td>\n",
       "      <td>1</td>\n",
       "      <td>5</td>\n",
       "      <td>0</td>\n",
       "      <td>0</td>\n",
       "      <td>0</td>\n",
       "      <td>4</td>\n",
       "      <td>0</td>\n",
       "      <td>0</td>\n",
       "      <td>0</td>\n",
       "      <td>10</td>\n",
       "      <td>1</td>\n",
       "      <td>0</td>\n",
       "      <td>0</td>\n",
       "      <td>10</td>\n",
       "      <td>0</td>\n",
       "      <td>0</td>\n",
       "      <td>1</td>\n",
       "      <td>2</td>\n",
       "      <td>0</td>\n",
       "      <td>0</td>\n",
       "      <td>1</td>\n",
       "      <td>10</td>\n",
       "      <td>0</td>\n",
       "      <td>0</td>\n",
       "      <td>0</td>\n",
       "      <td>4</td>\n",
       "      <td>1</td>\n",
       "      <td>0</td>\n",
       "      <td>0</td>\n",
       "      <td>1</td>\n",
       "      <td>1</td>\n",
       "      <td>0</td>\n",
       "      <td>0</td>\n",
       "      <td>5</td>\n",
       "      <td>0</td>\n",
       "      <td>0</td>\n",
       "      <td>1</td>\n",
       "      <td>1</td>\n",
       "      <td>0</td>\n",
       "      <td>0</td>\n",
       "      <td>1</td>\n",
       "      <td>12</td>\n",
       "      <td>0</td>\n",
       "      <td>0</td>\n",
       "      <td>0</td>\n",
       "      <td>0</td>\n",
       "      <td>1</td>\n",
       "      <td>0</td>\n",
       "      <td>0</td>\n",
       "      <td>2</td>\n",
       "      <td>0</td>\n",
       "      <td>1</td>\n",
       "      <td>1</td>\n",
       "      <td>0</td>\n",
       "      <td>3</td>\n",
       "      <td>0</td>\n",
       "      <td>0</td>\n",
       "      <td>2</td>\n",
       "      <td>KD0</td>\n",
       "      <td>AD1</td>\n",
       "      <td>9D2</td>\n",
       "      <td>TD3</td>\n",
       "      <td>AS1</td>\n",
       "      <td>9S2</td>\n",
       "      <td>JS3</td>\n",
       "      <td>QS0</td>\n",
       "      <td>KC1</td>\n",
       "      <td>AC2</td>\n",
       "      <td>TC3</td>\n",
       "      <td>9H0</td>\n",
       "      <td>AH0</td>\n",
       "      <td>TS1</td>\n",
       "      <td>QD2</td>\n",
       "      <td>JD3</td>\n",
       "      <td>QH3</td>\n",
       "      <td>KH0</td>\n",
       "      <td>QC1</td>\n",
       "      <td>KS2</td>\n",
       "      <td>EUCHRE</td>\n",
       "      <td>3</td>\n",
       "      <td>0</td>\n",
       "      <td>1</td>\n",
       "      <td>2</td>\n",
       "    </tr>\n",
       "    <tr>\n",
       "      <th>3</th>\n",
       "      <td>15</td>\n",
       "      <td>0</td>\n",
       "      <td>0</td>\n",
       "      <td>1</td>\n",
       "      <td>5</td>\n",
       "      <td>0</td>\n",
       "      <td>0</td>\n",
       "      <td>0</td>\n",
       "      <td>1</td>\n",
       "      <td>0</td>\n",
       "      <td>0</td>\n",
       "      <td>0</td>\n",
       "      <td>5</td>\n",
       "      <td>1</td>\n",
       "      <td>0</td>\n",
       "      <td>0</td>\n",
       "      <td>1</td>\n",
       "      <td>0</td>\n",
       "      <td>1</td>\n",
       "      <td>0</td>\n",
       "      <td>12</td>\n",
       "      <td>0</td>\n",
       "      <td>0</td>\n",
       "      <td>1</td>\n",
       "      <td>4</td>\n",
       "      <td>0</td>\n",
       "      <td>0</td>\n",
       "      <td>0</td>\n",
       "      <td>10</td>\n",
       "      <td>1</td>\n",
       "      <td>0</td>\n",
       "      <td>0</td>\n",
       "      <td>4</td>\n",
       "      <td>1</td>\n",
       "      <td>0</td>\n",
       "      <td>0</td>\n",
       "      <td>2</td>\n",
       "      <td>0</td>\n",
       "      <td>1</td>\n",
       "      <td>0</td>\n",
       "      <td>31</td>\n",
       "      <td>0</td>\n",
       "      <td>0</td>\n",
       "      <td>0</td>\n",
       "      <td>30</td>\n",
       "      <td>0</td>\n",
       "      <td>0</td>\n",
       "      <td>1</td>\n",
       "      <td>10</td>\n",
       "      <td>0</td>\n",
       "      <td>0</td>\n",
       "      <td>0</td>\n",
       "      <td>10</td>\n",
       "      <td>0</td>\n",
       "      <td>1</td>\n",
       "      <td>0</td>\n",
       "      <td>3</td>\n",
       "      <td>0</td>\n",
       "      <td>1</td>\n",
       "      <td>0</td>\n",
       "      <td>25</td>\n",
       "      <td>0</td>\n",
       "      <td>0</td>\n",
       "      <td>1</td>\n",
       "      <td>2</td>\n",
       "      <td>0</td>\n",
       "      <td>0</td>\n",
       "      <td>0</td>\n",
       "      <td>3</td>\n",
       "      <td>1</td>\n",
       "      <td>0</td>\n",
       "      <td>0</td>\n",
       "      <td>2</td>\n",
       "      <td>1</td>\n",
       "      <td>0</td>\n",
       "      <td>0</td>\n",
       "      <td>4</td>\n",
       "      <td>0</td>\n",
       "      <td>1</td>\n",
       "      <td>0</td>\n",
       "      <td>20</td>\n",
       "      <td>0</td>\n",
       "      <td>0</td>\n",
       "      <td>1</td>\n",
       "      <td>0</td>\n",
       "      <td>0</td>\n",
       "      <td>1</td>\n",
       "      <td>3</td>\n",
       "      <td>1</td>\n",
       "      <td>0</td>\n",
       "      <td>3</td>\n",
       "      <td>3</td>\n",
       "      <td>3</td>\n",
       "      <td>3</td>\n",
       "      <td>3</td>\n",
       "      <td>0</td>\n",
       "      <td>2</td>\n",
       "      <td>QH0</td>\n",
       "      <td>9H1</td>\n",
       "      <td>TH2</td>\n",
       "      <td>AH3</td>\n",
       "      <td>JC3</td>\n",
       "      <td>KS0</td>\n",
       "      <td>TS1</td>\n",
       "      <td>9S2</td>\n",
       "      <td>JH3</td>\n",
       "      <td>TC0</td>\n",
       "      <td>9C1</td>\n",
       "      <td>QC2</td>\n",
       "      <td>AS3</td>\n",
       "      <td>TD0</td>\n",
       "      <td>KC1</td>\n",
       "      <td>QD2</td>\n",
       "      <td>QS3</td>\n",
       "      <td>JD0</td>\n",
       "      <td>KD1</td>\n",
       "      <td>AD2</td>\n",
       "      <td>Sweep</td>\n",
       "      <td>0</td>\n",
       "      <td>1</td>\n",
       "      <td>2</td>\n",
       "      <td>3</td>\n",
       "    </tr>\n",
       "    <tr>\n",
       "      <th>4</th>\n",
       "      <td>1</td>\n",
       "      <td>0</td>\n",
       "      <td>0</td>\n",
       "      <td>1</td>\n",
       "      <td>4</td>\n",
       "      <td>0</td>\n",
       "      <td>0</td>\n",
       "      <td>0</td>\n",
       "      <td>2</td>\n",
       "      <td>1</td>\n",
       "      <td>0</td>\n",
       "      <td>0</td>\n",
       "      <td>30</td>\n",
       "      <td>0</td>\n",
       "      <td>1</td>\n",
       "      <td>0</td>\n",
       "      <td>12</td>\n",
       "      <td>0</td>\n",
       "      <td>1</td>\n",
       "      <td>0</td>\n",
       "      <td>10</td>\n",
       "      <td>0</td>\n",
       "      <td>0</td>\n",
       "      <td>1</td>\n",
       "      <td>2</td>\n",
       "      <td>0</td>\n",
       "      <td>0</td>\n",
       "      <td>0</td>\n",
       "      <td>1</td>\n",
       "      <td>0</td>\n",
       "      <td>0</td>\n",
       "      <td>0</td>\n",
       "      <td>1</td>\n",
       "      <td>1</td>\n",
       "      <td>0</td>\n",
       "      <td>0</td>\n",
       "      <td>20</td>\n",
       "      <td>0</td>\n",
       "      <td>1</td>\n",
       "      <td>0</td>\n",
       "      <td>3</td>\n",
       "      <td>0</td>\n",
       "      <td>0</td>\n",
       "      <td>0</td>\n",
       "      <td>10</td>\n",
       "      <td>0</td>\n",
       "      <td>0</td>\n",
       "      <td>0</td>\n",
       "      <td>31</td>\n",
       "      <td>1</td>\n",
       "      <td>0</td>\n",
       "      <td>0</td>\n",
       "      <td>35</td>\n",
       "      <td>0</td>\n",
       "      <td>1</td>\n",
       "      <td>0</td>\n",
       "      <td>15</td>\n",
       "      <td>0</td>\n",
       "      <td>1</td>\n",
       "      <td>0</td>\n",
       "      <td>5</td>\n",
       "      <td>0</td>\n",
       "      <td>0</td>\n",
       "      <td>1</td>\n",
       "      <td>2</td>\n",
       "      <td>0</td>\n",
       "      <td>0</td>\n",
       "      <td>1</td>\n",
       "      <td>5</td>\n",
       "      <td>0</td>\n",
       "      <td>0</td>\n",
       "      <td>0</td>\n",
       "      <td>10</td>\n",
       "      <td>1</td>\n",
       "      <td>0</td>\n",
       "      <td>0</td>\n",
       "      <td>25</td>\n",
       "      <td>0</td>\n",
       "      <td>1</td>\n",
       "      <td>0</td>\n",
       "      <td>35</td>\n",
       "      <td>0</td>\n",
       "      <td>0</td>\n",
       "      <td>1</td>\n",
       "      <td>0</td>\n",
       "      <td>1</td>\n",
       "      <td>0</td>\n",
       "      <td>1</td>\n",
       "      <td>2</td>\n",
       "      <td>0</td>\n",
       "      <td>1</td>\n",
       "      <td>1</td>\n",
       "      <td>1</td>\n",
       "      <td>1</td>\n",
       "      <td>1</td>\n",
       "      <td>0</td>\n",
       "      <td>2</td>\n",
       "      <td>AS0</td>\n",
       "      <td>TH1</td>\n",
       "      <td>TS2</td>\n",
       "      <td>9S3</td>\n",
       "      <td>AC1</td>\n",
       "      <td>KC2</td>\n",
       "      <td>QC3</td>\n",
       "      <td>9C0</td>\n",
       "      <td>JH1</td>\n",
       "      <td>KH2</td>\n",
       "      <td>9H3</td>\n",
       "      <td>QH0</td>\n",
       "      <td>JD1</td>\n",
       "      <td>KS2</td>\n",
       "      <td>AH3</td>\n",
       "      <td>9D0</td>\n",
       "      <td>JC1</td>\n",
       "      <td>AD2</td>\n",
       "      <td>TD3</td>\n",
       "      <td>TC0</td>\n",
       "      <td>Sweep</td>\n",
       "      <td>1</td>\n",
       "      <td>2</td>\n",
       "      <td>3</td>\n",
       "      <td>0</td>\n",
       "    </tr>\n",
       "  </tbody>\n",
       "</table>\n",
       "</div>"
      ],
      "text/plain": [
       "   p0c1  p0c1isD  p0c1isH  p0c1isS  p0c2  p0c2isD  p0c2isH  p0c2isS  p0c3  \\\n",
       "0    12        1        0        0    10        0        0        0    10   \n",
       "1    20        1        0        0     2        0        0        0     1   \n",
       "2     3        0        0        1     2        0        0        0    31   \n",
       "3    15        0        0        1     5        0        0        0     1   \n",
       "4     1        0        0        1     4        0        0        0     2   \n",
       "\n",
       "   p0c3isD  p0c3isH  p0c3isS  p0c4  p0c4isD  p0c4isH  p0c4isS  p0c5  p0c5isD  \\\n",
       "0        0        1        0     5        0        1        0     4        0   \n",
       "1        0        0        0     4        0        1        0     1        0   \n",
       "2        1        0        0     2        1        0        0    20        0   \n",
       "3        0        0        0     5        1        0        0     1        0   \n",
       "4        1        0        0    30        0        1        0    12        0   \n",
       "\n",
       "   p0c5isH  p0c5isS  p1c1  p1c1isD  p1c1isH  p1c1isS  p1c2  p1c2isD  p1c2isH  \\\n",
       "0        0        1    25        1        0        0     5        0        0   \n",
       "1        1        0    12        1        0        0     4        0        0   \n",
       "2        1        0     5        1        0        0    30        0        1   \n",
       "3        1        0    12        0        0        1     4        0        0   \n",
       "4        1        0    10        0        0        1     2        0        0   \n",
       "\n",
       "   p1c2isS  p1c3  p1c3isD  p1c3isH  p1c3isS  p1c4  p1c4isD  p1c4isH  p1c4isS  \\\n",
       "0        0     1        0        0        0     2        0        1        0   \n",
       "1        0    10        0        0        1     5        0        0        1   \n",
       "2        0    25        0        1        0    12        0        1        0   \n",
       "3        0    10        1        0        0     4        1        0        0   \n",
       "4        0     1        0        0        0     1        1        0        0   \n",
       "\n",
       "   p1c5  p1c5isD  p1c5isH  p1c5isS  p2c1  p2c1isD  p2c1isH  p2c1isS  p2c2  \\\n",
       "0     3        0        0        1    35        1        0        0    31   \n",
       "1     2        0        0        1    35        1        0        0    30   \n",
       "2     4        0        0        1     5        0        0        0     4   \n",
       "3     2        0        1        0    31        0        0        0    30   \n",
       "4    20        0        1        0     3        0        0        0    10   \n",
       "\n",
       "   p2c2isD  p2c2isH  p2c2isS  p2c3  p2c3isD  p2c3isH  p2c3isS  p2c4  p2c4isD  \\\n",
       "0        0        1        0    15        1        0        0     2        0   \n",
       "1        1        0        0     5        0        1        0     2        0   \n",
       "2        0        0        0    10        1        0        0    10        0   \n",
       "3        0        0        1    10        0        0        0    10        0   \n",
       "4        0        0        0    31        1        0        0    35        0   \n",
       "\n",
       "   p2c4isH  p2c4isS  p2c5  p2c5isD  p2c5isH  p2c5isS  p3c1  p3c1isD  p3c1isH  \\\n",
       "0        0        0    10        0        0        1    30        1        0   \n",
       "1        1        0     3        0        0        1    31        0        1   \n",
       "2        0        1     2        0        0        1    10        0        0   \n",
       "3        1        0     3        0        1        0    25        0        0   \n",
       "4        1        0    15        0        1        0     5        0        0   \n",
       "\n",
       "   p3c1isS  p3c2  p3c2isD  p3c2isH  p3c2isS  p3c3  p3c3isD  p3c3isH  p3c3isS  \\\n",
       "0        0     4        0        0        0     3        0        0        0   \n",
       "1        0    25        1        0        0    10        0        0        0   \n",
       "2        0     4        1        0        0     1        1        0        0   \n",
       "3        1     2        0        0        0     3        1        0        0   \n",
       "4        1     2        0        0        1     5        0        0        0   \n",
       "\n",
       "   p3c4  p3c4isD  p3c4isH  p3c4isS  p3c5  p3c5isD  p3c5isH  p3c5isS  TC_power  \\\n",
       "0     4        0        1        0     1        0        1        0        20   \n",
       "1    10        0        1        0     4        0        0        1        15   \n",
       "2     5        0        0        1     1        0        0        1        12   \n",
       "3     2        1        0        0     4        0        1        0        20   \n",
       "4    10        1        0        0    25        0        1        0        35   \n",
       "\n",
       "   TC_isD  TC_isH  TC_isS  trump_isD  trump_isH  trump_isS  caller  round  \\\n",
       "0       1       0       0          1          0          0       1      1   \n",
       "1       1       0       0          1          0          0       3      1   \n",
       "2       0       0       0          0          1          0       0      2   \n",
       "3       0       0       1          0          0          1       3      1   \n",
       "4       0       0       1          0          1          0       1      2   \n",
       "\n",
       "   alone  winner1  winner2  winner3  winner4  winner5  points02  points13  \\\n",
       "0      0        3        3        1        1        3         0         2   \n",
       "1      0        3        3        0        0        2         2         0   \n",
       "2      0        1        1        0        3        0         0         2   \n",
       "3      0        3        3        3        3        3         0         2   \n",
       "4      0        1        1        1        1        1         0         2   \n",
       "\n",
       "  played1 played2 played3 played4 played5 played6 played7 played8 played9  \\\n",
       "0     KC0     TC1     JC2     AC3     AH3     TH0     AS1     9H2     KH3   \n",
       "1     AC0     9C1     QC2     TD3     JD3     KD0     QD1     9D2     KH3   \n",
       "2     KD0     AD1     9D2     TD3     AS1     9S2     JS3     QS0     KC1   \n",
       "3     QH0     9H1     TH2     AH3     JC3     KS0     TS1     9S2     JH3   \n",
       "4     AS0     TH1     TS2     9S3     AC1     KC2     QC3     9C0     JH1   \n",
       "\n",
       "  played10 played11 played12 played13 played14 played15 played16 played17  \\\n",
       "0      KD0      JH1      QH2      JD1      AD2      9D3      9C0      TD1   \n",
       "1      AH0      9H1      TS2      JH0      TC1      KS2      AD3      QS0   \n",
       "2      AC2      TC3      9H0      AH0      TS1      QD2      JD3      QH3   \n",
       "3      TC0      9C1      QC2      AS3      TD0      KC1      QD2      QS3   \n",
       "4      KH2      9H3      QH0      JD1      KS2      AH3      9D0      JC1   \n",
       "\n",
       "  played18 played19 played20  result  p0trueid  p1trueid  p2trueid  p3trueid  \n",
       "0      QC2      QD3      JS0   Sweep         1         2         3         0  \n",
       "1      QH1      AS2      TH3  EUCHRE         2         3         0         1  \n",
       "2      KH0      QC1      KS2  EUCHRE         3         0         1         2  \n",
       "3      JD0      KD1      AD2   Sweep         0         1         2         3  \n",
       "4      AD2      TD3      TC0   Sweep         1         2         3         0  "
      ]
     },
     "execution_count": 15,
     "metadata": {},
     "output_type": "execute_result"
    }
   ],
   "source": [
    "df = pd.read_csv('stored_runs/1000_hands_000.csv')\n",
    "df.head()"
   ]
  },
  {
   "cell_type": "code",
   "execution_count": 20,
   "metadata": {},
   "outputs": [
    {
     "data": {
      "text/plain": [
       "0.212"
      ]
     },
     "execution_count": 20,
     "metadata": {},
     "output_type": "execute_result"
    }
   ],
   "source": [
    "sum(df['result']=='EUCHRE')/len(df)"
   ]
  },
  {
   "cell_type": "code",
   "execution_count": 21,
   "metadata": {},
   "outputs": [
    {
     "data": {
      "text/plain": [
       "caller\n",
       "0    325\n",
       "1    273\n",
       "3    223\n",
       "2    179\n",
       "dtype: int64"
      ]
     },
     "execution_count": 21,
     "metadata": {},
     "output_type": "execute_result"
    }
   ],
   "source": [
    "df.value_counts('caller')"
   ]
  },
  {
   "cell_type": "code",
   "execution_count": 22,
   "metadata": {},
   "outputs": [
    {
     "data": {
      "text/plain": [
       "result\n",
       "Single    612\n",
       "EUCHRE    212\n",
       "Sweep     176\n",
       "dtype: int64"
      ]
     },
     "execution_count": 22,
     "metadata": {},
     "output_type": "execute_result"
    }
   ],
   "source": [
    "df.value_counts('result')"
   ]
  },
  {
   "cell_type": "code",
   "execution_count": 12,
   "metadata": {},
   "outputs": [],
   "source": [
    "def read_all_hands(folder='stored_runs/', use_tqdm=True):\n",
    "    df = None            \n",
    "    iterable = notebook.tqdm(os.listdir(folder)) if use_tqdm else os.listdir(folder)\n",
    "    folder = folder + '/' if folder[-1] != '/' else folder\n",
    "    \n",
    "    dict_list = []\n",
    "    for file in iterable:\n",
    "        if '.csv' not in file:\n",
    "            continue\n",
    "        dict_list.append(pd.read_csv(folder+file).to_dict('list'))\n",
    "    final_df = pd.DataFrame.from_dict(dict_list)\n",
    "    \n",
    "    return(final_df)"
   ]
  },
  {
   "cell_type": "code",
   "execution_count": null,
   "metadata": {},
   "outputs": [],
   "source": [
    "df = read_all_hands()"
   ]
  },
  {
   "cell_type": "code",
   "execution_count": 34,
   "metadata": {},
   "outputs": [
    {
     "name": "stdout",
     "output_type": "stream",
     "text": [
      "PLAYER 0:\n",
      "Called it   31.9% of the time\n",
      "First round 69.5% of their calls\n",
      "Swept it    8.3% of their calls\n",
      "Singled     58.2% of their calls\n",
      "Was euchred 33.5% of their calls\n",
      "Avg points per call: 0.08\n",
      "\n",
      "PLAYER 1:\n",
      "Called it   27.5% of the time\n",
      "First round 83.2% of their calls\n",
      "Swept it    24.4% of their calls\n",
      "Singled     65.0% of their calls\n",
      "Was euchred 10.6% of their calls\n",
      "Avg points per call: 0.93\n",
      "\n",
      "PLAYER 2:\n",
      "Called it   18.4% of the time\n",
      "First round 89.6% of their calls\n",
      "Swept it    4.5% of their calls\n",
      "Singled     58.5% of their calls\n",
      "Was euchred 37.1% of their calls\n",
      "Avg points per call: -0.07\n",
      "\n",
      "PLAYER 3:\n",
      "Called it   22.3% of the time\n",
      "First round 96.7% of their calls\n",
      "Swept it    26.6% of their calls\n",
      "Singled     69.3% of their calls\n",
      "Was euchred 4.1% of their calls\n",
      "Avg points per call: 1.14\n",
      "\n"
     ]
    }
   ],
   "source": [
    "for caller in range(4):\n",
    "    sub = df[df['caller']==caller]\n",
    "    print('PLAYER %i:' %caller)\n",
    "    print('Called it   %.1f%% of the time' %(len(sub)/len(df)*100))\n",
    "    print('First round %.1f%% of their calls' %(sum(sub['round']==1)/len(sub)*100))\n",
    "    print('Swept it    %.1f%% of their calls' %(sum(sub['result']=='Sweep')/len(sub)*100))\n",
    "    print('Singled     %.1f%% of their calls' %(sum(sub['result']=='Single')/len(sub)*100))\n",
    "    print('Was euchred %.1f%% of their calls' %(sum(sub['result']=='EUCHRE')/len(sub)*100))\n",
    "    p, op = ['points02', 'points13'] if caller%2==0 else ['points13', 'points02']\n",
    "    print('Avg points per call: %.2f' %( (sum(sub[p])-sum(sub[op]))/len(sub)  ))\n",
    "    print()"
   ]
  },
  {
   "cell_type": "markdown",
   "metadata": {},
   "source": [
    "# Consider conservative players"
   ]
  },
  {
   "cell_type": "code",
   "execution_count": 4,
   "metadata": {},
   "outputs": [],
   "source": [
    "p0 = make_conservative_player(0)\n",
    "p2 = make_conservative_player(2)\n",
    "\n",
    "board = Board(p0=p0, p2=p2)"
   ]
  },
  {
   "cell_type": "code",
   "execution_count": 14,
   "metadata": {},
   "outputs": [
    {
     "data": {
      "application/vnd.jupyter.widget-view+json": {
       "model_id": "b82879b862194f7fa247f0a1731791e3",
       "version_major": 2,
       "version_minor": 0
      },
      "text/plain": [
       "HBox(children=(HTML(value=''), FloatProgress(value=0.0), HTML(value='')))"
      ]
     },
     "metadata": {},
     "output_type": "display_data"
    },
    {
     "name": "stdout",
     "output_type": "stream",
     "text": [
      "\n",
      "Done!\n"
     ]
    }
   ],
   "source": [
    "if 'stored_runs' in os.listdir():\n",
    "    os.system('rm -r stored_runs')\n",
    "for epoch in notebook.tqdm(range(100)):\n",
    "    for hand in range(1000):\n",
    "        board.play_hand()\n",
    "    board.writeout()\n",
    "print('Done!')"
   ]
  },
  {
   "cell_type": "code",
   "execution_count": 39,
   "metadata": {},
   "outputs": [
    {
     "data": {
      "application/vnd.jupyter.widget-view+json": {
       "model_id": "1b8739c8ef2342d5becf01da51c7e382",
       "version_major": 2,
       "version_minor": 0
      },
      "text/plain": [
       "HBox(children=(HTML(value=''), FloatProgress(value=0.0, max=101.0), HTML(value='')))"
      ]
     },
     "metadata": {},
     "output_type": "display_data"
    },
    {
     "name": "stdout",
     "output_type": "stream",
     "text": [
      "\n"
     ]
    }
   ],
   "source": [
    "df = read_all_hands()"
   ]
  },
  {
   "cell_type": "code",
   "execution_count": 44,
   "metadata": {},
   "outputs": [
    {
     "data": {
      "application/vnd.jupyter.widget-view+json": {
       "model_id": "2fa6739d4983482aa9fa0b304b07785c",
       "version_major": 2,
       "version_minor": 0
      },
      "text/plain": [
       "HBox(children=(HTML(value=''), FloatProgress(value=0.0, max=100000.0), HTML(value='')))"
      ]
     },
     "metadata": {},
     "output_type": "display_data"
    },
    {
     "name": "stdout",
     "output_type": "stream",
     "text": [
      "\n"
     ]
    },
    {
     "data": {
      "application/vnd.jupyter.widget-view+json": {
       "model_id": "c77540e432b747ecb635e7f64053661f",
       "version_major": 2,
       "version_minor": 0
      },
      "text/plain": [
       "HBox(children=(HTML(value=''), FloatProgress(value=0.0, max=100000.0), HTML(value='')))"
      ]
     },
     "metadata": {},
     "output_type": "display_data"
    },
    {
     "name": "stdout",
     "output_type": "stream",
     "text": [
      "\n"
     ]
    }
   ],
   "source": [
    "df['caller_trueid'] = df.progress_apply(caller_trueid, axis=1)\n",
    "df['caller_points'] = df.progress_apply(lambda x: 4*(x['result']=='Loner') + 2*(x['result']=='Sweep') + 1*(x['result']=='Single') - 2*(x['result']=='EUCHRE'), axis=1)\n",
    "calls = [df[df['caller_trueid']==i] for i in range(4)]"
   ]
  },
  {
   "cell_type": "code",
   "execution_count": 47,
   "metadata": {},
   "outputs": [
    {
     "name": "stdout",
     "output_type": "stream",
     "text": [
      "PLAYER 0:\n",
      "Called it   12.8% of the time\n",
      "First round 62.1% of their calls\n",
      "Swept it    25.5% of their calls\n",
      "Singled     65.6% of their calls\n",
      "Was euchred 8.8% of their calls\n",
      "Avg points per call: 0.99\n",
      "\n",
      "PLAYER 1:\n",
      "Called it   36.9% of the time\n",
      "First round 63.9% of their calls\n",
      "Swept it    13.6% of their calls\n",
      "Singled     63.1% of their calls\n",
      "Was euchred 23.3% of their calls\n",
      "Avg points per call: 0.44\n",
      "\n",
      "PLAYER 2:\n",
      "Called it   12.8% of the time\n",
      "First round 62.2% of their calls\n",
      "Swept it    25.2% of their calls\n",
      "Singled     66.2% of their calls\n",
      "Was euchred 8.5% of their calls\n",
      "Avg points per call: 1.00\n",
      "\n",
      "PLAYER 3:\n",
      "Called it   37.5% of the time\n",
      "First round 63.9% of their calls\n",
      "Swept it    13.4% of their calls\n",
      "Singled     63.5% of their calls\n",
      "Was euchred 23.1% of their calls\n",
      "Avg points per call: 0.44\n",
      "\n"
     ]
    }
   ],
   "source": [
    "for i in range(4):\n",
    "    sub = calls[i]\n",
    "    print('PLAYER %i:' %i)\n",
    "    \n",
    "    print('Called it   %.1f%% of the time' %(len(sub)/len(df)*100))\n",
    "    print('First round %.1f%% of their calls' %(sum(sub['round']==1)/len(sub)*100))\n",
    "    print('Swept it    %.1f%% of their calls' %(sum(sub['result']=='Sweep')/len(sub)*100))\n",
    "    print('Singled     %.1f%% of their calls' %(sum(sub['result']=='Single')/len(sub)*100))\n",
    "    print('Was euchred %.1f%% of their calls' %(sum(sub['result']=='EUCHRE')/len(sub)*100))\n",
    "    #p, op = ['points02', 'points13'] if i%2==0 else ['points13', 'points02']\n",
    "    #print('Avg points per call: %.2f' %( (sum(sub[p])-sum(sub[op]))/len(sub)  ))\n",
    "    print('Avg points per call: %.2f' %(sum(sub['caller_points'])/len(sub)))\n",
    "    print()"
   ]
  },
  {
   "cell_type": "code",
   "execution_count": 49,
   "metadata": {},
   "outputs": [
    {
     "name": "stdout",
     "output_type": "stream",
     "text": [
      "AGGRESSIVE   POINTS: 32694 (avg 0.33 points per hand)\n",
      "CONSERVATIVE POINTS: 25451 (avg 0.25 points per hand)\n"
     ]
    }
   ],
   "source": [
    "points = [calls[i]['caller_points'].sum() for i in range(4)]\n",
    "print('AGGRESSIVE   POINTS: %i (avg %.2f points per hand)' %(points[1]+points[3], (points[1]+points[3])/len(df)))\n",
    "print('CONSERVATIVE POINTS: %i (avg %.2f points per hand)' %(points[0]+points[2], (points[0]+points[2])/len(df)))"
   ]
  },
  {
   "cell_type": "markdown",
   "metadata": {},
   "source": [
    "# Make the plot of aggressiveness vs performance"
   ]
  },
  {
   "cell_type": "code",
   "execution_count": 85,
   "metadata": {
    "collapsed": true,
    "jupyter": {
     "outputs_hidden": true
    }
   },
   "outputs": [
    {
     "data": {
      "application/vnd.jupyter.widget-view+json": {
       "model_id": "a16d7d0559164010902c08f6479de3ca",
       "version_major": 2,
       "version_minor": 0
      },
      "text/plain": [
       "HBox(children=(HTML(value=''), FloatProgress(value=0.0), HTML(value='')))"
      ]
     },
     "metadata": {},
     "output_type": "display_data"
    },
    {
     "name": "stdout",
     "output_type": "stream",
     "text": [
      "Evaluating performance for threshold 55...\n",
      "Evaluating performance for threshold 60...\n",
      "Evaluating performance for threshold 65...\n",
      "Evaluating performance for threshold 70...\n",
      "Evaluating performance for threshold 75...\n",
      "Evaluating performance for threshold 80...\n",
      "Evaluating performance for threshold 85...\n",
      "Evaluating performance for threshold 90...\n",
      "Evaluating performance for threshold 95...\n",
      "Evaluating performance for threshold 100...\n",
      "\n",
      "Done!\n"
     ]
    }
   ],
   "source": [
    "thresholds = range(55, 101, 5)\n",
    "performance, error = search_performance(thresholds)"
   ]
  },
  {
   "cell_type": "code",
   "execution_count": 87,
   "metadata": {},
   "outputs": [
    {
     "data": {
      "image/png": "[encoded data removed]",
      "text/plain": [
       "<Figure size 432x288 with 1 Axes>"
      ]
     },
     "metadata": {
      "needs_background": "light"
     },
     "output_type": "display_data"
    }
   ],
   "source": [
    "import matplotlib.pyplot as plt\n",
    "plt.plot(thresholds, performance)\n",
    "plt.fill_between(thresholds, performance+np.sqrt(1e4)*error, performance-np.sqrt(1e4)*error, alpha=0.2, facecolor='gray')\n",
    "plt.xlabel('Calling threshold')\n",
    "plt.ylabel('Points in 10,000 hands')\n",
    "plt.show()"
   ]
  },
  {
   "cell_type": "markdown",
   "metadata": {},
   "source": [
    "Preliminarily, looks like 70ish is best. Let's look run a wide search again, but with finer specificity in the thresholds"
   ]
  },
  {
   "cell_type": "code",
   "execution_count": 88,
   "metadata": {
    "collapsed": true,
    "jupyter": {
     "outputs_hidden": true
    }
   },
   "outputs": [
    {
     "data": {
      "application/vnd.jupyter.widget-view+json": {
       "model_id": "38921fe1d722497f97052ac5b529e971",
       "version_major": 2,
       "version_minor": 0
      },
      "text/plain": [
       "HBox(children=(HTML(value=''), FloatProgress(value=0.0, max=460.0), HTML(value='')))"
      ]
     },
     "metadata": {},
     "output_type": "display_data"
    },
    {
     "name": "stdout",
     "output_type": "stream",
     "text": [
      "Evaluating performance for threshold 55...\n",
      "Evaluating performance for threshold 56...\n",
      "Evaluating performance for threshold 57...\n",
      "Evaluating performance for threshold 58...\n",
      "Evaluating performance for threshold 59...\n",
      "Evaluating performance for threshold 60...\n",
      "Evaluating performance for threshold 61...\n",
      "Evaluating performance for threshold 62...\n",
      "Evaluating performance for threshold 63...\n",
      "Evaluating performance for threshold 64...\n",
      "Evaluating performance for threshold 65...\n",
      "Evaluating performance for threshold 66...\n",
      "Evaluating performance for threshold 67...\n",
      "Evaluating performance for threshold 68...\n",
      "Evaluating performance for threshold 69...\n",
      "Evaluating performance for threshold 70...\n",
      "Evaluating performance for threshold 71...\n",
      "Evaluating performance for threshold 72...\n",
      "Evaluating performance for threshold 73...\n",
      "Evaluating performance for threshold 74...\n",
      "Evaluating performance for threshold 75...\n",
      "Evaluating performance for threshold 76...\n",
      "Evaluating performance for threshold 77...\n",
      "Evaluating performance for threshold 78...\n",
      "Evaluating performance for threshold 79...\n",
      "Evaluating performance for threshold 80...\n",
      "Evaluating performance for threshold 81...\n",
      "Evaluating performance for threshold 82...\n",
      "Evaluating performance for threshold 83...\n",
      "Evaluating performance for threshold 84...\n",
      "Evaluating performance for threshold 85...\n",
      "Evaluating performance for threshold 86...\n",
      "Evaluating performance for threshold 87...\n",
      "Evaluating performance for threshold 88...\n",
      "Evaluating performance for threshold 89...\n",
      "Evaluating performance for threshold 90...\n",
      "Evaluating performance for threshold 91...\n",
      "Evaluating performance for threshold 92...\n",
      "Evaluating performance for threshold 93...\n",
      "Evaluating performance for threshold 94...\n",
      "Evaluating performance for threshold 95...\n",
      "Evaluating performance for threshold 96...\n",
      "Evaluating performance for threshold 97...\n",
      "Evaluating performance for threshold 98...\n",
      "Evaluating performance for threshold 99...\n",
      "Evaluating performance for threshold 100...\n",
      "\n",
      "Done!\n"
     ]
    }
   ],
   "source": [
    "thresholds2 = range(55, 101, 1)\n",
    "performance2, error2 = search_performance(thresholds2, prnt=False) # last time took about 3-4 minutes, should make this take about 15-20"
   ]
  },
  {
   "cell_type": "code",
   "execution_count": 89,
   "metadata": {},
   "outputs": [
    {
     "data": {
      "image/png": "[encoded data removed]",
      "text/plain": [
       "<Figure size 432x288 with 1 Axes>"
      ]
     },
     "metadata": {
      "needs_background": "light"
     },
     "output_type": "display_data"
    }
   ],
   "source": [
    "plt.plot(thresholds2, performance2)\n",
    "plt.fill_between(thresholds2, performance2+np.sqrt(1e4)*error2, performance2-np.sqrt(1e4)*error2, alpha=0.2, facecolor='gray')\n",
    "plt.xlabel('Calling threshold')\n",
    "plt.ylabel('Points in 10,000 hands')\n",
    "plt.title('Threshold vs performance (opp = 70)')\n",
    "\n",
    "if 'figs' not in os.listdir():\n",
    "    os.mkdir('figs')\n",
    "plt.savefig('figs/threshold_vs_performance_shallow.png')\n",
    "\n",
    "plt.show()"
   ]
  },
  {
   "cell_type": "markdown",
   "metadata": {},
   "source": [
    "# Make this plot for three different opponent sets"
   ]
  },
  {
   "cell_type": "code",
   "execution_count": 90,
   "metadata": {
    "collapsed": true,
    "jupyter": {
     "outputs_hidden": true
    }
   },
   "outputs": [
    {
     "data": {
      "application/vnd.jupyter.widget-view+json": {
       "model_id": "33b53d7d45b3452d81eb3324f715a8c0",
       "version_major": 2,
       "version_minor": 0
      },
      "text/plain": [
       "HBox(children=(HTML(value=''), FloatProgress(value=0.0, max=410.0), HTML(value='')))"
      ]
     },
     "metadata": {},
     "output_type": "display_data"
    },
    {
     "name": "stdout",
     "output_type": "stream",
     "text": [
      "\n",
      "Done!\n"
     ]
    },
    {
     "data": {
      "application/vnd.jupyter.widget-view+json": {
       "model_id": "bd7f946de6c444a18864ace10efa26b3",
       "version_major": 2,
       "version_minor": 0
      },
      "text/plain": [
       "HBox(children=(HTML(value=''), FloatProgress(value=0.0, max=410.0), HTML(value='')))"
      ]
     },
     "metadata": {},
     "output_type": "display_data"
    },
    {
     "name": "stdout",
     "output_type": "stream",
     "text": [
      "\n",
      "Done!\n"
     ]
    },
    {
     "data": {
      "application/vnd.jupyter.widget-view+json": {
       "model_id": "59ff795e0fce4f8c9c1f23b922e8ddc6",
       "version_major": 2,
       "version_minor": 0
      },
      "text/plain": [
       "HBox(children=(HTML(value=''), FloatProgress(value=0.0, max=410.0), HTML(value='')))"
      ]
     },
     "metadata": {},
     "output_type": "display_data"
    },
    {
     "name": "stdout",
     "output_type": "stream",
     "text": [
      "\n",
      "Done!\n"
     ]
    }
   ],
   "source": [
    "thresholds = range(60, 101, 1)\n",
    "opp_thresholds = [65, 80, 100]\n",
    "performance3 = {op_thresh : search_performance(thresholds, opp_thresh=op_thresh, prnt=False) for op_thresh in opp_thresholds}\n",
    "# should take like 45 minutes"
   ]
  },
  {
   "cell_type": "code",
   "execution_count": 91,
   "metadata": {},
   "outputs": [
    {
     "data": {
      "image/png": "[encoded data removed]",
      "text/plain": [
       "<Figure size 432x288 with 1 Axes>"
      ]
     },
     "metadata": {
      "needs_background": "light"
     },
     "output_type": "display_data"
    }
   ],
   "source": [
    "for op_thresh in opp_thresholds:\n",
    "    plt.plot(thresholds, performance3[op_thresh][0], label='opp = ' + str(op_thresh))\n",
    "    plt.fill_between(thresholds, performance3[op_thresh][0]+np.sqrt(1e4)*performance3[op_thresh][1],\n",
    "                                 performance3[op_thresh][0]-np.sqrt(1e4)*performance3[op_thresh][1],\n",
    "                                 alpha=0.2, facecolor='gray')\n",
    "\n",
    "plt.xlabel('Calling threshold')\n",
    "plt.ylabel('Points per 10,000 games')\n",
    "plt.legend()\n",
    "plt.title('Varying opponent thresholds')\n",
    "\n",
    "plt.savefig('figs/threshold_vs_performance_varyopp.png')\n",
    "\n",
    "plt.show()"
   ]
  },
  {
   "cell_type": "markdown",
   "metadata": {},
   "source": [
    "# Make the plot, but with more trials"
   ]
  },
  {
   "cell_type": "code",
   "execution_count": 8,
   "metadata": {},
   "outputs": [
    {
     "data": {
      "text/plain": [
       "12"
      ]
     },
     "execution_count": 8,
     "metadata": {},
     "output_type": "execute_result"
    }
   ],
   "source": [
    "multiprocessing.cpu_count()"
   ]
  },
  {
   "cell_type": "code",
   "execution_count": 34,
   "metadata": {
    "collapsed": true,
    "jupyter": {
     "outputs_hidden": true
    }
   },
   "outputs": [
    {
     "name": "stdout",
     "output_type": "stream",
     "text": [
      " "
     ]
    },
    {
     "data": {
      "application/vnd.jupyter.widget-view+json": {
       "model_id": "2ec884b093ba4493b03f136de6e09759",
       "version_major": 2,
       "version_minor": 0
      },
      "text/plain": [
       "Threshold = 70:   0%|          | 0/1 [00:00<?, ?it/s]"
      ]
     },
     "metadata": {},
     "output_type": "display_data"
    },
    {
     "name": "stdout",
     "output_type": "stream",
     "text": [
      "Done!\n"
     ]
    }
   ],
   "source": [
    "#search_performance_parallel(args=(thresholds[i], i, n_epochs, n_hands, None, folder, None, os.getcwd())))\n",
    "search_performance_parallel(70, 0, 1, 100, None, 'thresh70', None, 'thresholds')"
   ]
  },
  {
   "cell_type": "code",
   "execution_count": 51,
   "metadata": {
    "collapsed": true,
    "jupyter": {
     "outputs_hidden": true
    }
   },
   "outputs": [
    {
     "name": "stdout",
     "output_type": "stream",
     "text": [
      "           "
     ]
    },
    {
     "data": {
      "application/vnd.jupyter.widget-view+json": {
       "model_id": "01b0ed05524a482d94d3f1ed464da772",
       "version_major": 2,
       "version_minor": 0
      },
      "text/plain": [
       "Threshold = 75:   0%|          | 0/100 [00:00<?, ?it/s]"
      ]
     },
     "metadata": {},
     "output_type": "display_data"
    },
    {
     "data": {
      "application/vnd.jupyter.widget-view+json": {
       "model_id": "d6404c6aedfa46708be2e4af3bea002e",
       "version_major": 2,
       "version_minor": 0
      },
      "text/plain": [
       "Threshold = 76:   0%|          | 0/100 [00:00<?, ?it/s]"
      ]
     },
     "metadata": {},
     "output_type": "display_data"
    },
    {
     "data": {
      "application/vnd.jupyter.widget-view+json": {
       "model_id": "f61553d926df49bea5cb75ef5763b43a",
       "version_major": 2,
       "version_minor": 0
      },
      "text/plain": [
       "Threshold = 74:   0%|          | 0/100 [00:00<?, ?it/s]"
      ]
     },
     "metadata": {},
     "output_type": "display_data"
    },
    {
     "data": {
      "application/vnd.jupyter.widget-view+json": {
       "model_id": "2287e7a8c5d04abd99a90a113318ae46",
       "version_major": 2,
       "version_minor": 0
      },
      "text/plain": [
       "Threshold = 73:   0%|          | 0/100 [00:00<?, ?it/s]"
      ]
     },
     "metadata": {},
     "output_type": "display_data"
    },
    {
     "data": {
      "application/vnd.jupyter.widget-view+json": {
       "model_id": "7699ab19b2064e0ab6d50d7ea0c602f4",
       "version_major": 2,
       "version_minor": 0
      },
      "text/plain": [
       "Threshold = 70:   0%|          | 0/100 [00:00<?, ?it/s]"
      ]
     },
     "metadata": {},
     "output_type": "display_data"
    },
    {
     "data": {
      "application/vnd.jupyter.widget-view+json": {
       "model_id": "86ae364733794af5986bd0df401cca28",
       "version_major": 2,
       "version_minor": 0
      },
      "text/plain": [
       "Threshold = 72:   0%|          | 0/100 [00:00<?, ?it/s]"
      ]
     },
     "metadata": {},
     "output_type": "display_data"
    },
    {
     "data": {
      "application/vnd.jupyter.widget-view+json": {
       "model_id": "f2a73208bbd14bfe8b82321188179e08",
       "version_major": 2,
       "version_minor": 0
      },
      "text/plain": [
       "Threshold = 71:   0%|          | 0/100 [00:00<?, ?it/s]"
      ]
     },
     "metadata": {},
     "output_type": "display_data"
    },
    {
     "data": {
      "application/vnd.jupyter.widget-view+json": {
       "model_id": "4bd7747155ae4232b012653b65912d65",
       "version_major": 2,
       "version_minor": 0
      },
      "text/plain": [
       "Threshold = 79:   0%|          | 0/100 [00:00<?, ?it/s]"
      ]
     },
     "metadata": {},
     "output_type": "display_data"
    },
    {
     "data": {
      "application/vnd.jupyter.widget-view+json": {
       "model_id": "07e527ddc73c4058a18944394d786d3f",
       "version_major": 2,
       "version_minor": 0
      },
      "text/plain": [
       "Threshold = 78:   0%|          | 0/100 [00:00<?, ?it/s]"
      ]
     },
     "metadata": {},
     "output_type": "display_data"
    },
    {
     "data": {
      "application/vnd.jupyter.widget-view+json": {
       "model_id": "d0746765e7c549578d92b37edfa2e5d8",
       "version_major": 2,
       "version_minor": 0
      },
      "text/plain": [
       "Threshold = 77:   0%|          | 0/100 [00:00<?, ?it/s]"
      ]
     },
     "metadata": {},
     "output_type": "display_data"
    },
    {
     "data": {
      "application/vnd.jupyter.widget-view+json": {
       "model_id": "021c8171f1fe407fa6bb5dc84fd1f06c",
       "version_major": 2,
       "version_minor": 0
      },
      "text/plain": [
       "Threshold = 80:   0%|          | 0/100 [00:00<?, ?it/s]"
      ]
     },
     "metadata": {},
     "output_type": "display_data"
    },
    {
     "name": "stdout",
     "output_type": "stream",
     "text": [
      " "
     ]
    },
    {
     "data": {
      "application/vnd.jupyter.widget-view+json": {
       "model_id": "4d3074824ec34b83a048a771ae3c069b",
       "version_major": 2,
       "version_minor": 0
      },
      "text/plain": [
       "Threshold = 81:   0%|          | 0/100 [00:00<?, ?it/s]"
      ]
     },
     "metadata": {},
     "output_type": "display_data"
    },
    {
     "name": "stdout",
     "output_type": "stream",
     "text": [
      " "
     ]
    },
    {
     "data": {
      "application/vnd.jupyter.widget-view+json": {
       "model_id": "80c228940279441e948722b3695457b4",
       "version_major": 2,
       "version_minor": 0
      },
      "text/plain": [
       "Threshold = 82:   0%|          | 0/100 [00:00<?, ?it/s]"
      ]
     },
     "metadata": {},
     "output_type": "display_data"
    },
    {
     "name": "stdout",
     "output_type": "stream",
     "text": [
      " "
     ]
    },
    {
     "data": {
      "application/vnd.jupyter.widget-view+json": {
       "model_id": "4bf45110d4044000be86eaff33d63a65",
       "version_major": 2,
       "version_minor": 0
      },
      "text/plain": [
       "Threshold = 83:   0%|          | 0/100 [00:00<?, ?it/s]"
      ]
     },
     "metadata": {},
     "output_type": "display_data"
    },
    {
     "name": "stdout",
     "output_type": "stream",
     "text": [
      " "
     ]
    },
    {
     "data": {
      "application/vnd.jupyter.widget-view+json": {
       "model_id": "8da46c07cbae47c9975dadee5891445f",
       "version_major": 2,
       "version_minor": 0
      },
      "text/plain": [
       "Threshold = 84:   0%|          | 0/100 [00:00<?, ?it/s]"
      ]
     },
     "metadata": {},
     "output_type": "display_data"
    },
    {
     "name": "stdout",
     "output_type": "stream",
     "text": [
      " "
     ]
    },
    {
     "data": {
      "application/vnd.jupyter.widget-view+json": {
       "model_id": "24a7410c23954b5ebdc073f7646db718",
       "version_major": 2,
       "version_minor": 0
      },
      "text/plain": [
       "Threshold = 85:   0%|          | 0/100 [00:00<?, ?it/s]"
      ]
     },
     "metadata": {},
     "output_type": "display_data"
    },
    {
     "name": "stdout",
     "output_type": "stream",
     "text": [
      " "
     ]
    },
    {
     "data": {
      "application/vnd.jupyter.widget-view+json": {
       "model_id": "c11954ac4bf5488fb66bf64c94cc8bee",
       "version_major": 2,
       "version_minor": 0
      },
      "text/plain": [
       "Threshold = 86:   0%|          | 0/100 [00:00<?, ?it/s]"
      ]
     },
     "metadata": {},
     "output_type": "display_data"
    },
    {
     "name": "stdout",
     "output_type": "stream",
     "text": [
      " "
     ]
    },
    {
     "data": {
      "application/vnd.jupyter.widget-view+json": {
       "model_id": "4b705188c65d4fd7beab24ac7b4bc432",
       "version_major": 2,
       "version_minor": 0
      },
      "text/plain": [
       "Threshold = 87:   0%|          | 0/100 [00:00<?, ?it/s]"
      ]
     },
     "metadata": {},
     "output_type": "display_data"
    },
    {
     "name": "stdout",
     "output_type": "stream",
     "text": [
      " "
     ]
    },
    {
     "data": {
      "application/vnd.jupyter.widget-view+json": {
       "model_id": "323c451b965e43debe1a4d35028adf07",
       "version_major": 2,
       "version_minor": 0
      },
      "text/plain": [
       "Threshold = 88:   0%|          | 0/100 [00:00<?, ?it/s]"
      ]
     },
     "metadata": {},
     "output_type": "display_data"
    },
    {
     "name": "stdout",
     "output_type": "stream",
     "text": [
      " "
     ]
    },
    {
     "data": {
      "application/vnd.jupyter.widget-view+json": {
       "model_id": "67b7bdc0d373402196a34784b3e158f3",
       "version_major": 2,
       "version_minor": 0
      },
      "text/plain": [
       "Threshold = 89:   0%|          | 0/100 [00:00<?, ?it/s]"
      ]
     },
     "metadata": {},
     "output_type": "display_data"
    },
    {
     "name": "stdout",
     "output_type": "stream",
     "text": [
      " "
     ]
    },
    {
     "data": {
      "application/vnd.jupyter.widget-view+json": {
       "model_id": "247d9bd751cd45409578b6e39666641d",
       "version_major": 2,
       "version_minor": 0
      },
      "text/plain": [
       "Threshold = 90:   0%|          | 0/100 [00:00<?, ?it/s]"
      ]
     },
     "metadata": {},
     "output_type": "display_data"
    },
    {
     "name": "stdout",
     "output_type": "stream",
     "text": [
      " "
     ]
    },
    {
     "data": {
      "application/vnd.jupyter.widget-view+json": {
       "model_id": "137d667527844f9aa539fc030943d46f",
       "version_major": 2,
       "version_minor": 0
      },
      "text/plain": [
       "Threshold = 91:   0%|          | 0/100 [00:00<?, ?it/s]"
      ]
     },
     "metadata": {},
     "output_type": "display_data"
    },
    {
     "name": "stdout",
     "output_type": "stream",
     "text": [
      "Done!\n",
      "This took 13940.68 seconds\n",
      "This took 232.34 minutes\n",
      "This took 3.87 hours\n",
      "CPU times: user 25 s, sys: 24.9 s, total: 49.9 s\n",
      "Wall time: 3h 52min 20s\n"
     ]
    }
   ],
   "source": [
    "%%time\n",
    "# goal is to do a million each, so 10^2 epochs x 10^4 hands per epoch seems fine\n",
    "thresholds=range(70,92)\n",
    "parallel_search_wrapper(thresholds=thresholds, n_epochs=1e2, n_hands=1e4, ROOT_DIR='thresholds/')"
   ]
  },
  {
   "cell_type": "markdown",
   "metadata": {},
   "source": [
    "# Metric should be $\\Delta$ points, not total points\n",
    "\n",
    "If the opponents call it always, you get 0 called points, but you might euchre them a lot, meaning you get more points than them"
   ]
  },
  {
   "cell_type": "markdown",
   "metadata": {},
   "source": [
    "### Making the original graph (threshold vs performance, 55-100, shallow), but with this new understanding"
   ]
  },
  {
   "cell_type": "code",
   "execution_count": null,
   "metadata": {
    "collapsed": true,
    "jupyter": {
     "outputs_hidden": true
    }
   },
   "outputs": [
    {
     "name": "stdout",
     "output_type": "stream",
     "text": [
      "        "
     ]
    },
    {
     "data": {
      "application/vnd.jupyter.widget-view+json": {
       "model_id": "2096e2675d1146228642ff7b5e45ce5a",
       "version_major": 2,
       "version_minor": 0
      },
      "text/plain": [
       "Threshold = 56:   0%|          | 0/10 [00:00<?, ?it/s]"
      ]
     },
     "metadata": {},
     "output_type": "display_data"
    },
    {
     "data": {
      "application/vnd.jupyter.widget-view+json": {
       "model_id": "9e66e5308d6b44b8a909010242bd9063",
       "version_major": 2,
       "version_minor": 0
      },
      "text/plain": [
       "Threshold = 57:   0%|          | 0/10 [00:00<?, ?it/s]"
      ]
     },
     "metadata": {},
     "output_type": "display_data"
    },
    {
     "data": {
      "application/vnd.jupyter.widget-view+json": {
       "model_id": "c05aa81960cc45f6bbdc0c74c30765c4",
       "version_major": 2,
       "version_minor": 0
      },
      "text/plain": [
       "Threshold = 61:   0%|          | 0/10 [00:00<?, ?it/s]"
      ]
     },
     "metadata": {},
     "output_type": "display_data"
    },
    {
     "data": {
      "application/vnd.jupyter.widget-view+json": {
       "model_id": "81e57ce6f2c64e6e87e7fa1ce1959e75",
       "version_major": 2,
       "version_minor": 0
      },
      "text/plain": [
       "Threshold = 58:   0%|          | 0/10 [00:00<?, ?it/s]"
      ]
     },
     "metadata": {},
     "output_type": "display_data"
    },
    {
     "data": {
      "application/vnd.jupyter.widget-view+json": {
       "model_id": "36be27e89d0a43c491222323458a519f",
       "version_major": 2,
       "version_minor": 0
      },
      "text/plain": [
       "Threshold = 62:   0%|          | 0/10 [00:00<?, ?it/s]"
      ]
     },
     "metadata": {},
     "output_type": "display_data"
    },
    {
     "data": {
      "application/vnd.jupyter.widget-view+json": {
       "model_id": "d2a72874e3124815b7f28a82fa604fca",
       "version_major": 2,
       "version_minor": 0
      },
      "text/plain": [
       "Threshold = 59:   0%|          | 0/10 [00:00<?, ?it/s]"
      ]
     },
     "metadata": {},
     "output_type": "display_data"
    },
    {
     "data": {
      "application/vnd.jupyter.widget-view+json": {
       "model_id": "1cc7d27d3b94423a8080e095de85f373",
       "version_major": 2,
       "version_minor": 0
      },
      "text/plain": [
       "Threshold = 55:   0%|          | 0/10 [00:00<?, ?it/s]"
      ]
     },
     "metadata": {},
     "output_type": "display_data"
    },
    {
     "data": {
      "application/vnd.jupyter.widget-view+json": {
       "model_id": "3f6139f27f5d4049982ffc7a30247e0f",
       "version_major": 2,
       "version_minor": 0
      },
      "text/plain": [
       "Threshold = 60:   0%|          | 0/10 [00:00<?, ?it/s]"
      ]
     },
     "metadata": {},
     "output_type": "display_data"
    },
    {
     "name": "stdout",
     "output_type": "stream",
     "text": [
      "   "
     ]
    },
    {
     "data": {
      "application/vnd.jupyter.widget-view+json": {
       "model_id": "776d8152cfcb47d4b192466408e499aa",
       "version_major": 2,
       "version_minor": 0
      },
      "text/plain": [
       "Threshold = 63:   0%|          | 0/10 [00:00<?, ?it/s]"
      ]
     },
     "metadata": {},
     "output_type": "display_data"
    },
    {
     "name": "stdout",
     "output_type": "stream",
     "text": [
      " "
     ]
    },
    {
     "data": {
      "application/vnd.jupyter.widget-view+json": {
       "model_id": "34d4c7287b574059ad41e082fc6cd2c6",
       "version_major": 2,
       "version_minor": 0
      },
      "text/plain": [
       "Threshold = 64:   0%|          | 0/10 [00:00<?, ?it/s]"
      ]
     },
     "metadata": {},
     "output_type": "display_data"
    },
    {
     "data": {
      "application/vnd.jupyter.widget-view+json": {
       "model_id": "cdfd661449714085a08e5b2a414d38da",
       "version_major": 2,
       "version_minor": 0
      },
      "text/plain": [
       "Threshold = 65:   0%|          | 0/10 [00:00<?, ?it/s]"
      ]
     },
     "metadata": {},
     "output_type": "display_data"
    },
    {
     "name": "stdout",
     "output_type": "stream",
     "text": [
      "   "
     ]
    },
    {
     "data": {
      "application/vnd.jupyter.widget-view+json": {
       "model_id": "5c47267d0b754d31857d4c1f9ccaba17",
       "version_major": 2,
       "version_minor": 0
      },
      "text/plain": [
       "Threshold = 66:   0%|          | 0/10 [00:00<?, ?it/s]"
      ]
     },
     "metadata": {},
     "output_type": "display_data"
    },
    {
     "data": {
      "application/vnd.jupyter.widget-view+json": {
       "model_id": "bf17c9e4fd0141fdab4697ea17c74739",
       "version_major": 2,
       "version_minor": 0
      },
      "text/plain": [
       "Threshold = 67:   0%|          | 0/10 [00:00<?, ?it/s]"
      ]
     },
     "metadata": {},
     "output_type": "display_data"
    },
    {
     "data": {
      "application/vnd.jupyter.widget-view+json": {
       "model_id": "bf1b6677f5e74ec4832e2cd732c9b5d7",
       "version_major": 2,
       "version_minor": 0
      },
      "text/plain": [
       "Threshold = 68:   0%|          | 0/10 [00:00<?, ?it/s]"
      ]
     },
     "metadata": {},
     "output_type": "display_data"
    },
    {
     "data": {
      "application/vnd.jupyter.widget-view+json": {
       "model_id": "09ba703b0d7c4acdabe5dff3c38bf380",
       "version_major": 2,
       "version_minor": 0
      },
      "text/plain": [
       "Threshold = 69:   0%|          | 0/10 [00:00<?, ?it/s]"
      ]
     },
     "metadata": {},
     "output_type": "display_data"
    },
    {
     "name": "stdout",
     "output_type": "stream",
     "text": [
      " "
     ]
    },
    {
     "data": {
      "application/vnd.jupyter.widget-view+json": {
       "model_id": "51240fb4075e43398efa4a082cb3492e",
       "version_major": 2,
       "version_minor": 0
      },
      "text/plain": [
       "Threshold = 70:   0%|          | 0/10 [00:00<?, ?it/s]"
      ]
     },
     "metadata": {},
     "output_type": "display_data"
    },
    {
     "name": "stdout",
     "output_type": "stream",
     "text": [
      "   "
     ]
    },
    {
     "data": {
      "application/vnd.jupyter.widget-view+json": {
       "model_id": "182a53e4f2694579ab85f53ae805c1be",
       "version_major": 2,
       "version_minor": 0
      },
      "text/plain": [
       "Threshold = 71:   0%|          | 0/10 [00:00<?, ?it/s]"
      ]
     },
     "metadata": {},
     "output_type": "display_data"
    },
    {
     "data": {
      "application/vnd.jupyter.widget-view+json": {
       "model_id": "1b29c0121bd54baa8161f9c9bcca9986",
       "version_major": 2,
       "version_minor": 0
      },
      "text/plain": [
       "Threshold = 72:   0%|          | 0/10 [00:00<?, ?it/s]"
      ]
     },
     "metadata": {},
     "output_type": "display_data"
    },
    {
     "data": {
      "application/vnd.jupyter.widget-view+json": {
       "model_id": "f9b3929f155443169f00d17d0b130f4e",
       "version_major": 2,
       "version_minor": 0
      },
      "text/plain": [
       "Threshold = 73:   0%|          | 0/10 [00:00<?, ?it/s]"
      ]
     },
     "metadata": {},
     "output_type": "display_data"
    },
    {
     "name": "stdout",
     "output_type": "stream",
     "text": [
      "  "
     ]
    },
    {
     "data": {
      "application/vnd.jupyter.widget-view+json": {
       "model_id": "a31a158ee64b409b96763b2558cd76b0",
       "version_major": 2,
       "version_minor": 0
      },
      "text/plain": [
       "Threshold = 74:   0%|          | 0/10 [00:00<?, ?it/s]"
      ]
     },
     "metadata": {},
     "output_type": "display_data"
    },
    {
     "name": "stdout",
     "output_type": "stream",
     "text": [
      " "
     ]
    },
    {
     "data": {
      "application/vnd.jupyter.widget-view+json": {
       "model_id": "ffc9ee92a4444cda809d509aef84ee31",
       "version_major": 2,
       "version_minor": 0
      },
      "text/plain": [
       "Threshold = 75:   0%|          | 0/10 [00:00<?, ?it/s]"
      ]
     },
     "metadata": {},
     "output_type": "display_data"
    },
    {
     "data": {
      "application/vnd.jupyter.widget-view+json": {
       "model_id": "1f376607f3c2425c8fe4950026e78b26",
       "version_major": 2,
       "version_minor": 0
      },
      "text/plain": [
       "Threshold = 76:   0%|          | 0/10 [00:00<?, ?it/s]"
      ]
     },
     "metadata": {},
     "output_type": "display_data"
    },
    {
     "name": "stdout",
     "output_type": "stream",
     "text": [
      " "
     ]
    },
    {
     "data": {
      "application/vnd.jupyter.widget-view+json": {
       "model_id": "2885553e2d4747a583dec7a0a7afa180",
       "version_major": 2,
       "version_minor": 0
      },
      "text/plain": [
       "Threshold = 77:   0%|          | 0/10 [00:00<?, ?it/s]"
      ]
     },
     "metadata": {},
     "output_type": "display_data"
    },
    {
     "name": "stdout",
     "output_type": "stream",
     "text": [
      " "
     ]
    },
    {
     "data": {
      "application/vnd.jupyter.widget-view+json": {
       "model_id": "89a059cd31364554a52cbe35c6e61dfe",
       "version_major": 2,
       "version_minor": 0
      },
      "text/plain": [
       "Threshold = 78:   0%|          | 0/10 [00:00<?, ?it/s]"
      ]
     },
     "metadata": {},
     "output_type": "display_data"
    },
    {
     "name": "stderr",
     "output_type": "stream",
     "text": [
      "Process ForkPoolWorker-7:\n",
      "Process ForkPoolWorker-5:\n",
      "Process ForkPoolWorker-3:\n",
      "Process ForkPoolWorker-8:\n",
      "Process ForkPoolWorker-1:\n",
      "Process ForkPoolWorker-2:\n",
      "Process ForkPoolWorker-4:\n",
      "Process ForkPoolWorker-6:\n",
      "Traceback (most recent call last):\n",
      "Traceback (most recent call last):\n",
      "Traceback (most recent call last):\n",
      "Traceback (most recent call last):\n",
      "Traceback (most recent call last):\n",
      "Traceback (most recent call last):\n"
     ]
    }
   ],
   "source": [
    "%%time\n",
    "parallel_search_wrapper(thresholds=range(55,101), n_epochs=10, n_hands=1000, ROOT_DIR='thresholds')"
   ]
  },
  {
   "cell_type": "code",
   "execution_count": 4,
   "metadata": {
    "collapsed": true,
    "jupyter": {
     "outputs_hidden": true
    }
   },
   "outputs": [
    {
     "name": "stdout",
     "output_type": "stream",
     "text": [
      "         Threshold 88...Threshold 75...Threshold 72...Threshold 86...Threshold 80...Threshold 81...Threshold 74...Threshold 73...\n",
      "\n",
      "\n",
      "\n",
      "\n",
      "\n",
      "\n",
      "\n"
     ]
    },
    {
     "data": {
      "application/vnd.jupyter.widget-view+json": {
       "model_id": "4d3b426dc1d7429696fa4eaa620934de",
       "version_major": 2,
       "version_minor": 0
      },
      "text/plain": [
       "  0%|          | 0/10000 [00:00<?, ?it/s]"
      ]
     },
     "metadata": {},
     "output_type": "display_data"
    },
    {
     "data": {
      "application/vnd.jupyter.widget-view+json": {
       "model_id": "dd2d4bb7b568425aafa1dcd0e0f8283d",
       "version_major": 2,
       "version_minor": 0
      },
      "text/plain": [
       "  0%|          | 0/10000 [00:00<?, ?it/s]"
      ]
     },
     "metadata": {},
     "output_type": "display_data"
    },
    {
     "data": {
      "application/vnd.jupyter.widget-view+json": {
       "model_id": "1b9f11b95bc8489d83e3736a1a496106",
       "version_major": 2,
       "version_minor": 0
      },
      "text/plain": [
       "  0%|          | 0/10000 [00:00<?, ?it/s]"
      ]
     },
     "metadata": {},
     "output_type": "display_data"
    },
    {
     "data": {
      "application/vnd.jupyter.widget-view+json": {
       "model_id": "6d45962928014373bb3a8e9b19121dd4",
       "version_major": 2,
       "version_minor": 0
      },
      "text/plain": [
       "  0%|          | 0/10000 [00:00<?, ?it/s]"
      ]
     },
     "metadata": {},
     "output_type": "display_data"
    },
    {
     "data": {
      "application/vnd.jupyter.widget-view+json": {
       "model_id": "db5908ac993f4a5f901bd0c317e0e995",
       "version_major": 2,
       "version_minor": 0
      },
      "text/plain": [
       "  0%|          | 0/10000 [00:00<?, ?it/s]"
      ]
     },
     "metadata": {},
     "output_type": "display_data"
    },
    {
     "data": {
      "application/vnd.jupyter.widget-view+json": {
       "model_id": "acbe6193f1d14569840f323e20b2b9bf",
       "version_major": 2,
       "version_minor": 0
      },
      "text/plain": [
       "  0%|          | 0/10000 [00:00<?, ?it/s]"
      ]
     },
     "metadata": {},
     "output_type": "display_data"
    },
    {
     "data": {
      "application/vnd.jupyter.widget-view+json": {
       "model_id": "1b9b6f1a8e504511abf58d983dd8ba42",
       "version_major": 2,
       "version_minor": 0
      },
      "text/plain": [
       "  0%|          | 0/10000 [00:00<?, ?it/s]"
      ]
     },
     "metadata": {},
     "output_type": "display_data"
    },
    {
     "data": {
      "application/vnd.jupyter.widget-view+json": {
       "model_id": "d1f0ed3e371a454380140ddb2fea2de5",
       "version_major": 2,
       "version_minor": 0
      },
      "text/plain": [
       "  0%|          | 0/10000 [00:00<?, ?it/s]"
      ]
     },
     "metadata": {},
     "output_type": "display_data"
    },
    {
     "data": {
      "application/vnd.jupyter.widget-view+json": {
       "model_id": "ecdca14fb1d748b3a35d175a893fa812",
       "version_major": 2,
       "version_minor": 0
      },
      "text/plain": [
       "  0%|          | 0/10000 [00:00<?, ?it/s]"
      ]
     },
     "metadata": {},
     "output_type": "display_data"
    },
    {
     "data": {
      "application/vnd.jupyter.widget-view+json": {
       "model_id": "72910acccd5643cf8a3138caa236b33c",
       "version_major": 2,
       "version_minor": 0
      },
      "text/plain": [
       "  0%|          | 0/10000 [00:00<?, ?it/s]"
      ]
     },
     "metadata": {},
     "output_type": "display_data"
    },
    {
     "data": {
      "application/vnd.jupyter.widget-view+json": {
       "model_id": "b05583b4bed34d049aa774d73ff92f28",
       "version_major": 2,
       "version_minor": 0
      },
      "text/plain": [
       "  0%|          | 0/10000 [00:00<?, ?it/s]"
      ]
     },
     "metadata": {},
     "output_type": "display_data"
    },
    {
     "data": {
      "application/vnd.jupyter.widget-view+json": {
       "model_id": "244ffab4554d45728bcd4f24ce22d081",
       "version_major": 2,
       "version_minor": 0
      },
      "text/plain": [
       "  0%|          | 0/10000 [00:00<?, ?it/s]"
      ]
     },
     "metadata": {},
     "output_type": "display_data"
    },
    {
     "data": {
      "application/vnd.jupyter.widget-view+json": {
       "model_id": "d78a09c5e073434f8aa7369e09e5cea6",
       "version_major": 2,
       "version_minor": 0
      },
      "text/plain": [
       "  0%|          | 0/10000 [00:00<?, ?it/s]"
      ]
     },
     "metadata": {},
     "output_type": "display_data"
    },
    {
     "data": {
      "application/vnd.jupyter.widget-view+json": {
       "model_id": "ceae1e96efcc4264874165ce0c41c221",
       "version_major": 2,
       "version_minor": 0
      },
      "text/plain": [
       "  0%|          | 0/10000 [00:00<?, ?it/s]"
      ]
     },
     "metadata": {},
     "output_type": "display_data"
    },
    {
     "data": {
      "application/vnd.jupyter.widget-view+json": {
       "model_id": "9f7c7da6bbc145efb338a121d9f93de4",
       "version_major": 2,
       "version_minor": 0
      },
      "text/plain": [
       "  0%|          | 0/10000 [00:00<?, ?it/s]"
      ]
     },
     "metadata": {},
     "output_type": "display_data"
    },
    {
     "data": {
      "application/vnd.jupyter.widget-view+json": {
       "model_id": "d2415ff469f6428b947fd3dcc3e79b20",
       "version_major": 2,
       "version_minor": 0
      },
      "text/plain": [
       "  0%|          | 0/10000 [00:00<?, ?it/s]"
      ]
     },
     "metadata": {},
     "output_type": "display_data"
    },
    {
     "name": "stdout",
     "output_type": "stream",
     "text": [
      " Threshold 87...  \n",
      "Threshold 89... \n",
      " Threshold 94...Threshold 60...\n",
      "\n",
      "Threshold 58...\n",
      " Threshold 67...\n",
      " Threshold 93... \n",
      "Threshold 69...\n"
     ]
    },
    {
     "data": {
      "application/vnd.jupyter.widget-view+json": {
       "model_id": "375bfd6153f744c39dfb5e19a16802e7",
       "version_major": 2,
       "version_minor": 0
      },
      "text/plain": [
       "  0%|          | 0/10000 [00:00<?, ?it/s]"
      ]
     },
     "metadata": {},
     "output_type": "display_data"
    },
    {
     "data": {
      "application/vnd.jupyter.widget-view+json": {
       "model_id": "6bb08d23c09e46ed8cf04996632210c2",
       "version_major": 2,
       "version_minor": 0
      },
      "text/plain": [
       "  0%|          | 0/10000 [00:00<?, ?it/s]"
      ]
     },
     "metadata": {},
     "output_type": "display_data"
    },
    {
     "data": {
      "application/vnd.jupyter.widget-view+json": {
       "model_id": "53aa6a1a2ef24bdf9807e9638ebbc95c",
       "version_major": 2,
       "version_minor": 0
      },
      "text/plain": [
       "  0%|          | 0/10000 [00:00<?, ?it/s]"
      ]
     },
     "metadata": {},
     "output_type": "display_data"
    },
    {
     "data": {
      "application/vnd.jupyter.widget-view+json": {
       "model_id": "22edde75e453419ba2daa249469502a3",
       "version_major": 2,
       "version_minor": 0
      },
      "text/plain": [
       "  0%|          | 0/10000 [00:00<?, ?it/s]"
      ]
     },
     "metadata": {},
     "output_type": "display_data"
    },
    {
     "data": {
      "application/vnd.jupyter.widget-view+json": {
       "model_id": "c2fe7c2188394c5091539758411b1b8a",
       "version_major": 2,
       "version_minor": 0
      },
      "text/plain": [
       "  0%|          | 0/10000 [00:00<?, ?it/s]"
      ]
     },
     "metadata": {},
     "output_type": "display_data"
    },
    {
     "data": {
      "application/vnd.jupyter.widget-view+json": {
       "model_id": "852b51ccd8ab42c4812e63083782c71f",
       "version_major": 2,
       "version_minor": 0
      },
      "text/plain": [
       "  0%|          | 0/10000 [00:00<?, ?it/s]"
      ]
     },
     "metadata": {},
     "output_type": "display_data"
    },
    {
     "data": {
      "application/vnd.jupyter.widget-view+json": {
       "model_id": "ec9021f9b29a4e27bfe166884f68ff3a",
       "version_major": 2,
       "version_minor": 0
      },
      "text/plain": [
       "  0%|          | 0/10000 [00:00<?, ?it/s]"
      ]
     },
     "metadata": {},
     "output_type": "display_data"
    },
    {
     "data": {
      "application/vnd.jupyter.widget-view+json": {
       "model_id": "30f803b5984648a1afde2b6b10da9bc7",
       "version_major": 2,
       "version_minor": 0
      },
      "text/plain": [
       "  0%|          | 0/10000 [00:00<?, ?it/s]"
      ]
     },
     "metadata": {},
     "output_type": "display_data"
    },
    {
     "data": {
      "application/vnd.jupyter.widget-view+json": {
       "model_id": "c866c40f1c1a44ec8ab1f795b885c0a9",
       "version_major": 2,
       "version_minor": 0
      },
      "text/plain": [
       "  0%|          | 0/10000 [00:00<?, ?it/s]"
      ]
     },
     "metadata": {},
     "output_type": "display_data"
    },
    {
     "data": {
      "application/vnd.jupyter.widget-view+json": {
       "model_id": "25283d0880c1433db182e78958e8085b",
       "version_major": 2,
       "version_minor": 0
      },
      "text/plain": [
       "  0%|          | 0/10000 [00:00<?, ?it/s]"
      ]
     },
     "metadata": {},
     "output_type": "display_data"
    },
    {
     "data": {
      "application/vnd.jupyter.widget-view+json": {
       "model_id": "e806a3d14c0841c0925c20d94866eb00",
       "version_major": 2,
       "version_minor": 0
      },
      "text/plain": [
       "  0%|          | 0/10000 [00:00<?, ?it/s]"
      ]
     },
     "metadata": {},
     "output_type": "display_data"
    },
    {
     "data": {
      "application/vnd.jupyter.widget-view+json": {
       "model_id": "95be8b7d535a43efb5460eda08626fcd",
       "version_major": 2,
       "version_minor": 0
      },
      "text/plain": [
       "  0%|          | 0/10000 [00:00<?, ?it/s]"
      ]
     },
     "metadata": {},
     "output_type": "display_data"
    },
    {
     "data": {
      "application/vnd.jupyter.widget-view+json": {
       "model_id": "d2ad6e0b090a46afb8fc2bc155b132d5",
       "version_major": 2,
       "version_minor": 0
      },
      "text/plain": [
       "  0%|          | 0/10000 [00:00<?, ?it/s]"
      ]
     },
     "metadata": {},
     "output_type": "display_data"
    },
    {
     "data": {
      "application/vnd.jupyter.widget-view+json": {
       "model_id": "5518d79e124f408ea6087e05e83c0e95",
       "version_major": 2,
       "version_minor": 0
      },
      "text/plain": [
       "  0%|          | 0/10000 [00:00<?, ?it/s]"
      ]
     },
     "metadata": {},
     "output_type": "display_data"
    },
    {
     "data": {
      "application/vnd.jupyter.widget-view+json": {
       "model_id": "416a03516bef4e7da4b8eb6f496a3e3b",
       "version_major": 2,
       "version_minor": 0
      },
      "text/plain": [
       "  0%|          | 0/10000 [00:00<?, ?it/s]"
      ]
     },
     "metadata": {},
     "output_type": "display_data"
    },
    {
     "data": {
      "application/vnd.jupyter.widget-view+json": {
       "model_id": "9c87f372a05d489aa11d3e9d9a0328dd",
       "version_major": 2,
       "version_minor": 0
      },
      "text/plain": [
       "  0%|          | 0/10000 [00:00<?, ?it/s]"
      ]
     },
     "metadata": {},
     "output_type": "display_data"
    },
    {
     "name": "stdout",
     "output_type": "stream",
     "text": [
      "  Threshold 68...Threshold 56... \n",
      "\n",
      "Threshold 57...\n",
      "  Threshold 59...Threshold 92...\n",
      "\n",
      " Threshold 66...\n",
      " Threshold 100...\n",
      " Threshold 61...\n"
     ]
    },
    {
     "data": {
      "application/vnd.jupyter.widget-view+json": {
       "model_id": "71631cfc0f7c4cbe8c7c6363f6cef183",
       "version_major": 2,
       "version_minor": 0
      },
      "text/plain": [
       "  0%|          | 0/10000 [00:00<?, ?it/s]"
      ]
     },
     "metadata": {},
     "output_type": "display_data"
    },
    {
     "data": {
      "application/vnd.jupyter.widget-view+json": {
       "model_id": "a2303dc099864bd08b0476ac15d46e8f",
       "version_major": 2,
       "version_minor": 0
      },
      "text/plain": [
       "  0%|          | 0/10000 [00:00<?, ?it/s]"
      ]
     },
     "metadata": {},
     "output_type": "display_data"
    },
    {
     "data": {
      "application/vnd.jupyter.widget-view+json": {
       "model_id": "8c1fe7ad675243508935a75ea0c66b8e",
       "version_major": 2,
       "version_minor": 0
      },
      "text/plain": [
       "  0%|          | 0/10000 [00:00<?, ?it/s]"
      ]
     },
     "metadata": {},
     "output_type": "display_data"
    },
    {
     "data": {
      "application/vnd.jupyter.widget-view+json": {
       "model_id": "3217a8c39b40444c9f497e8ef4777f01",
       "version_major": 2,
       "version_minor": 0
      },
      "text/plain": [
       "  0%|          | 0/10000 [00:00<?, ?it/s]"
      ]
     },
     "metadata": {},
     "output_type": "display_data"
    },
    {
     "data": {
      "application/vnd.jupyter.widget-view+json": {
       "model_id": "b3ec95c76b8142b9a5679f757d632f6d",
       "version_major": 2,
       "version_minor": 0
      },
      "text/plain": [
       "  0%|          | 0/10000 [00:00<?, ?it/s]"
      ]
     },
     "metadata": {},
     "output_type": "display_data"
    },
    {
     "data": {
      "application/vnd.jupyter.widget-view+json": {
       "model_id": "7179186c9d5e4fca8742b9aed75f6b7e",
       "version_major": 2,
       "version_minor": 0
      },
      "text/plain": [
       "  0%|          | 0/10000 [00:00<?, ?it/s]"
      ]
     },
     "metadata": {},
     "output_type": "display_data"
    },
    {
     "data": {
      "application/vnd.jupyter.widget-view+json": {
       "model_id": "cf5174e8db234c879c1a0c7284bdcc83",
       "version_major": 2,
       "version_minor": 0
      },
      "text/plain": [
       "  0%|          | 0/10000 [00:00<?, ?it/s]"
      ]
     },
     "metadata": {},
     "output_type": "display_data"
    },
    {
     "data": {
      "application/vnd.jupyter.widget-view+json": {
       "model_id": "32807f50d0144da78988b8150690d094",
       "version_major": 2,
       "version_minor": 0
      },
      "text/plain": [
       "  0%|          | 0/10000 [00:00<?, ?it/s]"
      ]
     },
     "metadata": {},
     "output_type": "display_data"
    },
    {
     "data": {
      "application/vnd.jupyter.widget-view+json": {
       "model_id": "96fe8087d2394506bcc9ded619ab43d6",
       "version_major": 2,
       "version_minor": 0
      },
      "text/plain": [
       "  0%|          | 0/10000 [00:00<?, ?it/s]"
      ]
     },
     "metadata": {},
     "output_type": "display_data"
    },
    {
     "data": {
      "application/vnd.jupyter.widget-view+json": {
       "model_id": "2d3da3a03faf4f57ba94a8a797820bfa",
       "version_major": 2,
       "version_minor": 0
      },
      "text/plain": [
       "  0%|          | 0/10000 [00:00<?, ?it/s]"
      ]
     },
     "metadata": {},
     "output_type": "display_data"
    },
    {
     "data": {
      "application/vnd.jupyter.widget-view+json": {
       "model_id": "9bc7a842047244ce8f6b8b0a39db4e42",
       "version_major": 2,
       "version_minor": 0
      },
      "text/plain": [
       "  0%|          | 0/10000 [00:00<?, ?it/s]"
      ]
     },
     "metadata": {},
     "output_type": "display_data"
    },
    {
     "data": {
      "application/vnd.jupyter.widget-view+json": {
       "model_id": "d8b8cdd727fb4ed18de8b4b4ded0a901",
       "version_major": 2,
       "version_minor": 0
      },
      "text/plain": [
       "  0%|          | 0/10000 [00:00<?, ?it/s]"
      ]
     },
     "metadata": {},
     "output_type": "display_data"
    },
    {
     "data": {
      "application/vnd.jupyter.widget-view+json": {
       "model_id": "c2f77e44b03c4e70bc5febc7a5e1a1eb",
       "version_major": 2,
       "version_minor": 0
      },
      "text/plain": [
       "  0%|          | 0/10000 [00:00<?, ?it/s]"
      ]
     },
     "metadata": {},
     "output_type": "display_data"
    },
    {
     "data": {
      "application/vnd.jupyter.widget-view+json": {
       "model_id": "d966597857d3481fb3c9476e17370135",
       "version_major": 2,
       "version_minor": 0
      },
      "text/plain": [
       "  0%|          | 0/10000 [00:00<?, ?it/s]"
      ]
     },
     "metadata": {},
     "output_type": "display_data"
    },
    {
     "data": {
      "application/vnd.jupyter.widget-view+json": {
       "model_id": "72f6534961be47d1b2b8d9abed5532b5",
       "version_major": 2,
       "version_minor": 0
      },
      "text/plain": [
       "  0%|          | 0/10000 [00:00<?, ?it/s]"
      ]
     },
     "metadata": {},
     "output_type": "display_data"
    },
    {
     "data": {
      "application/vnd.jupyter.widget-view+json": {
       "model_id": "825e3303eef542a6ac4f00713518ea39",
       "version_major": 2,
       "version_minor": 0
      },
      "text/plain": [
       "  0%|          | 0/10000 [00:00<?, ?it/s]"
      ]
     },
     "metadata": {},
     "output_type": "display_data"
    },
    {
     "name": "stdout",
     "output_type": "stream",
     "text": [
      " Threshold 95...\n",
      "  Threshold 76...Threshold 78...\n",
      "\n",
      " Threshold 82... \n",
      "Threshold 85...\n",
      " Threshold 71...\n",
      " Threshold 70...\n",
      " Threshold 84...\n"
     ]
    },
    {
     "data": {
      "application/vnd.jupyter.widget-view+json": {
       "model_id": "bac4f6173d734f83a9678659692ee1c8",
       "version_major": 2,
       "version_minor": 0
      },
      "text/plain": [
       "  0%|          | 0/10000 [00:00<?, ?it/s]"
      ]
     },
     "metadata": {},
     "output_type": "display_data"
    },
    {
     "data": {
      "application/vnd.jupyter.widget-view+json": {
       "model_id": "c172524e0ad945f9a8115d7c1b36b389",
       "version_major": 2,
       "version_minor": 0
      },
      "text/plain": [
       "  0%|          | 0/10000 [00:00<?, ?it/s]"
      ]
     },
     "metadata": {},
     "output_type": "display_data"
    },
    {
     "data": {
      "application/vnd.jupyter.widget-view+json": {
       "model_id": "7d9c6d3f54944f4a91d2310c1a9b8f2f",
       "version_major": 2,
       "version_minor": 0
      },
      "text/plain": [
       "  0%|          | 0/10000 [00:00<?, ?it/s]"
      ]
     },
     "metadata": {},
     "output_type": "display_data"
    },
    {
     "data": {
      "application/vnd.jupyter.widget-view+json": {
       "model_id": "58fc90c118074a5d83f55015f44894c6",
       "version_major": 2,
       "version_minor": 0
      },
      "text/plain": [
       "  0%|          | 0/10000 [00:00<?, ?it/s]"
      ]
     },
     "metadata": {},
     "output_type": "display_data"
    },
    {
     "data": {
      "application/vnd.jupyter.widget-view+json": {
       "model_id": "b5f7805eff494db2bf31c8f4837cbdd6",
       "version_major": 2,
       "version_minor": 0
      },
      "text/plain": [
       "  0%|          | 0/10000 [00:00<?, ?it/s]"
      ]
     },
     "metadata": {},
     "output_type": "display_data"
    },
    {
     "data": {
      "application/vnd.jupyter.widget-view+json": {
       "model_id": "5e547350a0c24446bb6bd569b079e5fd",
       "version_major": 2,
       "version_minor": 0
      },
      "text/plain": [
       "  0%|          | 0/10000 [00:00<?, ?it/s]"
      ]
     },
     "metadata": {},
     "output_type": "display_data"
    },
    {
     "data": {
      "application/vnd.jupyter.widget-view+json": {
       "model_id": "f0e0aa53972a46858686155160a80b0d",
       "version_major": 2,
       "version_minor": 0
      },
      "text/plain": [
       "  0%|          | 0/10000 [00:00<?, ?it/s]"
      ]
     },
     "metadata": {},
     "output_type": "display_data"
    },
    {
     "data": {
      "application/vnd.jupyter.widget-view+json": {
       "model_id": "364fadb7391a4de3945979f4b4c5e5a8",
       "version_major": 2,
       "version_minor": 0
      },
      "text/plain": [
       "  0%|          | 0/10000 [00:00<?, ?it/s]"
      ]
     },
     "metadata": {},
     "output_type": "display_data"
    },
    {
     "data": {
      "application/vnd.jupyter.widget-view+json": {
       "model_id": "7161c7292c6b44b0b76e9eddae4cfcff",
       "version_major": 2,
       "version_minor": 0
      },
      "text/plain": [
       "  0%|          | 0/10000 [00:00<?, ?it/s]"
      ]
     },
     "metadata": {},
     "output_type": "display_data"
    },
    {
     "data": {
      "application/vnd.jupyter.widget-view+json": {
       "model_id": "809ac62898cf4b2294421a90309ba7d2",
       "version_major": 2,
       "version_minor": 0
      },
      "text/plain": [
       "  0%|          | 0/10000 [00:00<?, ?it/s]"
      ]
     },
     "metadata": {},
     "output_type": "display_data"
    },
    {
     "data": {
      "application/vnd.jupyter.widget-view+json": {
       "model_id": "d1876eb310f44f3c9483295b049ebea3",
       "version_major": 2,
       "version_minor": 0
      },
      "text/plain": [
       "  0%|          | 0/10000 [00:00<?, ?it/s]"
      ]
     },
     "metadata": {},
     "output_type": "display_data"
    },
    {
     "data": {
      "application/vnd.jupyter.widget-view+json": {
       "model_id": "cc931f09c1054a7b94043af97bb21d94",
       "version_major": 2,
       "version_minor": 0
      },
      "text/plain": [
       "  0%|          | 0/10000 [00:00<?, ?it/s]"
      ]
     },
     "metadata": {},
     "output_type": "display_data"
    },
    {
     "data": {
      "application/vnd.jupyter.widget-view+json": {
       "model_id": "2dcf463ed37f48d48fab751832655232",
       "version_major": 2,
       "version_minor": 0
      },
      "text/plain": [
       "  0%|          | 0/10000 [00:00<?, ?it/s]"
      ]
     },
     "metadata": {},
     "output_type": "display_data"
    },
    {
     "data": {
      "application/vnd.jupyter.widget-view+json": {
       "model_id": "3ac6594aad2c4b70893a632d5c21421b",
       "version_major": 2,
       "version_minor": 0
      },
      "text/plain": [
       "  0%|          | 0/10000 [00:00<?, ?it/s]"
      ]
     },
     "metadata": {},
     "output_type": "display_data"
    },
    {
     "data": {
      "application/vnd.jupyter.widget-view+json": {
       "model_id": "2f15b64ce0184181bfe9d69b9f355fff",
       "version_major": 2,
       "version_minor": 0
      },
      "text/plain": [
       "  0%|          | 0/10000 [00:00<?, ?it/s]"
      ]
     },
     "metadata": {},
     "output_type": "display_data"
    },
    {
     "data": {
      "application/vnd.jupyter.widget-view+json": {
       "model_id": "10c5bf8564ec48849b9b4ae456efb9f4",
       "version_major": 2,
       "version_minor": 0
      },
      "text/plain": [
       "  0%|          | 0/10000 [00:00<?, ?it/s]"
      ]
     },
     "metadata": {},
     "output_type": "display_data"
    },
    {
     "name": "stdout",
     "output_type": "stream",
     "text": [
      " Threshold 83...\n",
      " Threshold 77...\n",
      " Threshold 79... \n",
      "Threshold 64... \n",
      "Threshold 90...\n",
      "  Threshold 97...Threshold 63...\n",
      "\n",
      " Threshold 55...\n"
     ]
    },
    {
     "data": {
      "application/vnd.jupyter.widget-view+json": {
       "model_id": "53079ae9b7494ef9a68539b9513f91d4",
       "version_major": 2,
       "version_minor": 0
      },
      "text/plain": [
       "  0%|          | 0/10000 [00:00<?, ?it/s]"
      ]
     },
     "metadata": {},
     "output_type": "display_data"
    },
    {
     "data": {
      "application/vnd.jupyter.widget-view+json": {
       "model_id": "b3fa2719611b4017ba5090083cf1d8c0",
       "version_major": 2,
       "version_minor": 0
      },
      "text/plain": [
       "  0%|          | 0/10000 [00:00<?, ?it/s]"
      ]
     },
     "metadata": {},
     "output_type": "display_data"
    },
    {
     "data": {
      "application/vnd.jupyter.widget-view+json": {
       "model_id": "ccfdd9a79e7b4eacbff91d7aa637dbcd",
       "version_major": 2,
       "version_minor": 0
      },
      "text/plain": [
       "  0%|          | 0/10000 [00:00<?, ?it/s]"
      ]
     },
     "metadata": {},
     "output_type": "display_data"
    },
    {
     "data": {
      "application/vnd.jupyter.widget-view+json": {
       "model_id": "b95ecba5201441dc8127dec24c8aae1c",
       "version_major": 2,
       "version_minor": 0
      },
      "text/plain": [
       "  0%|          | 0/10000 [00:00<?, ?it/s]"
      ]
     },
     "metadata": {},
     "output_type": "display_data"
    },
    {
     "data": {
      "application/vnd.jupyter.widget-view+json": {
       "model_id": "aafefd8534894ac6a90d2830d5159641",
       "version_major": 2,
       "version_minor": 0
      },
      "text/plain": [
       "  0%|          | 0/10000 [00:00<?, ?it/s]"
      ]
     },
     "metadata": {},
     "output_type": "display_data"
    },
    {
     "data": {
      "application/vnd.jupyter.widget-view+json": {
       "model_id": "c78d9716eac04a46a4566fe768768874",
       "version_major": 2,
       "version_minor": 0
      },
      "text/plain": [
       "  0%|          | 0/10000 [00:00<?, ?it/s]"
      ]
     },
     "metadata": {},
     "output_type": "display_data"
    },
    {
     "data": {
      "application/vnd.jupyter.widget-view+json": {
       "model_id": "63c00c23c54448d9b449517c7cfdd252",
       "version_major": 2,
       "version_minor": 0
      },
      "text/plain": [
       "  0%|          | 0/10000 [00:00<?, ?it/s]"
      ]
     },
     "metadata": {},
     "output_type": "display_data"
    },
    {
     "data": {
      "application/vnd.jupyter.widget-view+json": {
       "model_id": "70ffce22031741979db60b75dcc5e545",
       "version_major": 2,
       "version_minor": 0
      },
      "text/plain": [
       "  0%|          | 0/10000 [00:00<?, ?it/s]"
      ]
     },
     "metadata": {},
     "output_type": "display_data"
    },
    {
     "data": {
      "application/vnd.jupyter.widget-view+json": {
       "model_id": "91b028d5407a464ca770614b75fcd42f",
       "version_major": 2,
       "version_minor": 0
      },
      "text/plain": [
       "  0%|          | 0/10000 [00:00<?, ?it/s]"
      ]
     },
     "metadata": {},
     "output_type": "display_data"
    },
    {
     "data": {
      "application/vnd.jupyter.widget-view+json": {
       "model_id": "d0afc11ca535464bbad171c7ecfaae2c",
       "version_major": 2,
       "version_minor": 0
      },
      "text/plain": [
       "  0%|          | 0/10000 [00:00<?, ?it/s]"
      ]
     },
     "metadata": {},
     "output_type": "display_data"
    },
    {
     "data": {
      "application/vnd.jupyter.widget-view+json": {
       "model_id": "88b1eb3cd7954d3996e8606ce335a191",
       "version_major": 2,
       "version_minor": 0
      },
      "text/plain": [
       "  0%|          | 0/10000 [00:00<?, ?it/s]"
      ]
     },
     "metadata": {},
     "output_type": "display_data"
    },
    {
     "data": {
      "application/vnd.jupyter.widget-view+json": {
       "model_id": "6142202d55ea438db2234d62699d0cb4",
       "version_major": 2,
       "version_minor": 0
      },
      "text/plain": [
       "  0%|          | 0/10000 [00:00<?, ?it/s]"
      ]
     },
     "metadata": {},
     "output_type": "display_data"
    },
    {
     "data": {
      "application/vnd.jupyter.widget-view+json": {
       "model_id": "9ac4d42d0a8a431aa697b169506a5f6d",
       "version_major": 2,
       "version_minor": 0
      },
      "text/plain": [
       "  0%|          | 0/10000 [00:00<?, ?it/s]"
      ]
     },
     "metadata": {},
     "output_type": "display_data"
    },
    {
     "data": {
      "application/vnd.jupyter.widget-view+json": {
       "model_id": "7759caf8d36143faa165e26305bbc159",
       "version_major": 2,
       "version_minor": 0
      },
      "text/plain": [
       "  0%|          | 0/10000 [00:00<?, ?it/s]"
      ]
     },
     "metadata": {},
     "output_type": "display_data"
    },
    {
     "data": {
      "application/vnd.jupyter.widget-view+json": {
       "model_id": "e6bdd786546f4b89b6a885b7f4a35ed4",
       "version_major": 2,
       "version_minor": 0
      },
      "text/plain": [
       "  0%|          | 0/10000 [00:00<?, ?it/s]"
      ]
     },
     "metadata": {},
     "output_type": "display_data"
    },
    {
     "data": {
      "application/vnd.jupyter.widget-view+json": {
       "model_id": "d45095dac4e9453ebde46804320df553",
       "version_major": 2,
       "version_minor": 0
      },
      "text/plain": [
       "  0%|          | 0/10000 [00:00<?, ?it/s]"
      ]
     },
     "metadata": {},
     "output_type": "display_data"
    },
    {
     "name": "stdout",
     "output_type": "stream",
     "text": [
      " Threshold 99...\n",
      "  Threshold 98...Threshold 62...\n",
      "\n",
      "  Threshold 96... Threshold 91...\n",
      "Threshold 65...\n",
      "\n"
     ]
    },
    {
     "data": {
      "application/vnd.jupyter.widget-view+json": {
       "model_id": "08273634ea9a41ce8181f37de5032632",
       "version_major": 2,
       "version_minor": 0
      },
      "text/plain": [
       "  0%|          | 0/10000 [00:00<?, ?it/s]"
      ]
     },
     "metadata": {},
     "output_type": "display_data"
    },
    {
     "data": {
      "application/vnd.jupyter.widget-view+json": {
       "model_id": "d03935f2495c4f3f95164a9b91a71ee5",
       "version_major": 2,
       "version_minor": 0
      },
      "text/plain": [
       "  0%|          | 0/10000 [00:00<?, ?it/s]"
      ]
     },
     "metadata": {},
     "output_type": "display_data"
    },
    {
     "data": {
      "application/vnd.jupyter.widget-view+json": {
       "model_id": "19383fa8c0ae4ef290fef1d9ace9bbc0",
       "version_major": 2,
       "version_minor": 0
      },
      "text/plain": [
       "  0%|          | 0/10000 [00:00<?, ?it/s]"
      ]
     },
     "metadata": {},
     "output_type": "display_data"
    },
    {
     "data": {
      "application/vnd.jupyter.widget-view+json": {
       "model_id": "d7164d21bdaa4bd1addae7eb4316dfdb",
       "version_major": 2,
       "version_minor": 0
      },
      "text/plain": [
       "  0%|          | 0/10000 [00:00<?, ?it/s]"
      ]
     },
     "metadata": {},
     "output_type": "display_data"
    },
    {
     "data": {
      "application/vnd.jupyter.widget-view+json": {
       "model_id": "bbfd6242ebd04df8b49f4e60ba56c60a",
       "version_major": 2,
       "version_minor": 0
      },
      "text/plain": [
       "  0%|          | 0/10000 [00:00<?, ?it/s]"
      ]
     },
     "metadata": {},
     "output_type": "display_data"
    },
    {
     "data": {
      "application/vnd.jupyter.widget-view+json": {
       "model_id": "2e718d23aee94e66a617e960bd0da38d",
       "version_major": 2,
       "version_minor": 0
      },
      "text/plain": [
       "  0%|          | 0/10000 [00:00<?, ?it/s]"
      ]
     },
     "metadata": {},
     "output_type": "display_data"
    },
    {
     "data": {
      "application/vnd.jupyter.widget-view+json": {
       "model_id": "f0d233cc41454edb84d6729ddc56eb65",
       "version_major": 2,
       "version_minor": 0
      },
      "text/plain": [
       "  0%|          | 0/10000 [00:00<?, ?it/s]"
      ]
     },
     "metadata": {},
     "output_type": "display_data"
    },
    {
     "data": {
      "application/vnd.jupyter.widget-view+json": {
       "model_id": "f1a7566af78e478c9fd341fe9bd2ab03",
       "version_major": 2,
       "version_minor": 0
      },
      "text/plain": [
       "  0%|          | 0/10000 [00:00<?, ?it/s]"
      ]
     },
     "metadata": {},
     "output_type": "display_data"
    },
    {
     "data": {
      "application/vnd.jupyter.widget-view+json": {
       "model_id": "5b127cd9bc8c4ab1a3cbd2b5305c867b",
       "version_major": 2,
       "version_minor": 0
      },
      "text/plain": [
       "  0%|          | 0/10000 [00:00<?, ?it/s]"
      ]
     },
     "metadata": {},
     "output_type": "display_data"
    },
    {
     "data": {
      "application/vnd.jupyter.widget-view+json": {
       "model_id": "abe6abb4d747486cbf3fe02e49c527dd",
       "version_major": 2,
       "version_minor": 0
      },
      "text/plain": [
       "  0%|          | 0/10000 [00:00<?, ?it/s]"
      ]
     },
     "metadata": {},
     "output_type": "display_data"
    },
    {
     "data": {
      "application/vnd.jupyter.widget-view+json": {
       "model_id": "a116b492a37b43d79e01f2e09afbb92b",
       "version_major": 2,
       "version_minor": 0
      },
      "text/plain": [
       "  0%|          | 0/10000 [00:00<?, ?it/s]"
      ]
     },
     "metadata": {},
     "output_type": "display_data"
    },
    {
     "data": {
      "application/vnd.jupyter.widget-view+json": {
       "model_id": "afee86b3ceec49f885adca35e4973171",
       "version_major": 2,
       "version_minor": 0
      },
      "text/plain": [
       "  0%|          | 0/10000 [00:00<?, ?it/s]"
      ]
     },
     "metadata": {},
     "output_type": "display_data"
    },
    {
     "name": "stdout",
     "output_type": "stream",
     "text": [
      "Done!\n",
      "CPU times: user 1.33 s, sys: 1.08 s, total: 2.42 s\n",
      "Wall time: 8.63 s\n"
     ]
    }
   ],
   "source": [
    "%%time\n",
    "get_performance(ROOT_DIR=os.path.join(os.getcwd(), 'thresholds'), use_mp=True, amount_tqdm=2)"
   ]
  },
  {
   "cell_type": "code",
   "execution_count": 6,
   "metadata": {},
   "outputs": [
    {
     "data": {
      "image/png": "[encoded data removed]",
      "text/plain": [
       "<Figure size 432x288 with 1 Axes>"
      ]
     },
     "metadata": {
      "needs_background": "light"
     },
     "output_type": "display_data"
    }
   ],
   "source": [
    "df = pd.read_csv('thresholds/performance.csv').sort_values('Threshold')\n",
    "points, error = df['TotalSum']-df['OppSum'], np.sqrt(df['TotalStd']**2 + df['OppStd']**2)\n",
    "plt.plot(df['Threshold'], points)\n",
    "plt.fill_between(df['Threshold'], points+error, points-error, alpha=0.2, facecolor='gray')\n",
    "plt.xlabel('Calling threshold')\n",
    "plt.ylabel('Net points in 10,000 hands')\n",
    "mx_thresh = df[(df['TotalSum']-df['OppSum'])==(df['TotalSum']-df['OppSum']).max()]['Threshold']\n",
    "plt.title('Threshold vs performance (opp = 70, max at %i)' %mx_thresh)\n",
    "\n",
    "if 'figs' not in os.listdir():\n",
    "    os.mkdir('figs')\n",
    "plt.savefig('figs/threshold_vs_performance_shallow.png')\n",
    "\n",
    "plt.show()"
   ]
  },
  {
   "cell_type": "markdown",
   "metadata": {},
   "source": [
    "### Making the second graph, thresh vs performance for varying opp thresholds"
   ]
  },
  {
   "cell_type": "code",
   "execution_count": 14,
   "metadata": {
    "collapsed": true,
    "jupyter": {
     "outputs_hidden": true
    }
   },
   "outputs": [
    {
     "name": "stdout",
     "output_type": "stream",
     "text": [
      "\n",
      "OPP THRESHOLD: 60\n",
      "        "
     ]
    },
    {
     "data": {
      "application/vnd.jupyter.widget-view+json": {
       "model_id": "eb4c113c6f48441c984b5dc3c2e6f905",
       "version_major": 2,
       "version_minor": 0
      },
      "text/plain": [
       "Threshold = 71:   0%|          | 0/100 [00:00<?, ?it/s]"
      ]
     },
     "metadata": {},
     "output_type": "display_data"
    },
    {
     "data": {
      "application/vnd.jupyter.widget-view+json": {
       "model_id": "1f956537d1f74b7b9f381e9ff3ad6657",
       "version_major": 2,
       "version_minor": 0
      },
      "text/plain": [
       "Threshold = 65:   0%|          | 0/100 [00:00<?, ?it/s]"
      ]
     },
     "metadata": {},
     "output_type": "display_data"
    },
    {
     "data": {
      "application/vnd.jupyter.widget-view+json": {
       "model_id": "ef7bab8481304bb5b2936c92c3ecc1f8",
       "version_major": 2,
       "version_minor": 0
      },
      "text/plain": [
       "Threshold = 66:   0%|          | 0/100 [00:00<?, ?it/s]"
      ]
     },
     "metadata": {},
     "output_type": "display_data"
    },
    {
     "data": {
      "application/vnd.jupyter.widget-view+json": {
       "model_id": "9fd185b9de3d4d24b19e47d8ce0c5c4a",
       "version_major": 2,
       "version_minor": 0
      },
      "text/plain": [
       "Threshold = 67:   0%|          | 0/100 [00:00<?, ?it/s]"
      ]
     },
     "metadata": {},
     "output_type": "display_data"
    },
    {
     "data": {
      "application/vnd.jupyter.widget-view+json": {
       "model_id": "3f2ccc4aa680488fa3dafae232e3a244",
       "version_major": 2,
       "version_minor": 0
      },
      "text/plain": [
       "Threshold = 70:   0%|          | 0/100 [00:00<?, ?it/s]"
      ]
     },
     "metadata": {},
     "output_type": "display_data"
    },
    {
     "data": {
      "application/vnd.jupyter.widget-view+json": {
       "model_id": "c5c871054059489993875ce94771d24a",
       "version_major": 2,
       "version_minor": 0
      },
      "text/plain": [
       "Threshold = 68:   0%|          | 0/100 [00:00<?, ?it/s]"
      ]
     },
     "metadata": {},
     "output_type": "display_data"
    },
    {
     "data": {
      "application/vnd.jupyter.widget-view+json": {
       "model_id": "e5b6b104bc8b4f2b98455c96e6cd7af9",
       "version_major": 2,
       "version_minor": 0
      },
      "text/plain": [
       "Threshold = 69:   0%|          | 0/100 [00:00<?, ?it/s]"
      ]
     },
     "metadata": {},
     "output_type": "display_data"
    },
    {
     "data": {
      "application/vnd.jupyter.widget-view+json": {
       "model_id": "5d73f7432e3442d189b16acb4eb6167e",
       "version_major": 2,
       "version_minor": 0
      },
      "text/plain": [
       "Threshold = 72:   0%|          | 0/100 [00:00<?, ?it/s]"
      ]
     },
     "metadata": {},
     "output_type": "display_data"
    },
    {
     "name": "stdout",
     "output_type": "stream",
     "text": [
      " "
     ]
    },
    {
     "data": {
      "application/vnd.jupyter.widget-view+json": {
       "model_id": "1128485ad4244cc6a2826d7f4d4158ae",
       "version_major": 2,
       "version_minor": 0
      },
      "text/plain": [
       "Threshold = 73:   0%|          | 0/100 [00:00<?, ?it/s]"
      ]
     },
     "metadata": {},
     "output_type": "display_data"
    },
    {
     "name": "stdout",
     "output_type": "stream",
     "text": [
      " "
     ]
    },
    {
     "data": {
      "application/vnd.jupyter.widget-view+json": {
       "model_id": "7709346c0c394fbeafc1bde7759a33cb",
       "version_major": 2,
       "version_minor": 0
      },
      "text/plain": [
       "Threshold = 74:   0%|          | 0/100 [00:00<?, ?it/s]"
      ]
     },
     "metadata": {},
     "output_type": "display_data"
    },
    {
     "name": "stdout",
     "output_type": "stream",
     "text": [
      " "
     ]
    },
    {
     "data": {
      "application/vnd.jupyter.widget-view+json": {
       "model_id": "7f17e219bc4b4b04808594dfbebdf0bf",
       "version_major": 2,
       "version_minor": 0
      },
      "text/plain": [
       "Threshold = 75:   0%|          | 0/100 [00:00<?, ?it/s]"
      ]
     },
     "metadata": {},
     "output_type": "display_data"
    },
    {
     "name": "stdout",
     "output_type": "stream",
     "text": [
      " "
     ]
    },
    {
     "data": {
      "application/vnd.jupyter.widget-view+json": {
       "model_id": "bfb7bf4cc5a246769859d3c75531fb0a",
       "version_major": 2,
       "version_minor": 0
      },
      "text/plain": [
       "Threshold = 76:   0%|          | 0/100 [00:00<?, ?it/s]"
      ]
     },
     "metadata": {},
     "output_type": "display_data"
    },
    {
     "name": "stdout",
     "output_type": "stream",
     "text": [
      " "
     ]
    },
    {
     "data": {
      "application/vnd.jupyter.widget-view+json": {
       "model_id": "fcd05f4c85fb43babd369ad9361a1901",
       "version_major": 2,
       "version_minor": 0
      },
      "text/plain": [
       "Threshold = 77:   0%|          | 0/100 [00:00<?, ?it/s]"
      ]
     },
     "metadata": {},
     "output_type": "display_data"
    },
    {
     "name": "stdout",
     "output_type": "stream",
     "text": [
      " "
     ]
    },
    {
     "data": {
      "application/vnd.jupyter.widget-view+json": {
       "model_id": "69598acdc2d344018e04d00201461cea",
       "version_major": 2,
       "version_minor": 0
      },
      "text/plain": [
       "Threshold = 78:   0%|          | 0/100 [00:00<?, ?it/s]"
      ]
     },
     "metadata": {},
     "output_type": "display_data"
    },
    {
     "name": "stdout",
     "output_type": "stream",
     "text": [
      " "
     ]
    },
    {
     "data": {
      "application/vnd.jupyter.widget-view+json": {
       "model_id": "6a3a4c2aa47d4659a12f70d96f450172",
       "version_major": 2,
       "version_minor": 0
      },
      "text/plain": [
       "Threshold = 79:   0%|          | 0/100 [00:00<?, ?it/s]"
      ]
     },
     "metadata": {},
     "output_type": "display_data"
    },
    {
     "name": "stdout",
     "output_type": "stream",
     "text": [
      " "
     ]
    },
    {
     "data": {
      "application/vnd.jupyter.widget-view+json": {
       "model_id": "5851c6796dcd44f0887247929d748f0b",
       "version_major": 2,
       "version_minor": 0
      },
      "text/plain": [
       "Threshold = 80:   0%|          | 0/100 [00:00<?, ?it/s]"
      ]
     },
     "metadata": {},
     "output_type": "display_data"
    },
    {
     "name": "stdout",
     "output_type": "stream",
     "text": [
      " "
     ]
    },
    {
     "data": {
      "application/vnd.jupyter.widget-view+json": {
       "model_id": "a1ed1cc261e9433dacbf643e3f6ac6f3",
       "version_major": 2,
       "version_minor": 0
      },
      "text/plain": [
       "Threshold = 81:   0%|          | 0/100 [00:00<?, ?it/s]"
      ]
     },
     "metadata": {},
     "output_type": "display_data"
    },
    {
     "name": "stdout",
     "output_type": "stream",
     "text": [
      " "
     ]
    },
    {
     "data": {
      "application/vnd.jupyter.widget-view+json": {
       "model_id": "68023273fc2b427abb5cfc9e25acba29",
       "version_major": 2,
       "version_minor": 0
      },
      "text/plain": [
       "Threshold = 82:   0%|          | 0/100 [00:00<?, ?it/s]"
      ]
     },
     "metadata": {},
     "output_type": "display_data"
    },
    {
     "name": "stdout",
     "output_type": "stream",
     "text": [
      " "
     ]
    },
    {
     "data": {
      "application/vnd.jupyter.widget-view+json": {
       "model_id": "68c036bb976e4938a512282909b186db",
       "version_major": 2,
       "version_minor": 0
      },
      "text/plain": [
       "Threshold = 83:   0%|          | 0/100 [00:00<?, ?it/s]"
      ]
     },
     "metadata": {},
     "output_type": "display_data"
    },
    {
     "name": "stdout",
     "output_type": "stream",
     "text": [
      " "
     ]
    },
    {
     "data": {
      "application/vnd.jupyter.widget-view+json": {
       "model_id": "9a92191e89814f7f8e301e4389df5a8d",
       "version_major": 2,
       "version_minor": 0
      },
      "text/plain": [
       "Threshold = 84:   0%|          | 0/100 [00:00<?, ?it/s]"
      ]
     },
     "metadata": {},
     "output_type": "display_data"
    },
    {
     "name": "stdout",
     "output_type": "stream",
     "text": [
      " "
     ]
    },
    {
     "data": {
      "application/vnd.jupyter.widget-view+json": {
       "model_id": "32403857ebc24796b4002e377ac5c72f",
       "version_major": 2,
       "version_minor": 0
      },
      "text/plain": [
       "Threshold = 85:   0%|          | 0/100 [00:00<?, ?it/s]"
      ]
     },
     "metadata": {},
     "output_type": "display_data"
    },
    {
     "name": "stdout",
     "output_type": "stream",
     "text": [
      " "
     ]
    },
    {
     "data": {
      "application/vnd.jupyter.widget-view+json": {
       "model_id": "2d0d4e54de204a75a1ac0677277d1e8a",
       "version_major": 2,
       "version_minor": 0
      },
      "text/plain": [
       "Threshold = 86:   0%|          | 0/100 [00:00<?, ?it/s]"
      ]
     },
     "metadata": {},
     "output_type": "display_data"
    },
    {
     "name": "stdout",
     "output_type": "stream",
     "text": [
      " "
     ]
    },
    {
     "data": {
      "application/vnd.jupyter.widget-view+json": {
       "model_id": "4b755a1743b4498ca6642af44133f686",
       "version_major": 2,
       "version_minor": 0
      },
      "text/plain": [
       "Threshold = 87:   0%|          | 0/100 [00:00<?, ?it/s]"
      ]
     },
     "metadata": {},
     "output_type": "display_data"
    },
    {
     "name": "stdout",
     "output_type": "stream",
     "text": [
      " "
     ]
    },
    {
     "data": {
      "application/vnd.jupyter.widget-view+json": {
       "model_id": "f445e19801b04091a009e58a8159716f",
       "version_major": 2,
       "version_minor": 0
      },
      "text/plain": [
       "Threshold = 88:   0%|          | 0/100 [00:00<?, ?it/s]"
      ]
     },
     "metadata": {},
     "output_type": "display_data"
    },
    {
     "name": "stdout",
     "output_type": "stream",
     "text": [
      " "
     ]
    },
    {
     "data": {
      "application/vnd.jupyter.widget-view+json": {
       "model_id": "6947220928f340b49038838a009808c2",
       "version_major": 2,
       "version_minor": 0
      },
      "text/plain": [
       "Threshold = 89:   0%|          | 0/100 [00:00<?, ?it/s]"
      ]
     },
     "metadata": {},
     "output_type": "display_data"
    },
    {
     "name": "stdout",
     "output_type": "stream",
     "text": [
      " "
     ]
    },
    {
     "data": {
      "application/vnd.jupyter.widget-view+json": {
       "model_id": "8b49f9515aba4a448e6855b0c22f54de",
       "version_major": 2,
       "version_minor": 0
      },
      "text/plain": [
       "Threshold = 90:   0%|          | 0/100 [00:00<?, ?it/s]"
      ]
     },
     "metadata": {},
     "output_type": "display_data"
    },
    {
     "name": "stdout",
     "output_type": "stream",
     "text": [
      " "
     ]
    },
    {
     "data": {
      "application/vnd.jupyter.widget-view+json": {
       "model_id": "214956390a6147bcb38da88425b0aad8",
       "version_major": 2,
       "version_minor": 0
      },
      "text/plain": [
       "Threshold = 91:   0%|          | 0/100 [00:00<?, ?it/s]"
      ]
     },
     "metadata": {},
     "output_type": "display_data"
    },
    {
     "name": "stdout",
     "output_type": "stream",
     "text": [
      " "
     ]
    },
    {
     "data": {
      "application/vnd.jupyter.widget-view+json": {
       "model_id": "f882e170b198488a809360d0a5aa97b9",
       "version_major": 2,
       "version_minor": 0
      },
      "text/plain": [
       "Threshold = 92:   0%|          | 0/100 [00:00<?, ?it/s]"
      ]
     },
     "metadata": {},
     "output_type": "display_data"
    },
    {
     "name": "stdout",
     "output_type": "stream",
     "text": [
      " "
     ]
    },
    {
     "data": {
      "application/vnd.jupyter.widget-view+json": {
       "model_id": "f0c5244999a242a0a9e9373d1ffafad1",
       "version_major": 2,
       "version_minor": 0
      },
      "text/plain": [
       "Threshold = 93:   0%|          | 0/100 [00:00<?, ?it/s]"
      ]
     },
     "metadata": {},
     "output_type": "display_data"
    },
    {
     "name": "stdout",
     "output_type": "stream",
     "text": [
      " "
     ]
    },
    {
     "data": {
      "application/vnd.jupyter.widget-view+json": {
       "model_id": "9950bb22c7174898bc5f5a4c94126a8f",
       "version_major": 2,
       "version_minor": 0
      },
      "text/plain": [
       "Threshold = 94:   0%|          | 0/100 [00:00<?, ?it/s]"
      ]
     },
     "metadata": {},
     "output_type": "display_data"
    },
    {
     "name": "stdout",
     "output_type": "stream",
     "text": [
      " "
     ]
    },
    {
     "data": {
      "application/vnd.jupyter.widget-view+json": {
       "model_id": "d32380872a404456be2f2c66fdda2639",
       "version_major": 2,
       "version_minor": 0
      },
      "text/plain": [
       "Threshold = 95:   0%|          | 0/100 [00:00<?, ?it/s]"
      ]
     },
     "metadata": {},
     "output_type": "display_data"
    },
    {
     "name": "stdout",
     "output_type": "stream",
     "text": [
      " "
     ]
    },
    {
     "data": {
      "application/vnd.jupyter.widget-view+json": {
       "model_id": "cefed4bdae104a2e838126fbda1901e7",
       "version_major": 2,
       "version_minor": 0
      },
      "text/plain": [
       "Threshold = 96:   0%|          | 0/100 [00:00<?, ?it/s]"
      ]
     },
     "metadata": {},
     "output_type": "display_data"
    },
    {
     "name": "stdout",
     "output_type": "stream",
     "text": [
      " "
     ]
    },
    {
     "data": {
      "application/vnd.jupyter.widget-view+json": {
       "model_id": "5ddb96f0a7be41549e6d38004940200b",
       "version_major": 2,
       "version_minor": 0
      },
      "text/plain": [
       "Threshold = 97:   0%|          | 0/100 [00:00<?, ?it/s]"
      ]
     },
     "metadata": {},
     "output_type": "display_data"
    },
    {
     "name": "stdout",
     "output_type": "stream",
     "text": [
      " "
     ]
    },
    {
     "data": {
      "application/vnd.jupyter.widget-view+json": {
       "model_id": "dd41a2bf4fff4978baa5f980a2ed8f26",
       "version_major": 2,
       "version_minor": 0
      },
      "text/plain": [
       "Threshold = 98:   0%|          | 0/100 [00:00<?, ?it/s]"
      ]
     },
     "metadata": {},
     "output_type": "display_data"
    },
    {
     "name": "stdout",
     "output_type": "stream",
     "text": [
      " "
     ]
    },
    {
     "data": {
      "application/vnd.jupyter.widget-view+json": {
       "model_id": "1977cd3495394a5f80e8ba10204bb394",
       "version_major": 2,
       "version_minor": 0
      },
      "text/plain": [
       "Threshold = 99:   0%|          | 0/100 [00:00<?, ?it/s]"
      ]
     },
     "metadata": {},
     "output_type": "display_data"
    },
    {
     "name": "stdout",
     "output_type": "stream",
     "text": [
      " "
     ]
    },
    {
     "data": {
      "application/vnd.jupyter.widget-view+json": {
       "model_id": "b31578aaceb84ab1a136eb16adc2b946",
       "version_major": 2,
       "version_minor": 0
      },
      "text/plain": [
       "Threshold = 100:   0%|          | 0/100 [00:00<?, ?it/s]"
      ]
     },
     "metadata": {},
     "output_type": "display_data"
    },
    {
     "name": "stdout",
     "output_type": "stream",
     "text": [
      " "
     ]
    },
    {
     "data": {
      "application/vnd.jupyter.widget-view+json": {
       "model_id": "32d1ae076ae64d72af9ccc79205a9cf5",
       "version_major": 2,
       "version_minor": 0
      },
      "text/plain": [
       "Threshold = 101:   0%|          | 0/100 [00:00<?, ?it/s]"
      ]
     },
     "metadata": {},
     "output_type": "display_data"
    },
    {
     "name": "stdout",
     "output_type": "stream",
     "text": [
      " "
     ]
    },
    {
     "data": {
      "application/vnd.jupyter.widget-view+json": {
       "model_id": "efd32db3e5d84e4ebc5f6aa71695c46f",
       "version_major": 2,
       "version_minor": 0
      },
      "text/plain": [
       "Threshold = 102:   0%|          | 0/100 [00:00<?, ?it/s]"
      ]
     },
     "metadata": {},
     "output_type": "display_data"
    },
    {
     "name": "stdout",
     "output_type": "stream",
     "text": [
      " "
     ]
    },
    {
     "data": {
      "application/vnd.jupyter.widget-view+json": {
       "model_id": "960ac2d0825f40cd83759c451b53e136",
       "version_major": 2,
       "version_minor": 0
      },
      "text/plain": [
       "Threshold = 103:   0%|          | 0/100 [00:00<?, ?it/s]"
      ]
     },
     "metadata": {},
     "output_type": "display_data"
    },
    {
     "name": "stdout",
     "output_type": "stream",
     "text": [
      " "
     ]
    },
    {
     "data": {
      "application/vnd.jupyter.widget-view+json": {
       "model_id": "6402143caa254fe0b03c0d0c08ccd86c",
       "version_major": 2,
       "version_minor": 0
      },
      "text/plain": [
       "Threshold = 104:   0%|          | 0/100 [00:00<?, ?it/s]"
      ]
     },
     "metadata": {},
     "output_type": "display_data"
    },
    {
     "name": "stdout",
     "output_type": "stream",
     "text": [
      " "
     ]
    },
    {
     "data": {
      "application/vnd.jupyter.widget-view+json": {
       "model_id": "290f25aceb9447e88a4a1722a73535ba",
       "version_major": 2,
       "version_minor": 0
      },
      "text/plain": [
       "Threshold = 105:   0%|          | 0/100 [00:00<?, ?it/s]"
      ]
     },
     "metadata": {},
     "output_type": "display_data"
    },
    {
     "name": "stdout",
     "output_type": "stream",
     "text": [
      "Done!\n",
      "This took 4347.38 seconds\n",
      "This took 72.46 minutes\n",
      "Getting performance...\n",
      "                                                   Done!\n",
      "\n",
      "OPP THRESHOLD: 80\n",
      "        "
     ]
    },
    {
     "data": {
      "application/vnd.jupyter.widget-view+json": {
       "model_id": "5fcbd97f1cc144978cbd210a7850d308",
       "version_major": 2,
       "version_minor": 0
      },
      "text/plain": [
       "Threshold = 66:   0%|          | 0/100 [00:00<?, ?it/s]"
      ]
     },
     "metadata": {},
     "output_type": "display_data"
    },
    {
     "data": {
      "application/vnd.jupyter.widget-view+json": {
       "model_id": "210450867d2f4254a4f973f36b50f667",
       "version_major": 2,
       "version_minor": 0
      },
      "text/plain": [
       "Threshold = 65:   0%|          | 0/100 [00:00<?, ?it/s]"
      ]
     },
     "metadata": {},
     "output_type": "display_data"
    },
    {
     "data": {
      "application/vnd.jupyter.widget-view+json": {
       "model_id": "218c060b0c8a44a2ba10e918ec7f064c",
       "version_major": 2,
       "version_minor": 0
      },
      "text/plain": [
       "Threshold = 69:   0%|          | 0/100 [00:00<?, ?it/s]"
      ]
     },
     "metadata": {},
     "output_type": "display_data"
    },
    {
     "data": {
      "application/vnd.jupyter.widget-view+json": {
       "model_id": "72f3097c61ac43ac892846b0bce8fc4b",
       "version_major": 2,
       "version_minor": 0
      },
      "text/plain": [
       "Threshold = 70:   0%|          | 0/100 [00:00<?, ?it/s]"
      ]
     },
     "metadata": {},
     "output_type": "display_data"
    },
    {
     "data": {
      "application/vnd.jupyter.widget-view+json": {
       "model_id": "340c2554e4324045b9356c0918a0f62b",
       "version_major": 2,
       "version_minor": 0
      },
      "text/plain": [
       "Threshold = 67:   0%|          | 0/100 [00:00<?, ?it/s]"
      ]
     },
     "metadata": {},
     "output_type": "display_data"
    },
    {
     "data": {
      "application/vnd.jupyter.widget-view+json": {
       "model_id": "a61a9370c65f4af39e8172ff7343af3c",
       "version_major": 2,
       "version_minor": 0
      },
      "text/plain": [
       "Threshold = 68:   0%|          | 0/100 [00:00<?, ?it/s]"
      ]
     },
     "metadata": {},
     "output_type": "display_data"
    },
    {
     "data": {
      "application/vnd.jupyter.widget-view+json": {
       "model_id": "4c56f4d989824d8f98d79450eb9ca0bd",
       "version_major": 2,
       "version_minor": 0
      },
      "text/plain": [
       "Threshold = 71:   0%|          | 0/100 [00:00<?, ?it/s]"
      ]
     },
     "metadata": {},
     "output_type": "display_data"
    },
    {
     "data": {
      "application/vnd.jupyter.widget-view+json": {
       "model_id": "0f252a8d140d4cc0a61367fd4565825a",
       "version_major": 2,
       "version_minor": 0
      },
      "text/plain": [
       "Threshold = 72:   0%|          | 0/100 [00:00<?, ?it/s]"
      ]
     },
     "metadata": {},
     "output_type": "display_data"
    },
    {
     "name": "stdout",
     "output_type": "stream",
     "text": [
      " "
     ]
    },
    {
     "data": {
      "application/vnd.jupyter.widget-view+json": {
       "model_id": "7e308076243f4edc9a469c7f8ba662b3",
       "version_major": 2,
       "version_minor": 0
      },
      "text/plain": [
       "Threshold = 73:   0%|          | 0/100 [00:00<?, ?it/s]"
      ]
     },
     "metadata": {},
     "output_type": "display_data"
    },
    {
     "name": "stdout",
     "output_type": "stream",
     "text": [
      " "
     ]
    },
    {
     "data": {
      "application/vnd.jupyter.widget-view+json": {
       "model_id": "1eb56af14bdb4dedb882aafd7c583326",
       "version_major": 2,
       "version_minor": 0
      },
      "text/plain": [
       "Threshold = 74:   0%|          | 0/100 [00:00<?, ?it/s]"
      ]
     },
     "metadata": {},
     "output_type": "display_data"
    },
    {
     "name": "stdout",
     "output_type": "stream",
     "text": [
      " "
     ]
    },
    {
     "data": {
      "application/vnd.jupyter.widget-view+json": {
       "model_id": "68f42fead660404bba3e4949032c4fc9",
       "version_major": 2,
       "version_minor": 0
      },
      "text/plain": [
       "Threshold = 75:   0%|          | 0/100 [00:00<?, ?it/s]"
      ]
     },
     "metadata": {},
     "output_type": "display_data"
    },
    {
     "name": "stdout",
     "output_type": "stream",
     "text": [
      " "
     ]
    },
    {
     "data": {
      "application/vnd.jupyter.widget-view+json": {
       "model_id": "94cb843b787e4127a8ee904e5a041856",
       "version_major": 2,
       "version_minor": 0
      },
      "text/plain": [
       "Threshold = 76:   0%|          | 0/100 [00:00<?, ?it/s]"
      ]
     },
     "metadata": {},
     "output_type": "display_data"
    },
    {
     "name": "stdout",
     "output_type": "stream",
     "text": [
      " "
     ]
    },
    {
     "data": {
      "application/vnd.jupyter.widget-view+json": {
       "model_id": "1847f97bd4af473086db745c7c83a5e4",
       "version_major": 2,
       "version_minor": 0
      },
      "text/plain": [
       "Threshold = 77:   0%|          | 0/100 [00:00<?, ?it/s]"
      ]
     },
     "metadata": {},
     "output_type": "display_data"
    },
    {
     "name": "stdout",
     "output_type": "stream",
     "text": [
      " "
     ]
    },
    {
     "data": {
      "application/vnd.jupyter.widget-view+json": {
       "model_id": "a2b72749edbc43e3ba5275e7d7de0e64",
       "version_major": 2,
       "version_minor": 0
      },
      "text/plain": [
       "Threshold = 78:   0%|          | 0/100 [00:00<?, ?it/s]"
      ]
     },
     "metadata": {},
     "output_type": "display_data"
    },
    {
     "name": "stdout",
     "output_type": "stream",
     "text": [
      " "
     ]
    },
    {
     "data": {
      "application/vnd.jupyter.widget-view+json": {
       "model_id": "d8e0c4e1face4130ab47dd09176bf247",
       "version_major": 2,
       "version_minor": 0
      },
      "text/plain": [
       "Threshold = 79:   0%|          | 0/100 [00:00<?, ?it/s]"
      ]
     },
     "metadata": {},
     "output_type": "display_data"
    },
    {
     "name": "stdout",
     "output_type": "stream",
     "text": [
      " "
     ]
    },
    {
     "data": {
      "application/vnd.jupyter.widget-view+json": {
       "model_id": "571ffafa9eb84445a3be060454958736",
       "version_major": 2,
       "version_minor": 0
      },
      "text/plain": [
       "Threshold = 80:   0%|          | 0/100 [00:00<?, ?it/s]"
      ]
     },
     "metadata": {},
     "output_type": "display_data"
    },
    {
     "name": "stdout",
     "output_type": "stream",
     "text": [
      " "
     ]
    },
    {
     "data": {
      "application/vnd.jupyter.widget-view+json": {
       "model_id": "6e09f8d3522b4dafa756a999cafb30c7",
       "version_major": 2,
       "version_minor": 0
      },
      "text/plain": [
       "Threshold = 81:   0%|          | 0/100 [00:00<?, ?it/s]"
      ]
     },
     "metadata": {},
     "output_type": "display_data"
    },
    {
     "name": "stdout",
     "output_type": "stream",
     "text": [
      " "
     ]
    },
    {
     "data": {
      "application/vnd.jupyter.widget-view+json": {
       "model_id": "b49ce1f32cbd4925b3fa996dade306c2",
       "version_major": 2,
       "version_minor": 0
      },
      "text/plain": [
       "Threshold = 82:   0%|          | 0/100 [00:00<?, ?it/s]"
      ]
     },
     "metadata": {},
     "output_type": "display_data"
    },
    {
     "name": "stdout",
     "output_type": "stream",
     "text": [
      " "
     ]
    },
    {
     "data": {
      "application/vnd.jupyter.widget-view+json": {
       "model_id": "d33da6da2cec4bec9624567d0aca8e84",
       "version_major": 2,
       "version_minor": 0
      },
      "text/plain": [
       "Threshold = 83:   0%|          | 0/100 [00:00<?, ?it/s]"
      ]
     },
     "metadata": {},
     "output_type": "display_data"
    },
    {
     "name": "stdout",
     "output_type": "stream",
     "text": [
      " "
     ]
    },
    {
     "data": {
      "application/vnd.jupyter.widget-view+json": {
       "model_id": "d6ea1a56c35b4f0bb5e20ecb70561c04",
       "version_major": 2,
       "version_minor": 0
      },
      "text/plain": [
       "Threshold = 84:   0%|          | 0/100 [00:00<?, ?it/s]"
      ]
     },
     "metadata": {},
     "output_type": "display_data"
    },
    {
     "name": "stdout",
     "output_type": "stream",
     "text": [
      " "
     ]
    },
    {
     "data": {
      "application/vnd.jupyter.widget-view+json": {
       "model_id": "eae4039919b84bc2b593f6b7f4dea3f2",
       "version_major": 2,
       "version_minor": 0
      },
      "text/plain": [
       "Threshold = 85:   0%|          | 0/100 [00:00<?, ?it/s]"
      ]
     },
     "metadata": {},
     "output_type": "display_data"
    },
    {
     "name": "stdout",
     "output_type": "stream",
     "text": [
      " "
     ]
    },
    {
     "data": {
      "application/vnd.jupyter.widget-view+json": {
       "model_id": "4e1ef107e1d842efbe138badaa2d0181",
       "version_major": 2,
       "version_minor": 0
      },
      "text/plain": [
       "Threshold = 86:   0%|          | 0/100 [00:00<?, ?it/s]"
      ]
     },
     "metadata": {},
     "output_type": "display_data"
    },
    {
     "name": "stdout",
     "output_type": "stream",
     "text": [
      " "
     ]
    },
    {
     "data": {
      "application/vnd.jupyter.widget-view+json": {
       "model_id": "bc222629d8b44c4aa888f27c06b7553f",
       "version_major": 2,
       "version_minor": 0
      },
      "text/plain": [
       "Threshold = 87:   0%|          | 0/100 [00:00<?, ?it/s]"
      ]
     },
     "metadata": {},
     "output_type": "display_data"
    },
    {
     "name": "stdout",
     "output_type": "stream",
     "text": [
      " "
     ]
    },
    {
     "data": {
      "application/vnd.jupyter.widget-view+json": {
       "model_id": "3d516bdbea0643889d347b2412e4859f",
       "version_major": 2,
       "version_minor": 0
      },
      "text/plain": [
       "Threshold = 88:   0%|          | 0/100 [00:00<?, ?it/s]"
      ]
     },
     "metadata": {},
     "output_type": "display_data"
    },
    {
     "name": "stdout",
     "output_type": "stream",
     "text": [
      " "
     ]
    },
    {
     "data": {
      "application/vnd.jupyter.widget-view+json": {
       "model_id": "705a244798ca4b03bf482230bedbb87a",
       "version_major": 2,
       "version_minor": 0
      },
      "text/plain": [
       "Threshold = 89:   0%|          | 0/100 [00:00<?, ?it/s]"
      ]
     },
     "metadata": {},
     "output_type": "display_data"
    },
    {
     "name": "stdout",
     "output_type": "stream",
     "text": [
      " "
     ]
    },
    {
     "data": {
      "application/vnd.jupyter.widget-view+json": {
       "model_id": "fac6e86ee14240d583abf187fb79f59f",
       "version_major": 2,
       "version_minor": 0
      },
      "text/plain": [
       "Threshold = 90:   0%|          | 0/100 [00:00<?, ?it/s]"
      ]
     },
     "metadata": {},
     "output_type": "display_data"
    },
    {
     "name": "stdout",
     "output_type": "stream",
     "text": [
      " "
     ]
    },
    {
     "data": {
      "application/vnd.jupyter.widget-view+json": {
       "model_id": "35e9cba5d9fb4cdebddac0728c37dccb",
       "version_major": 2,
       "version_minor": 0
      },
      "text/plain": [
       "Threshold = 91:   0%|          | 0/100 [00:00<?, ?it/s]"
      ]
     },
     "metadata": {},
     "output_type": "display_data"
    },
    {
     "name": "stdout",
     "output_type": "stream",
     "text": [
      " "
     ]
    },
    {
     "data": {
      "application/vnd.jupyter.widget-view+json": {
       "model_id": "d21d8a5fb977449a804679ce084e1bda",
       "version_major": 2,
       "version_minor": 0
      },
      "text/plain": [
       "Threshold = 92:   0%|          | 0/100 [00:00<?, ?it/s]"
      ]
     },
     "metadata": {},
     "output_type": "display_data"
    },
    {
     "name": "stdout",
     "output_type": "stream",
     "text": [
      " "
     ]
    },
    {
     "data": {
      "application/vnd.jupyter.widget-view+json": {
       "model_id": "42d18a02a0554d68a145fe1933a8fa5c",
       "version_major": 2,
       "version_minor": 0
      },
      "text/plain": [
       "Threshold = 93:   0%|          | 0/100 [00:00<?, ?it/s]"
      ]
     },
     "metadata": {},
     "output_type": "display_data"
    },
    {
     "name": "stdout",
     "output_type": "stream",
     "text": [
      " "
     ]
    },
    {
     "data": {
      "application/vnd.jupyter.widget-view+json": {
       "model_id": "6a8a05410e1d40c6b893eb108b2408f6",
       "version_major": 2,
       "version_minor": 0
      },
      "text/plain": [
       "Threshold = 94:   0%|          | 0/100 [00:00<?, ?it/s]"
      ]
     },
     "metadata": {},
     "output_type": "display_data"
    },
    {
     "name": "stdout",
     "output_type": "stream",
     "text": [
      " "
     ]
    },
    {
     "data": {
      "application/vnd.jupyter.widget-view+json": {
       "model_id": "3eb8c249599344608e3407085cd36f0e",
       "version_major": 2,
       "version_minor": 0
      },
      "text/plain": [
       "Threshold = 95:   0%|          | 0/100 [00:00<?, ?it/s]"
      ]
     },
     "metadata": {},
     "output_type": "display_data"
    },
    {
     "name": "stdout",
     "output_type": "stream",
     "text": [
      " "
     ]
    },
    {
     "data": {
      "application/vnd.jupyter.widget-view+json": {
       "model_id": "d54c097bd9534b3d917f5e8435e1233f",
       "version_major": 2,
       "version_minor": 0
      },
      "text/plain": [
       "Threshold = 96:   0%|          | 0/100 [00:00<?, ?it/s]"
      ]
     },
     "metadata": {},
     "output_type": "display_data"
    },
    {
     "name": "stdout",
     "output_type": "stream",
     "text": [
      " "
     ]
    },
    {
     "data": {
      "application/vnd.jupyter.widget-view+json": {
       "model_id": "d2ad6dd864c04cc499927b55ca0f51a0",
       "version_major": 2,
       "version_minor": 0
      },
      "text/plain": [
       "Threshold = 97:   0%|          | 0/100 [00:00<?, ?it/s]"
      ]
     },
     "metadata": {},
     "output_type": "display_data"
    },
    {
     "name": "stdout",
     "output_type": "stream",
     "text": [
      " "
     ]
    },
    {
     "data": {
      "application/vnd.jupyter.widget-view+json": {
       "model_id": "50b2f6b52581445b9a1b9987e543a8a9",
       "version_major": 2,
       "version_minor": 0
      },
      "text/plain": [
       "Threshold = 98:   0%|          | 0/100 [00:00<?, ?it/s]"
      ]
     },
     "metadata": {},
     "output_type": "display_data"
    },
    {
     "name": "stdout",
     "output_type": "stream",
     "text": [
      " "
     ]
    },
    {
     "data": {
      "application/vnd.jupyter.widget-view+json": {
       "model_id": "cd7f7e2bad1047218b243350e2fbeecd",
       "version_major": 2,
       "version_minor": 0
      },
      "text/plain": [
       "Threshold = 99:   0%|          | 0/100 [00:00<?, ?it/s]"
      ]
     },
     "metadata": {},
     "output_type": "display_data"
    },
    {
     "name": "stdout",
     "output_type": "stream",
     "text": [
      " "
     ]
    },
    {
     "data": {
      "application/vnd.jupyter.widget-view+json": {
       "model_id": "f406a41ebec940898b0c425e16073803",
       "version_major": 2,
       "version_minor": 0
      },
      "text/plain": [
       "Threshold = 100:   0%|          | 0/100 [00:00<?, ?it/s]"
      ]
     },
     "metadata": {},
     "output_type": "display_data"
    },
    {
     "name": "stdout",
     "output_type": "stream",
     "text": [
      " "
     ]
    },
    {
     "data": {
      "application/vnd.jupyter.widget-view+json": {
       "model_id": "4c77f43a6bff47a0abb9c8ff806233e4",
       "version_major": 2,
       "version_minor": 0
      },
      "text/plain": [
       "Threshold = 101:   0%|          | 0/100 [00:00<?, ?it/s]"
      ]
     },
     "metadata": {},
     "output_type": "display_data"
    },
    {
     "name": "stdout",
     "output_type": "stream",
     "text": [
      " "
     ]
    },
    {
     "data": {
      "application/vnd.jupyter.widget-view+json": {
       "model_id": "e5a16e06416c43c0b86ffb8408e61fdc",
       "version_major": 2,
       "version_minor": 0
      },
      "text/plain": [
       "Threshold = 102:   0%|          | 0/100 [00:00<?, ?it/s]"
      ]
     },
     "metadata": {},
     "output_type": "display_data"
    },
    {
     "name": "stdout",
     "output_type": "stream",
     "text": [
      " "
     ]
    },
    {
     "data": {
      "application/vnd.jupyter.widget-view+json": {
       "model_id": "f9288bcb9be049fab8ee50212010e800",
       "version_major": 2,
       "version_minor": 0
      },
      "text/plain": [
       "Threshold = 103:   0%|          | 0/100 [00:00<?, ?it/s]"
      ]
     },
     "metadata": {},
     "output_type": "display_data"
    },
    {
     "name": "stdout",
     "output_type": "stream",
     "text": [
      " "
     ]
    },
    {
     "data": {
      "application/vnd.jupyter.widget-view+json": {
       "model_id": "0dbbaf2357744c6a953a5d92e02ec2c2",
       "version_major": 2,
       "version_minor": 0
      },
      "text/plain": [
       "Threshold = 104:   0%|          | 0/100 [00:00<?, ?it/s]"
      ]
     },
     "metadata": {},
     "output_type": "display_data"
    },
    {
     "name": "stdout",
     "output_type": "stream",
     "text": [
      " "
     ]
    },
    {
     "data": {
      "application/vnd.jupyter.widget-view+json": {
       "model_id": "2deb215bc30340d38ffaa4cb583df13d",
       "version_major": 2,
       "version_minor": 0
      },
      "text/plain": [
       "Threshold = 105:   0%|          | 0/100 [00:00<?, ?it/s]"
      ]
     },
     "metadata": {},
     "output_type": "display_data"
    },
    {
     "name": "stdout",
     "output_type": "stream",
     "text": [
      "Done!\n",
      "This took 2850.85 seconds\n",
      "This took 47.51 minutes\n",
      "Getting performance...\n",
      "                                                   Done!\n",
      "\n",
      "OPP THRESHOLD: 100\n",
      "        "
     ]
    },
    {
     "data": {
      "application/vnd.jupyter.widget-view+json": {
       "model_id": "82c3444a63664e9f837fc76fda193682",
       "version_major": 2,
       "version_minor": 0
      },
      "text/plain": [
       "Threshold = 65:   0%|          | 0/100 [00:00<?, ?it/s]"
      ]
     },
     "metadata": {},
     "output_type": "display_data"
    },
    {
     "data": {
      "application/vnd.jupyter.widget-view+json": {
       "model_id": "a41d6608c3b64ddf81d0760cc75fd535",
       "version_major": 2,
       "version_minor": 0
      },
      "text/plain": [
       "Threshold = 71:   0%|          | 0/100 [00:00<?, ?it/s]"
      ]
     },
     "metadata": {},
     "output_type": "display_data"
    },
    {
     "data": {
      "application/vnd.jupyter.widget-view+json": {
       "model_id": "6880d68870c5420f889b59fbc7140151",
       "version_major": 2,
       "version_minor": 0
      },
      "text/plain": [
       "Threshold = 66:   0%|          | 0/100 [00:00<?, ?it/s]"
      ]
     },
     "metadata": {},
     "output_type": "display_data"
    },
    {
     "data": {
      "application/vnd.jupyter.widget-view+json": {
       "model_id": "cd96dad3eec5447f86baa220faa1023d",
       "version_major": 2,
       "version_minor": 0
      },
      "text/plain": [
       "Threshold = 67:   0%|          | 0/100 [00:00<?, ?it/s]"
      ]
     },
     "metadata": {},
     "output_type": "display_data"
    },
    {
     "data": {
      "application/vnd.jupyter.widget-view+json": {
       "model_id": "bb022bfc58834a9baf62011e82979029",
       "version_major": 2,
       "version_minor": 0
      },
      "text/plain": [
       "Threshold = 68:   0%|          | 0/100 [00:00<?, ?it/s]"
      ]
     },
     "metadata": {},
     "output_type": "display_data"
    },
    {
     "data": {
      "application/vnd.jupyter.widget-view+json": {
       "model_id": "2a31c1060dec4093a1016eb8e76fc8a7",
       "version_major": 2,
       "version_minor": 0
      },
      "text/plain": [
       "Threshold = 69:   0%|          | 0/100 [00:00<?, ?it/s]"
      ]
     },
     "metadata": {},
     "output_type": "display_data"
    },
    {
     "data": {
      "application/vnd.jupyter.widget-view+json": {
       "model_id": "ac9205815a874411a0de3ff805ec94fc",
       "version_major": 2,
       "version_minor": 0
      },
      "text/plain": [
       "Threshold = 70:   0%|          | 0/100 [00:00<?, ?it/s]"
      ]
     },
     "metadata": {},
     "output_type": "display_data"
    },
    {
     "data": {
      "application/vnd.jupyter.widget-view+json": {
       "model_id": "0c9d1c41d8d7474ebf31ca28e069566c",
       "version_major": 2,
       "version_minor": 0
      },
      "text/plain": [
       "Threshold = 72:   0%|          | 0/100 [00:00<?, ?it/s]"
      ]
     },
     "metadata": {},
     "output_type": "display_data"
    },
    {
     "name": "stdout",
     "output_type": "stream",
     "text": [
      " "
     ]
    },
    {
     "data": {
      "application/vnd.jupyter.widget-view+json": {
       "model_id": "0a74466622284c0082e0d568048fe3fa",
       "version_major": 2,
       "version_minor": 0
      },
      "text/plain": [
       "Threshold = 73:   0%|          | 0/100 [00:00<?, ?it/s]"
      ]
     },
     "metadata": {},
     "output_type": "display_data"
    },
    {
     "name": "stdout",
     "output_type": "stream",
     "text": [
      " "
     ]
    },
    {
     "data": {
      "application/vnd.jupyter.widget-view+json": {
       "model_id": "8a6794784ab44c0f946b21f19ed7e021",
       "version_major": 2,
       "version_minor": 0
      },
      "text/plain": [
       "Threshold = 74:   0%|          | 0/100 [00:00<?, ?it/s]"
      ]
     },
     "metadata": {},
     "output_type": "display_data"
    },
    {
     "name": "stdout",
     "output_type": "stream",
     "text": [
      " "
     ]
    },
    {
     "data": {
      "application/vnd.jupyter.widget-view+json": {
       "model_id": "c89d564e1878403abc64ab83269b35dd",
       "version_major": 2,
       "version_minor": 0
      },
      "text/plain": [
       "Threshold = 75:   0%|          | 0/100 [00:00<?, ?it/s]"
      ]
     },
     "metadata": {},
     "output_type": "display_data"
    },
    {
     "name": "stdout",
     "output_type": "stream",
     "text": [
      "  "
     ]
    },
    {
     "data": {
      "application/vnd.jupyter.widget-view+json": {
       "model_id": "8d498cf6b1304f1c90c73970beabfea1",
       "version_major": 2,
       "version_minor": 0
      },
      "text/plain": [
       "Threshold = 76:   0%|          | 0/100 [00:00<?, ?it/s]"
      ]
     },
     "metadata": {},
     "output_type": "display_data"
    },
    {
     "data": {
      "application/vnd.jupyter.widget-view+json": {
       "model_id": "4ae43b53f0a34fe497c1b7e24da558fb",
       "version_major": 2,
       "version_minor": 0
      },
      "text/plain": [
       "Threshold = 77:   0%|          | 0/100 [00:00<?, ?it/s]"
      ]
     },
     "metadata": {},
     "output_type": "display_data"
    },
    {
     "name": "stdout",
     "output_type": "stream",
     "text": [
      " "
     ]
    },
    {
     "data": {
      "application/vnd.jupyter.widget-view+json": {
       "model_id": "4893703b65e94d07b3c83ab97069f513",
       "version_major": 2,
       "version_minor": 0
      },
      "text/plain": [
       "Threshold = 78:   0%|          | 0/100 [00:00<?, ?it/s]"
      ]
     },
     "metadata": {},
     "output_type": "display_data"
    },
    {
     "name": "stdout",
     "output_type": "stream",
     "text": [
      " "
     ]
    },
    {
     "data": {
      "application/vnd.jupyter.widget-view+json": {
       "model_id": "37c9436bb9894591a5ce6ef6f45620bf",
       "version_major": 2,
       "version_minor": 0
      },
      "text/plain": [
       "Threshold = 79:   0%|          | 0/100 [00:00<?, ?it/s]"
      ]
     },
     "metadata": {},
     "output_type": "display_data"
    },
    {
     "name": "stdout",
     "output_type": "stream",
     "text": [
      " "
     ]
    },
    {
     "data": {
      "application/vnd.jupyter.widget-view+json": {
       "model_id": "d69dcce1f58c4800bef7498dad3f581a",
       "version_major": 2,
       "version_minor": 0
      },
      "text/plain": [
       "Threshold = 80:   0%|          | 0/100 [00:00<?, ?it/s]"
      ]
     },
     "metadata": {},
     "output_type": "display_data"
    },
    {
     "name": "stdout",
     "output_type": "stream",
     "text": [
      " "
     ]
    },
    {
     "data": {
      "application/vnd.jupyter.widget-view+json": {
       "model_id": "82441325ad8749e1b28fcc7510d72c25",
       "version_major": 2,
       "version_minor": 0
      },
      "text/plain": [
       "Threshold = 81:   0%|          | 0/100 [00:00<?, ?it/s]"
      ]
     },
     "metadata": {},
     "output_type": "display_data"
    },
    {
     "name": "stdout",
     "output_type": "stream",
     "text": [
      " "
     ]
    },
    {
     "data": {
      "application/vnd.jupyter.widget-view+json": {
       "model_id": "cddf7194a2024b6a856a451c66913cb1",
       "version_major": 2,
       "version_minor": 0
      },
      "text/plain": [
       "Threshold = 82:   0%|          | 0/100 [00:00<?, ?it/s]"
      ]
     },
     "metadata": {},
     "output_type": "display_data"
    },
    {
     "name": "stdout",
     "output_type": "stream",
     "text": [
      " "
     ]
    },
    {
     "data": {
      "application/vnd.jupyter.widget-view+json": {
       "model_id": "78d0f7329a8242b8b2423f49234d93c0",
       "version_major": 2,
       "version_minor": 0
      },
      "text/plain": [
       "Threshold = 83:   0%|          | 0/100 [00:00<?, ?it/s]"
      ]
     },
     "metadata": {},
     "output_type": "display_data"
    },
    {
     "name": "stdout",
     "output_type": "stream",
     "text": [
      " "
     ]
    },
    {
     "data": {
      "application/vnd.jupyter.widget-view+json": {
       "model_id": "ceb954249f60403ba81f381117de2fb9",
       "version_major": 2,
       "version_minor": 0
      },
      "text/plain": [
       "Threshold = 84:   0%|          | 0/100 [00:00<?, ?it/s]"
      ]
     },
     "metadata": {},
     "output_type": "display_data"
    },
    {
     "name": "stdout",
     "output_type": "stream",
     "text": [
      " "
     ]
    },
    {
     "data": {
      "application/vnd.jupyter.widget-view+json": {
       "model_id": "476f4c47c680460ba528ce6ae7251946",
       "version_major": 2,
       "version_minor": 0
      },
      "text/plain": [
       "Threshold = 85:   0%|          | 0/100 [00:00<?, ?it/s]"
      ]
     },
     "metadata": {},
     "output_type": "display_data"
    },
    {
     "name": "stdout",
     "output_type": "stream",
     "text": [
      " "
     ]
    },
    {
     "data": {
      "application/vnd.jupyter.widget-view+json": {
       "model_id": "ae407becf6a24fb3a23b226aecd420b7",
       "version_major": 2,
       "version_minor": 0
      },
      "text/plain": [
       "Threshold = 86:   0%|          | 0/100 [00:00<?, ?it/s]"
      ]
     },
     "metadata": {},
     "output_type": "display_data"
    },
    {
     "name": "stdout",
     "output_type": "stream",
     "text": [
      " "
     ]
    },
    {
     "data": {
      "application/vnd.jupyter.widget-view+json": {
       "model_id": "c374023d37ff4397972fff78096d4190",
       "version_major": 2,
       "version_minor": 0
      },
      "text/plain": [
       "Threshold = 87:   0%|          | 0/100 [00:00<?, ?it/s]"
      ]
     },
     "metadata": {},
     "output_type": "display_data"
    },
    {
     "name": "stdout",
     "output_type": "stream",
     "text": [
      " "
     ]
    },
    {
     "data": {
      "application/vnd.jupyter.widget-view+json": {
       "model_id": "9e1468b8bc594a3bb767dbda1fbdae6b",
       "version_major": 2,
       "version_minor": 0
      },
      "text/plain": [
       "Threshold = 88:   0%|          | 0/100 [00:00<?, ?it/s]"
      ]
     },
     "metadata": {},
     "output_type": "display_data"
    },
    {
     "name": "stdout",
     "output_type": "stream",
     "text": [
      " "
     ]
    },
    {
     "data": {
      "application/vnd.jupyter.widget-view+json": {
       "model_id": "825f27b34ac848d094ccf0684ca76207",
       "version_major": 2,
       "version_minor": 0
      },
      "text/plain": [
       "Threshold = 89:   0%|          | 0/100 [00:00<?, ?it/s]"
      ]
     },
     "metadata": {},
     "output_type": "display_data"
    },
    {
     "name": "stdout",
     "output_type": "stream",
     "text": [
      " "
     ]
    },
    {
     "data": {
      "application/vnd.jupyter.widget-view+json": {
       "model_id": "56e3d483ca2c4f0f96eccc6544defeeb",
       "version_major": 2,
       "version_minor": 0
      },
      "text/plain": [
       "Threshold = 90:   0%|          | 0/100 [00:00<?, ?it/s]"
      ]
     },
     "metadata": {},
     "output_type": "display_data"
    },
    {
     "name": "stdout",
     "output_type": "stream",
     "text": [
      " "
     ]
    },
    {
     "data": {
      "application/vnd.jupyter.widget-view+json": {
       "model_id": "18c5b3e4bed6420983f39a8970f331ad",
       "version_major": 2,
       "version_minor": 0
      },
      "text/plain": [
       "Threshold = 91:   0%|          | 0/100 [00:00<?, ?it/s]"
      ]
     },
     "metadata": {},
     "output_type": "display_data"
    },
    {
     "name": "stdout",
     "output_type": "stream",
     "text": [
      " "
     ]
    },
    {
     "data": {
      "application/vnd.jupyter.widget-view+json": {
       "model_id": "0d1c63131d9542868f7bfd08caa772d1",
       "version_major": 2,
       "version_minor": 0
      },
      "text/plain": [
       "Threshold = 92:   0%|          | 0/100 [00:00<?, ?it/s]"
      ]
     },
     "metadata": {},
     "output_type": "display_data"
    },
    {
     "name": "stdout",
     "output_type": "stream",
     "text": [
      " "
     ]
    },
    {
     "data": {
      "application/vnd.jupyter.widget-view+json": {
       "model_id": "64afebaa985148f78ea5a14a24a91bfa",
       "version_major": 2,
       "version_minor": 0
      },
      "text/plain": [
       "Threshold = 93:   0%|          | 0/100 [00:00<?, ?it/s]"
      ]
     },
     "metadata": {},
     "output_type": "display_data"
    },
    {
     "name": "stdout",
     "output_type": "stream",
     "text": [
      " "
     ]
    },
    {
     "data": {
      "application/vnd.jupyter.widget-view+json": {
       "model_id": "9c1be0021b304db4a56553f86860ec76",
       "version_major": 2,
       "version_minor": 0
      },
      "text/plain": [
       "Threshold = 94:   0%|          | 0/100 [00:00<?, ?it/s]"
      ]
     },
     "metadata": {},
     "output_type": "display_data"
    },
    {
     "name": "stdout",
     "output_type": "stream",
     "text": [
      " "
     ]
    },
    {
     "data": {
      "application/vnd.jupyter.widget-view+json": {
       "model_id": "bcf78f2ba63248cab857a249e6cc5e2f",
       "version_major": 2,
       "version_minor": 0
      },
      "text/plain": [
       "Threshold = 95:   0%|          | 0/100 [00:00<?, ?it/s]"
      ]
     },
     "metadata": {},
     "output_type": "display_data"
    },
    {
     "name": "stdout",
     "output_type": "stream",
     "text": [
      " "
     ]
    },
    {
     "data": {
      "application/vnd.jupyter.widget-view+json": {
       "model_id": "0b9c040ae5b04ae291b59edeb44a7e2e",
       "version_major": 2,
       "version_minor": 0
      },
      "text/plain": [
       "Threshold = 96:   0%|          | 0/100 [00:00<?, ?it/s]"
      ]
     },
     "metadata": {},
     "output_type": "display_data"
    },
    {
     "name": "stdout",
     "output_type": "stream",
     "text": [
      " "
     ]
    },
    {
     "data": {
      "application/vnd.jupyter.widget-view+json": {
       "model_id": "373d9e46a9224e128433dc28efc97c9b",
       "version_major": 2,
       "version_minor": 0
      },
      "text/plain": [
       "Threshold = 97:   0%|          | 0/100 [00:00<?, ?it/s]"
      ]
     },
     "metadata": {},
     "output_type": "display_data"
    },
    {
     "name": "stdout",
     "output_type": "stream",
     "text": [
      " "
     ]
    },
    {
     "data": {
      "application/vnd.jupyter.widget-view+json": {
       "model_id": "7218643380784dd7b3bba1dca08b2951",
       "version_major": 2,
       "version_minor": 0
      },
      "text/plain": [
       "Threshold = 98:   0%|          | 0/100 [00:00<?, ?it/s]"
      ]
     },
     "metadata": {},
     "output_type": "display_data"
    },
    {
     "name": "stdout",
     "output_type": "stream",
     "text": [
      " "
     ]
    },
    {
     "data": {
      "application/vnd.jupyter.widget-view+json": {
       "model_id": "af91f8bd95194ca28e72977ae7f56e08",
       "version_major": 2,
       "version_minor": 0
      },
      "text/plain": [
       "Threshold = 99:   0%|          | 0/100 [00:00<?, ?it/s]"
      ]
     },
     "metadata": {},
     "output_type": "display_data"
    },
    {
     "name": "stdout",
     "output_type": "stream",
     "text": [
      " "
     ]
    },
    {
     "data": {
      "application/vnd.jupyter.widget-view+json": {
       "model_id": "c7840c7ef4e44eadb67933d0d0f8094d",
       "version_major": 2,
       "version_minor": 0
      },
      "text/plain": [
       "Threshold = 100:   0%|          | 0/100 [00:00<?, ?it/s]"
      ]
     },
     "metadata": {},
     "output_type": "display_data"
    },
    {
     "name": "stdout",
     "output_type": "stream",
     "text": [
      " "
     ]
    },
    {
     "data": {
      "application/vnd.jupyter.widget-view+json": {
       "model_id": "0cc0236c68fb4a179bd431e013b3c520",
       "version_major": 2,
       "version_minor": 0
      },
      "text/plain": [
       "Threshold = 101:   0%|          | 0/100 [00:00<?, ?it/s]"
      ]
     },
     "metadata": {},
     "output_type": "display_data"
    },
    {
     "name": "stdout",
     "output_type": "stream",
     "text": [
      " "
     ]
    },
    {
     "data": {
      "application/vnd.jupyter.widget-view+json": {
       "model_id": "36d53aff5506426d9c94162a256d1898",
       "version_major": 2,
       "version_minor": 0
      },
      "text/plain": [
       "Threshold = 102:   0%|          | 0/100 [00:00<?, ?it/s]"
      ]
     },
     "metadata": {},
     "output_type": "display_data"
    },
    {
     "name": "stdout",
     "output_type": "stream",
     "text": [
      " "
     ]
    },
    {
     "data": {
      "application/vnd.jupyter.widget-view+json": {
       "model_id": "0fdc4bcfa81146b183756dc8527645b0",
       "version_major": 2,
       "version_minor": 0
      },
      "text/plain": [
       "Threshold = 103:   0%|          | 0/100 [00:00<?, ?it/s]"
      ]
     },
     "metadata": {},
     "output_type": "display_data"
    },
    {
     "name": "stdout",
     "output_type": "stream",
     "text": [
      " "
     ]
    },
    {
     "data": {
      "application/vnd.jupyter.widget-view+json": {
       "model_id": "416e2c13673e4e2d835ff472ee042651",
       "version_major": 2,
       "version_minor": 0
      },
      "text/plain": [
       "Threshold = 104:   0%|          | 0/100 [00:00<?, ?it/s]"
      ]
     },
     "metadata": {},
     "output_type": "display_data"
    },
    {
     "name": "stdout",
     "output_type": "stream",
     "text": [
      " "
     ]
    },
    {
     "data": {
      "application/vnd.jupyter.widget-view+json": {
       "model_id": "aab9a81738774f9f9479bdd1e47385b6",
       "version_major": 2,
       "version_minor": 0
      },
      "text/plain": [
       "Threshold = 105:   0%|          | 0/100 [00:00<?, ?it/s]"
      ]
     },
     "metadata": {},
     "output_type": "display_data"
    },
    {
     "name": "stdout",
     "output_type": "stream",
     "text": [
      "Done!\n",
      "This took 2880.95 seconds\n",
      "This took 48.02 minutes\n",
      "Getting performance...\n",
      "                                                   Done!\n"
     ]
    }
   ],
   "source": [
    "for opp_thresh in [60, 80, 100]:\n",
    "    print()\n",
    "    print('OPP THRESHOLD:', opp_thresh)\n",
    "    parallel_search_wrapper(thresholds=range(65,106), n_epochs=100, n_hands=1000, ROOT_DIR='thresholds', opp_thresh=opp_thresh)\n",
    "    print('Getting performance...')\n",
    "    get_performance(ROOT_DIR=os.path.join(os.getcwd(), 'thresholds'), use_mp=True, amount_tqdm=0,\\\n",
    "                    outfile='performance_100k_oppthresh'+str(opp_thresh)+'.csv')"
   ]
  },
  {
   "cell_type": "code",
   "execution_count": 16,
   "metadata": {},
   "outputs": [
    {
     "data": {
      "image/png": "[encoded data removed]",
      "text/plain": [
       "<Figure size 432x288 with 1 Axes>"
      ]
     },
     "metadata": {
      "needs_background": "light"
     },
     "output_type": "display_data"
    }
   ],
   "source": [
    "maxes = []\n",
    "for opp_thresh in [60, 80, 100]:\n",
    "    df = pd.read_csv('thresholds/performance_100k_oppthresh' + str(opp_thresh)+'.csv').sort_values('Threshold')\n",
    "    df = df[df['TotalHands'] > 10000]\n",
    "    points, error = df['TotalSum']-df['OppSum'], np.sqrt(df['TotalStd']**2 + df['OppStd']**2)\n",
    "    plt.plot(df['Threshold'], points, label='Opp thresh = ' + str(opp_thresh))\n",
    "    plt.fill_between(df['Threshold'], points+error, points-error, alpha=0.2, facecolor='gray')\n",
    "    maxes.append(df[(df['TotalSum']-df['OppSum'])==(df['TotalSum']-df['OppSum']).max()]['Threshold'])\n",
    "plt.xlabel('Calling threshold')\n",
    "plt.ylabel('Net points in 100,000 hands')\n",
    "plt.title('Threshold vs performance (maxes at %i, %i, %i)' %(maxes[0], maxes[1], maxes[2]))\n",
    "\n",
    "plt.legend()\n",
    "if 'figs' not in os.listdir():\n",
    "    os.mkdir('figs')\n",
    "plt.savefig('figs/threshold_vs_performance_varyopp.png')\n",
    "\n",
    "plt.show()"
   ]
  },
  {
   "cell_type": "code",
   "execution_count": 6,
   "metadata": {},
   "outputs": [],
   "source": [
    "board = Board()\n",
    "for i in range(100):\n",
    "    board.play_hand()\n",
    "board.writeout(folder='testing', keep_results=False, ROOT_DIR='thresholds')"
   ]
  },
  {
   "cell_type": "markdown",
   "metadata": {},
   "source": [
    "### Making the 3rd plot, thresh vs performance deep"
   ]
  },
  {
   "cell_type": "code",
   "execution_count": 18,
   "metadata": {
    "collapsed": true,
    "jupyter": {
     "outputs_hidden": true
    }
   },
   "outputs": [
    {
     "name": "stdout",
     "output_type": "stream",
     "text": [
      "        "
     ]
    },
    {
     "data": {
      "application/vnd.jupyter.widget-view+json": {
       "model_id": "256c7740b3194a85ae5f4341e1c65e6e",
       "version_major": 2,
       "version_minor": 0
      },
      "text/plain": [
       "Threshold = 72:   0%|          | 0/100 [00:00<?, ?it/s]"
      ]
     },
     "metadata": {},
     "output_type": "display_data"
    },
    {
     "data": {
      "application/vnd.jupyter.widget-view+json": {
       "model_id": "5174306218cd41ca94515f90778d500e",
       "version_major": 2,
       "version_minor": 0
      },
      "text/plain": [
       "Threshold = 75:   0%|          | 0/100 [00:00<?, ?it/s]"
      ]
     },
     "metadata": {},
     "output_type": "display_data"
    },
    {
     "data": {
      "application/vnd.jupyter.widget-view+json": {
       "model_id": "c551f7e77f98458c9555c3bcf55f3d25",
       "version_major": 2,
       "version_minor": 0
      },
      "text/plain": [
       "Threshold = 74:   0%|          | 0/100 [00:00<?, ?it/s]"
      ]
     },
     "metadata": {},
     "output_type": "display_data"
    },
    {
     "data": {
      "application/vnd.jupyter.widget-view+json": {
       "model_id": "a4b6c543c962463b861548eb43d36c0a",
       "version_major": 2,
       "version_minor": 0
      },
      "text/plain": [
       "Threshold = 71:   0%|          | 0/100 [00:00<?, ?it/s]"
      ]
     },
     "metadata": {},
     "output_type": "display_data"
    },
    {
     "data": {
      "application/vnd.jupyter.widget-view+json": {
       "model_id": "adb33d8e41964a338086b6ef0d41718b",
       "version_major": 2,
       "version_minor": 0
      },
      "text/plain": [
       "Threshold = 73:   0%|          | 0/100 [00:00<?, ?it/s]"
      ]
     },
     "metadata": {},
     "output_type": "display_data"
    },
    {
     "data": {
      "application/vnd.jupyter.widget-view+json": {
       "model_id": "2cff6dc8628c41b588cd24dab63a63fa",
       "version_major": 2,
       "version_minor": 0
      },
      "text/plain": [
       "Threshold = 70:   0%|          | 0/100 [00:00<?, ?it/s]"
      ]
     },
     "metadata": {},
     "output_type": "display_data"
    },
    {
     "data": {
      "application/vnd.jupyter.widget-view+json": {
       "model_id": "a503789eb17a4d33bd922cc3e0e70956",
       "version_major": 2,
       "version_minor": 0
      },
      "text/plain": [
       "Threshold = 76:   0%|          | 0/100 [00:00<?, ?it/s]"
      ]
     },
     "metadata": {},
     "output_type": "display_data"
    },
    {
     "data": {
      "application/vnd.jupyter.widget-view+json": {
       "model_id": "7f71a50246e74158a29eaf4f635c9b89",
       "version_major": 2,
       "version_minor": 0
      },
      "text/plain": [
       "Threshold = 77:   0%|          | 0/100 [00:00<?, ?it/s]"
      ]
     },
     "metadata": {},
     "output_type": "display_data"
    },
    {
     "name": "stdout",
     "output_type": "stream",
     "text": [
      " "
     ]
    },
    {
     "data": {
      "application/vnd.jupyter.widget-view+json": {
       "model_id": "af1b1c2b6fa6408c8f590b207864f723",
       "version_major": 2,
       "version_minor": 0
      },
      "text/plain": [
       "Threshold = 78:   0%|          | 0/100 [00:00<?, ?it/s]"
      ]
     },
     "metadata": {},
     "output_type": "display_data"
    },
    {
     "name": "stdout",
     "output_type": "stream",
     "text": [
      " "
     ]
    },
    {
     "data": {
      "application/vnd.jupyter.widget-view+json": {
       "model_id": "594ec8bf4e674cf886de2bcc23658454",
       "version_major": 2,
       "version_minor": 0
      },
      "text/plain": [
       "Threshold = 79:   0%|          | 0/100 [00:00<?, ?it/s]"
      ]
     },
     "metadata": {},
     "output_type": "display_data"
    },
    {
     "name": "stdout",
     "output_type": "stream",
     "text": [
      " "
     ]
    },
    {
     "data": {
      "application/vnd.jupyter.widget-view+json": {
       "model_id": "e356ad7704cf4714afdef9c2591b9340",
       "version_major": 2,
       "version_minor": 0
      },
      "text/plain": [
       "Threshold = 80:   0%|          | 0/100 [00:00<?, ?it/s]"
      ]
     },
     "metadata": {},
     "output_type": "display_data"
    },
    {
     "name": "stdout",
     "output_type": "stream",
     "text": [
      " "
     ]
    },
    {
     "data": {
      "application/vnd.jupyter.widget-view+json": {
       "model_id": "e9b2e1b2824148da9694bfd0b877054e",
       "version_major": 2,
       "version_minor": 0
      },
      "text/plain": [
       "Threshold = 81:   0%|          | 0/100 [00:00<?, ?it/s]"
      ]
     },
     "metadata": {},
     "output_type": "display_data"
    },
    {
     "name": "stdout",
     "output_type": "stream",
     "text": [
      " "
     ]
    },
    {
     "data": {
      "application/vnd.jupyter.widget-view+json": {
       "model_id": "35174babdaa040d2920c859403e6e271",
       "version_major": 2,
       "version_minor": 0
      },
      "text/plain": [
       "Threshold = 82:   0%|          | 0/100 [00:00<?, ?it/s]"
      ]
     },
     "metadata": {},
     "output_type": "display_data"
    },
    {
     "name": "stdout",
     "output_type": "stream",
     "text": [
      " "
     ]
    },
    {
     "data": {
      "application/vnd.jupyter.widget-view+json": {
       "model_id": "bbee84b6fd5445f5bcc58e325ee59c35",
       "version_major": 2,
       "version_minor": 0
      },
      "text/plain": [
       "Threshold = 83:   0%|          | 0/100 [00:00<?, ?it/s]"
      ]
     },
     "metadata": {},
     "output_type": "display_data"
    },
    {
     "name": "stdout",
     "output_type": "stream",
     "text": [
      " "
     ]
    },
    {
     "data": {
      "application/vnd.jupyter.widget-view+json": {
       "model_id": "503a76b7f5634bb2bc33b0e03e10d136",
       "version_major": 2,
       "version_minor": 0
      },
      "text/plain": [
       "Threshold = 84:   0%|          | 0/100 [00:00<?, ?it/s]"
      ]
     },
     "metadata": {},
     "output_type": "display_data"
    },
    {
     "name": "stdout",
     "output_type": "stream",
     "text": [
      " "
     ]
    },
    {
     "data": {
      "application/vnd.jupyter.widget-view+json": {
       "model_id": "21d9438076f14cc3bc48b4c9fb13fe0b",
       "version_major": 2,
       "version_minor": 0
      },
      "text/plain": [
       "Threshold = 85:   0%|          | 0/100 [00:00<?, ?it/s]"
      ]
     },
     "metadata": {},
     "output_type": "display_data"
    },
    {
     "name": "stdout",
     "output_type": "stream",
     "text": [
      " "
     ]
    },
    {
     "data": {
      "application/vnd.jupyter.widget-view+json": {
       "model_id": "d23395fb34374e87b73ef13ae68c209a",
       "version_major": 2,
       "version_minor": 0
      },
      "text/plain": [
       "Threshold = 86:   0%|          | 0/100 [00:00<?, ?it/s]"
      ]
     },
     "metadata": {},
     "output_type": "display_data"
    },
    {
     "name": "stdout",
     "output_type": "stream",
     "text": [
      " "
     ]
    },
    {
     "data": {
      "application/vnd.jupyter.widget-view+json": {
       "model_id": "6b879c038bb84765857612aa760d6981",
       "version_major": 2,
       "version_minor": 0
      },
      "text/plain": [
       "Threshold = 87:   0%|          | 0/100 [00:00<?, ?it/s]"
      ]
     },
     "metadata": {},
     "output_type": "display_data"
    },
    {
     "name": "stdout",
     "output_type": "stream",
     "text": [
      " "
     ]
    },
    {
     "data": {
      "application/vnd.jupyter.widget-view+json": {
       "model_id": "e4f6b0987010462dbc9a36a57945fef0",
       "version_major": 2,
       "version_minor": 0
      },
      "text/plain": [
       "Threshold = 88:   0%|          | 0/100 [00:00<?, ?it/s]"
      ]
     },
     "metadata": {},
     "output_type": "display_data"
    },
    {
     "name": "stdout",
     "output_type": "stream",
     "text": [
      " "
     ]
    },
    {
     "data": {
      "application/vnd.jupyter.widget-view+json": {
       "model_id": "256913b14904484285dbdb5f9a584b24",
       "version_major": 2,
       "version_minor": 0
      },
      "text/plain": [
       "Threshold = 89:   0%|          | 0/100 [00:00<?, ?it/s]"
      ]
     },
     "metadata": {},
     "output_type": "display_data"
    },
    {
     "name": "stdout",
     "output_type": "stream",
     "text": [
      " "
     ]
    },
    {
     "data": {
      "application/vnd.jupyter.widget-view+json": {
       "model_id": "2a244cc079ac4ca0bce9ac09ba32583f",
       "version_major": 2,
       "version_minor": 0
      },
      "text/plain": [
       "Threshold = 90:   0%|          | 0/100 [00:00<?, ?it/s]"
      ]
     },
     "metadata": {},
     "output_type": "display_data"
    },
    {
     "name": "stdout",
     "output_type": "stream",
     "text": [
      " "
     ]
    },
    {
     "data": {
      "application/vnd.jupyter.widget-view+json": {
       "model_id": "c18a57b479364600af66b4c924bdd33c",
       "version_major": 2,
       "version_minor": 0
      },
      "text/plain": [
       "Threshold = 91:   0%|          | 0/100 [00:00<?, ?it/s]"
      ]
     },
     "metadata": {},
     "output_type": "display_data"
    },
    {
     "name": "stdout",
     "output_type": "stream",
     "text": [
      " "
     ]
    },
    {
     "data": {
      "application/vnd.jupyter.widget-view+json": {
       "model_id": "716ddffab089453f8ecbae2d69a5cd15",
       "version_major": 2,
       "version_minor": 0
      },
      "text/plain": [
       "Threshold = 92:   0%|          | 0/100 [00:00<?, ?it/s]"
      ]
     },
     "metadata": {},
     "output_type": "display_data"
    },
    {
     "name": "stdout",
     "output_type": "stream",
     "text": [
      " "
     ]
    },
    {
     "data": {
      "application/vnd.jupyter.widget-view+json": {
       "model_id": "cc0bde918038410bb15274f82ccc91cc",
       "version_major": 2,
       "version_minor": 0
      },
      "text/plain": [
       "Threshold = 93:   0%|          | 0/100 [00:00<?, ?it/s]"
      ]
     },
     "metadata": {},
     "output_type": "display_data"
    },
    {
     "name": "stdout",
     "output_type": "stream",
     "text": [
      "Done!\n",
      "This took 13830.99 seconds\n",
      "This took 230.52 minutes\n",
      "This took 3.84 hours\n",
      "CPU times: user 12.6 s, sys: 10.2 s, total: 22.8 s\n",
      "Wall time: 3h 50min 30s\n"
     ]
    }
   ],
   "source": [
    "%%time\n",
    "parallel_search_wrapper(thresholds=range(70,94), n_epochs=100, n_hands=10000, ROOT_DIR='thresholds', opp_thresh=70)"
   ]
  },
  {
   "cell_type": "code",
   "execution_count": 20,
   "metadata": {
    "collapsed": true,
    "jupyter": {
     "outputs_hidden": true
    }
   },
   "outputs": [
    {
     "name": "stdout",
     "output_type": "stream",
     "text": [
      "Writing to file: /Users/taylora/Documents/Personal/RL/euchre/thresholds/performance.csv\n",
      "         Threshold 88...Threshold 72...Threshold 86...Threshold 74...Threshold 75...Threshold 81...Threshold 80...Threshold 73...\n",
      "\n",
      "\n",
      "\n",
      "\n",
      "\n",
      "\n",
      "\n"
     ]
    },
    {
     "data": {
      "application/vnd.jupyter.widget-view+json": {
       "model_id": "8f74994117c54630868af6ecf23027c8",
       "version_major": 2,
       "version_minor": 0
      },
      "text/plain": [
       "  0%|          | 0/1000000 [00:00<?, ?it/s]"
      ]
     },
     "metadata": {},
     "output_type": "display_data"
    },
    {
     "data": {
      "application/vnd.jupyter.widget-view+json": {
       "model_id": "7264037295e748439e19e3a2614f5a7c",
       "version_major": 2,
       "version_minor": 0
      },
      "text/plain": [
       "  0%|          | 0/1000000 [00:00<?, ?it/s]"
      ]
     },
     "metadata": {},
     "output_type": "display_data"
    },
    {
     "data": {
      "application/vnd.jupyter.widget-view+json": {
       "model_id": "86c33aa1b8fc46e784854c07137dc3c9",
       "version_major": 2,
       "version_minor": 0
      },
      "text/plain": [
       "  0%|          | 0/1000000 [00:00<?, ?it/s]"
      ]
     },
     "metadata": {},
     "output_type": "display_data"
    },
    {
     "data": {
      "application/vnd.jupyter.widget-view+json": {
       "model_id": "b1a67848b37f4eaab6e7b92bd6fa7c67",
       "version_major": 2,
       "version_minor": 0
      },
      "text/plain": [
       "  0%|          | 0/1000000 [00:00<?, ?it/s]"
      ]
     },
     "metadata": {},
     "output_type": "display_data"
    },
    {
     "data": {
      "application/vnd.jupyter.widget-view+json": {
       "model_id": "afcfd67579bd435cb6350ed2ca6770b9",
       "version_major": 2,
       "version_minor": 0
      },
      "text/plain": [
       "  0%|          | 0/1000000 [00:00<?, ?it/s]"
      ]
     },
     "metadata": {},
     "output_type": "display_data"
    },
    {
     "data": {
      "application/vnd.jupyter.widget-view+json": {
       "model_id": "20a5aeec271c44a99a381de2d7d03b47",
       "version_major": 2,
       "version_minor": 0
      },
      "text/plain": [
       "  0%|          | 0/1000000 [00:00<?, ?it/s]"
      ]
     },
     "metadata": {},
     "output_type": "display_data"
    },
    {
     "data": {
      "application/vnd.jupyter.widget-view+json": {
       "model_id": "73a4601b62a348489f74a8e384eef69d",
       "version_major": 2,
       "version_minor": 0
      },
      "text/plain": [
       "  0%|          | 0/1000000 [00:00<?, ?it/s]"
      ]
     },
     "metadata": {},
     "output_type": "display_data"
    },
    {
     "data": {
      "application/vnd.jupyter.widget-view+json": {
       "model_id": "725c1a37405e419db7b4a3dc7df66b3d",
       "version_major": 2,
       "version_minor": 0
      },
      "text/plain": [
       "  0%|          | 0/1000000 [00:00<?, ?it/s]"
      ]
     },
     "metadata": {},
     "output_type": "display_data"
    },
    {
     "name": "stdout",
     "output_type": "stream",
     "text": [
      " Threshold 87...\n",
      " Threshold 89...\n",
      " Threshold 93...\n",
      " Threshold 92...\n",
      " Threshold 78...\n",
      " Threshold 76...\n",
      " Threshold 82...\n",
      " Threshold 85...\n"
     ]
    },
    {
     "data": {
      "application/vnd.jupyter.widget-view+json": {
       "model_id": "4f1567d8a1764e2ba8cb9167bd5b4cd3",
       "version_major": 2,
       "version_minor": 0
      },
      "text/plain": [
       "  0%|          | 0/1000000 [00:00<?, ?it/s]"
      ]
     },
     "metadata": {},
     "output_type": "display_data"
    },
    {
     "data": {
      "application/vnd.jupyter.widget-view+json": {
       "model_id": "fc06045304c641a3b1a32c8d208739e4",
       "version_major": 2,
       "version_minor": 0
      },
      "text/plain": [
       "  0%|          | 0/1000000 [00:00<?, ?it/s]"
      ]
     },
     "metadata": {},
     "output_type": "display_data"
    },
    {
     "data": {
      "application/vnd.jupyter.widget-view+json": {
       "model_id": "9abe617b6e3e4318a3f0e096e84c111c",
       "version_major": 2,
       "version_minor": 0
      },
      "text/plain": [
       "  0%|          | 0/1000000 [00:00<?, ?it/s]"
      ]
     },
     "metadata": {},
     "output_type": "display_data"
    },
    {
     "data": {
      "application/vnd.jupyter.widget-view+json": {
       "model_id": "fbe5434b36bf4d9b9c44032538e4c19b",
       "version_major": 2,
       "version_minor": 0
      },
      "text/plain": [
       "  0%|          | 0/1000000 [00:00<?, ?it/s]"
      ]
     },
     "metadata": {},
     "output_type": "display_data"
    },
    {
     "data": {
      "application/vnd.jupyter.widget-view+json": {
       "model_id": "e94ff469199d4d60bdf02aa24f2139bf",
       "version_major": 2,
       "version_minor": 0
      },
      "text/plain": [
       "  0%|          | 0/1000000 [00:00<?, ?it/s]"
      ]
     },
     "metadata": {},
     "output_type": "display_data"
    },
    {
     "data": {
      "application/vnd.jupyter.widget-view+json": {
       "model_id": "390ddda9ea584c9ebacb70fcca3b23f8",
       "version_major": 2,
       "version_minor": 0
      },
      "text/plain": [
       "  0%|          | 0/1000000 [00:00<?, ?it/s]"
      ]
     },
     "metadata": {},
     "output_type": "display_data"
    },
    {
     "data": {
      "application/vnd.jupyter.widget-view+json": {
       "model_id": "e7161700d029415fb6fedd75a2650fb5",
       "version_major": 2,
       "version_minor": 0
      },
      "text/plain": [
       "  0%|          | 0/1000000 [00:00<?, ?it/s]"
      ]
     },
     "metadata": {},
     "output_type": "display_data"
    },
    {
     "data": {
      "application/vnd.jupyter.widget-view+json": {
       "model_id": "07c315a1c9154f0a81ef50159ae57e8a",
       "version_major": 2,
       "version_minor": 0
      },
      "text/plain": [
       "  0%|          | 0/1000000 [00:00<?, ?it/s]"
      ]
     },
     "metadata": {},
     "output_type": "display_data"
    },
    {
     "name": "stdout",
     "output_type": "stream",
     "text": [
      " Threshold 71...\n",
      " Threshold 70...\n",
      " Threshold 84...\n",
      " Threshold 83...\n",
      " Threshold 77...\n",
      " Threshold 79...\n",
      " Threshold 90...\n",
      " Threshold 91...\n"
     ]
    },
    {
     "data": {
      "application/vnd.jupyter.widget-view+json": {
       "model_id": "3716426dc568461fabd8a344162c8cd7",
       "version_major": 2,
       "version_minor": 0
      },
      "text/plain": [
       "  0%|          | 0/1000000 [00:00<?, ?it/s]"
      ]
     },
     "metadata": {},
     "output_type": "display_data"
    },
    {
     "data": {
      "application/vnd.jupyter.widget-view+json": {
       "model_id": "95d3515bfa244e8299ac26f42ac537e9",
       "version_major": 2,
       "version_minor": 0
      },
      "text/plain": [
       "  0%|          | 0/1000000 [00:00<?, ?it/s]"
      ]
     },
     "metadata": {},
     "output_type": "display_data"
    },
    {
     "data": {
      "application/vnd.jupyter.widget-view+json": {
       "model_id": "dfa1f8db00dd4450946845f0e966df67",
       "version_major": 2,
       "version_minor": 0
      },
      "text/plain": [
       "  0%|          | 0/1000000 [00:00<?, ?it/s]"
      ]
     },
     "metadata": {},
     "output_type": "display_data"
    },
    {
     "data": {
      "application/vnd.jupyter.widget-view+json": {
       "model_id": "0ca1e246993249c39970e2132ff9c543",
       "version_major": 2,
       "version_minor": 0
      },
      "text/plain": [
       "  0%|          | 0/1000000 [00:00<?, ?it/s]"
      ]
     },
     "metadata": {},
     "output_type": "display_data"
    },
    {
     "data": {
      "application/vnd.jupyter.widget-view+json": {
       "model_id": "3272a222f6c44427a577c02c589f1a80",
       "version_major": 2,
       "version_minor": 0
      },
      "text/plain": [
       "  0%|          | 0/1000000 [00:00<?, ?it/s]"
      ]
     },
     "metadata": {},
     "output_type": "display_data"
    },
    {
     "data": {
      "application/vnd.jupyter.widget-view+json": {
       "model_id": "dc3f663fd6c04ebc8d2a8726153fffcc",
       "version_major": 2,
       "version_minor": 0
      },
      "text/plain": [
       "  0%|          | 0/1000000 [00:00<?, ?it/s]"
      ]
     },
     "metadata": {},
     "output_type": "display_data"
    },
    {
     "data": {
      "application/vnd.jupyter.widget-view+json": {
       "model_id": "c149c61698d44e1f8e86ed401982cd72",
       "version_major": 2,
       "version_minor": 0
      },
      "text/plain": [
       "  0%|          | 0/1000000 [00:00<?, ?it/s]"
      ]
     },
     "metadata": {},
     "output_type": "display_data"
    },
    {
     "data": {
      "application/vnd.jupyter.widget-view+json": {
       "model_id": "2aceef60c46a4e0c9e461ce5f9afb34f",
       "version_major": 2,
       "version_minor": 0
      },
      "text/plain": [
       "  0%|          | 0/1000000 [00:00<?, ?it/s]"
      ]
     },
     "metadata": {},
     "output_type": "display_data"
    },
    {
     "name": "stdout",
     "output_type": "stream",
     "text": [
      "Done!\n",
      "CPU times: user 15.8 s, sys: 13.1 s, total: 28.9 s\n",
      "Wall time: 6min 57s\n"
     ]
    }
   ],
   "source": [
    "%%time\n",
    "get_performance(ROOT_DIR=os.path.join(os.getcwd(), 'thresholds'), use_mp=True, amount_tqdm=1)"
   ]
  },
  {
   "cell_type": "code",
   "execution_count": 29,
   "metadata": {},
   "outputs": [
    {
     "data": {
      "image/png": "[encoded data removed]",
      "text/plain": [
       "<Figure size 432x288 with 1 Axes>"
      ]
     },
     "metadata": {
      "needs_background": "light"
     },
     "output_type": "display_data"
    }
   ],
   "source": [
    "df = pd.read_csv('thresholds/performance_1M.csv').sort_values('Threshold')\n",
    "df = df[df['TotalHands']==int(1e6)]\n",
    "points, error = df['TotalSum']-df['OppSum'], np.sqrt(df['TotalStd']**2 + df['OppStd']**2)\n",
    "plt.plot(df['Threshold'], points)\n",
    "plt.fill_between(df['Threshold'], points+error, points-error, alpha=0.2, facecolor='gray')\n",
    "plt.xlabel('Calling threshold')\n",
    "plt.ylabel('Points in 1,000,000 hands')\n",
    "mx_thresh = df[(df['TotalSum']-df['OppSum'])==(df['TotalSum']-df['OppSum']).max()]['Threshold']\n",
    "plt.title('Threshold vs performance (opp = 70, max at %i)' %mx_thresh)\n",
    "\n",
    "if 'figs' not in os.listdir():\n",
    "    os.mkdir('figs')\n",
    "plt.savefig('figs/threshold_vs_performance_deep.png')\n",
    "\n",
    "plt.show()"
   ]
  },
  {
   "cell_type": "markdown",
   "metadata": {},
   "source": [
    "# Using data made on HPC"
   ]
  },
  {
   "cell_type": "code",
   "execution_count": 25,
   "metadata": {},
   "outputs": [
    {
     "ename": "TypeError",
     "evalue": "ufunc 'isfinite' not supported for the input types, and the inputs could not be safely coerced to any supported types according to the casting rule ''safe''",
     "output_type": "error",
     "traceback": [
      "\u001b[0;31m---------------------------------------------------------------------------\u001b[0m",
      "\u001b[0;31mTypeError\u001b[0m                                 Traceback (most recent call last)",
      "\u001b[0;32m<ipython-input-25-0dd02b8f295b>\u001b[0m in \u001b[0;36m<module>\u001b[0;34m\u001b[0m\n\u001b[1;32m      3\u001b[0m \u001b[0mpoints\u001b[0m\u001b[0;34m,\u001b[0m \u001b[0merror\u001b[0m \u001b[0;34m=\u001b[0m \u001b[0mdf\u001b[0m\u001b[0;34m[\u001b[0m\u001b[0;34m'TotalSum'\u001b[0m\u001b[0;34m]\u001b[0m\u001b[0;34m-\u001b[0m\u001b[0mdf\u001b[0m\u001b[0;34m[\u001b[0m\u001b[0;34m'OppSum'\u001b[0m\u001b[0;34m]\u001b[0m\u001b[0;34m,\u001b[0m \u001b[0mnp\u001b[0m\u001b[0;34m.\u001b[0m\u001b[0msqrt\u001b[0m\u001b[0;34m(\u001b[0m\u001b[0mdf\u001b[0m\u001b[0;34m[\u001b[0m\u001b[0;34m'TotalStd'\u001b[0m\u001b[0;34m]\u001b[0m\u001b[0;34m**\u001b[0m\u001b[0;36m2\u001b[0m \u001b[0;34m+\u001b[0m \u001b[0mdf\u001b[0m\u001b[0;34m[\u001b[0m\u001b[0;34m'OppStd'\u001b[0m\u001b[0;34m]\u001b[0m\u001b[0;34m**\u001b[0m\u001b[0;36m2\u001b[0m\u001b[0;34m)\u001b[0m\u001b[0;34m\u001b[0m\u001b[0;34m\u001b[0m\u001b[0m\n\u001b[1;32m      4\u001b[0m \u001b[0mplt\u001b[0m\u001b[0;34m.\u001b[0m\u001b[0mplot\u001b[0m\u001b[0;34m(\u001b[0m\u001b[0mdf\u001b[0m\u001b[0;34m[\u001b[0m\u001b[0;34m'Threshold'\u001b[0m\u001b[0;34m]\u001b[0m\u001b[0;34m,\u001b[0m \u001b[0mpoints\u001b[0m\u001b[0;34m)\u001b[0m\u001b[0;34m\u001b[0m\u001b[0;34m\u001b[0m\u001b[0m\n\u001b[0;32m----> 5\u001b[0;31m \u001b[0mplt\u001b[0m\u001b[0;34m.\u001b[0m\u001b[0mfill_between\u001b[0m\u001b[0;34m(\u001b[0m\u001b[0mdf\u001b[0m\u001b[0;34m[\u001b[0m\u001b[0;34m'Threshold'\u001b[0m\u001b[0;34m]\u001b[0m\u001b[0;34m,\u001b[0m \u001b[0mpoints\u001b[0m\u001b[0;34m+\u001b[0m\u001b[0merror\u001b[0m\u001b[0;34m,\u001b[0m \u001b[0mpoints\u001b[0m\u001b[0;34m-\u001b[0m\u001b[0merror\u001b[0m\u001b[0;34m,\u001b[0m \u001b[0malpha\u001b[0m\u001b[0;34m=\u001b[0m\u001b[0;36m0.2\u001b[0m\u001b[0;34m,\u001b[0m \u001b[0mfacecolor\u001b[0m\u001b[0;34m=\u001b[0m\u001b[0;34m'gray'\u001b[0m\u001b[0;34m)\u001b[0m\u001b[0;34m\u001b[0m\u001b[0;34m\u001b[0m\u001b[0m\n\u001b[0m\u001b[1;32m      6\u001b[0m \u001b[0mplt\u001b[0m\u001b[0;34m.\u001b[0m\u001b[0mxlabel\u001b[0m\u001b[0;34m(\u001b[0m\u001b[0;34m'Calling threshold'\u001b[0m\u001b[0;34m)\u001b[0m\u001b[0;34m\u001b[0m\u001b[0;34m\u001b[0m\u001b[0m\n\u001b[1;32m      7\u001b[0m \u001b[0mplt\u001b[0m\u001b[0;34m.\u001b[0m\u001b[0mylabel\u001b[0m\u001b[0;34m(\u001b[0m\u001b[0;34m'Points in 10 million hands'\u001b[0m\u001b[0;34m)\u001b[0m\u001b[0;34m\u001b[0m\u001b[0;34m\u001b[0m\u001b[0m\n",
      "\u001b[0;32m~/opt/anaconda3/lib/python3.7/site-packages/matplotlib/pyplot.py\u001b[0m in \u001b[0;36mfill_between\u001b[0;34m(x, y1, y2, where, interpolate, step, data, **kwargs)\u001b[0m\n\u001b[1;32m   2622\u001b[0m     return gca().fill_between(\n\u001b[1;32m   2623\u001b[0m         \u001b[0mx\u001b[0m\u001b[0;34m,\u001b[0m \u001b[0my1\u001b[0m\u001b[0;34m,\u001b[0m \u001b[0my2\u001b[0m\u001b[0;34m=\u001b[0m\u001b[0my2\u001b[0m\u001b[0;34m,\u001b[0m \u001b[0mwhere\u001b[0m\u001b[0;34m=\u001b[0m\u001b[0mwhere\u001b[0m\u001b[0;34m,\u001b[0m \u001b[0minterpolate\u001b[0m\u001b[0;34m=\u001b[0m\u001b[0minterpolate\u001b[0m\u001b[0;34m,\u001b[0m \u001b[0mstep\u001b[0m\u001b[0;34m=\u001b[0m\u001b[0mstep\u001b[0m\u001b[0;34m,\u001b[0m\u001b[0;34m\u001b[0m\u001b[0;34m\u001b[0m\u001b[0m\n\u001b[0;32m-> 2624\u001b[0;31m         **({\"data\": data} if data is not None else {}), **kwargs)\n\u001b[0m\u001b[1;32m   2625\u001b[0m \u001b[0;34m\u001b[0m\u001b[0m\n\u001b[1;32m   2626\u001b[0m \u001b[0;34m\u001b[0m\u001b[0m\n",
      "\u001b[0;32m~/opt/anaconda3/lib/python3.7/site-packages/matplotlib/__init__.py\u001b[0m in \u001b[0;36minner\u001b[0;34m(ax, data, *args, **kwargs)\u001b[0m\n\u001b[1;32m   1436\u001b[0m     \u001b[0;32mdef\u001b[0m \u001b[0minner\u001b[0m\u001b[0;34m(\u001b[0m\u001b[0max\u001b[0m\u001b[0;34m,\u001b[0m \u001b[0;34m*\u001b[0m\u001b[0margs\u001b[0m\u001b[0;34m,\u001b[0m \u001b[0mdata\u001b[0m\u001b[0;34m=\u001b[0m\u001b[0;32mNone\u001b[0m\u001b[0;34m,\u001b[0m \u001b[0;34m**\u001b[0m\u001b[0mkwargs\u001b[0m\u001b[0;34m)\u001b[0m\u001b[0;34m:\u001b[0m\u001b[0;34m\u001b[0m\u001b[0;34m\u001b[0m\u001b[0m\n\u001b[1;32m   1437\u001b[0m         \u001b[0;32mif\u001b[0m \u001b[0mdata\u001b[0m \u001b[0;32mis\u001b[0m \u001b[0;32mNone\u001b[0m\u001b[0;34m:\u001b[0m\u001b[0;34m\u001b[0m\u001b[0;34m\u001b[0m\u001b[0m\n\u001b[0;32m-> 1438\u001b[0;31m             \u001b[0;32mreturn\u001b[0m \u001b[0mfunc\u001b[0m\u001b[0;34m(\u001b[0m\u001b[0max\u001b[0m\u001b[0;34m,\u001b[0m \u001b[0;34m*\u001b[0m\u001b[0mmap\u001b[0m\u001b[0;34m(\u001b[0m\u001b[0msanitize_sequence\u001b[0m\u001b[0;34m,\u001b[0m \u001b[0margs\u001b[0m\u001b[0;34m)\u001b[0m\u001b[0;34m,\u001b[0m \u001b[0;34m**\u001b[0m\u001b[0mkwargs\u001b[0m\u001b[0;34m)\u001b[0m\u001b[0;34m\u001b[0m\u001b[0;34m\u001b[0m\u001b[0m\n\u001b[0m\u001b[1;32m   1439\u001b[0m \u001b[0;34m\u001b[0m\u001b[0m\n\u001b[1;32m   1440\u001b[0m         \u001b[0mbound\u001b[0m \u001b[0;34m=\u001b[0m \u001b[0mnew_sig\u001b[0m\u001b[0;34m.\u001b[0m\u001b[0mbind\u001b[0m\u001b[0;34m(\u001b[0m\u001b[0max\u001b[0m\u001b[0;34m,\u001b[0m \u001b[0;34m*\u001b[0m\u001b[0margs\u001b[0m\u001b[0;34m,\u001b[0m \u001b[0;34m**\u001b[0m\u001b[0mkwargs\u001b[0m\u001b[0;34m)\u001b[0m\u001b[0;34m\u001b[0m\u001b[0;34m\u001b[0m\u001b[0m\n",
      "\u001b[0;32m~/opt/anaconda3/lib/python3.7/site-packages/matplotlib/axes/_axes.py\u001b[0m in \u001b[0;36mfill_between\u001b[0;34m(self, x, y1, y2, where, interpolate, step, **kwargs)\u001b[0m\n\u001b[1;32m   5301\u001b[0m         return self._fill_between_x_or_y(\n\u001b[1;32m   5302\u001b[0m             \u001b[0;34m\"x\"\u001b[0m\u001b[0;34m,\u001b[0m \u001b[0mx\u001b[0m\u001b[0;34m,\u001b[0m \u001b[0my1\u001b[0m\u001b[0;34m,\u001b[0m \u001b[0my2\u001b[0m\u001b[0;34m,\u001b[0m\u001b[0;34m\u001b[0m\u001b[0;34m\u001b[0m\u001b[0m\n\u001b[0;32m-> 5303\u001b[0;31m             where=where, interpolate=interpolate, step=step, **kwargs)\n\u001b[0m\u001b[1;32m   5304\u001b[0m \u001b[0;34m\u001b[0m\u001b[0m\n\u001b[1;32m   5305\u001b[0m     \u001b[0;32mif\u001b[0m \u001b[0m_fill_between_x_or_y\u001b[0m\u001b[0;34m.\u001b[0m\u001b[0m__doc__\u001b[0m\u001b[0;34m:\u001b[0m\u001b[0;34m\u001b[0m\u001b[0;34m\u001b[0m\u001b[0m\n",
      "\u001b[0;32m~/opt/anaconda3/lib/python3.7/site-packages/matplotlib/axes/_axes.py\u001b[0m in \u001b[0;36m_fill_between_x_or_y\u001b[0;34m(self, ind_dir, ind, dep1, dep2, where, interpolate, step, **kwargs)\u001b[0m\n\u001b[1;32m   5201\u001b[0m \u001b[0;34m\u001b[0m\u001b[0m\n\u001b[1;32m   5202\u001b[0m         \u001b[0;31m# Convert the arrays so we can work with them\u001b[0m\u001b[0;34m\u001b[0m\u001b[0;34m\u001b[0m\u001b[0;34m\u001b[0m\u001b[0m\n\u001b[0;32m-> 5203\u001b[0;31m         \u001b[0mind\u001b[0m \u001b[0;34m=\u001b[0m \u001b[0mma\u001b[0m\u001b[0;34m.\u001b[0m\u001b[0mmasked_invalid\u001b[0m\u001b[0;34m(\u001b[0m\u001b[0mgetattr\u001b[0m\u001b[0;34m(\u001b[0m\u001b[0mself\u001b[0m\u001b[0;34m,\u001b[0m \u001b[0;34mf\"convert_{ind_dir}units\"\u001b[0m\u001b[0;34m)\u001b[0m\u001b[0;34m(\u001b[0m\u001b[0mind\u001b[0m\u001b[0;34m)\u001b[0m\u001b[0;34m)\u001b[0m\u001b[0;34m\u001b[0m\u001b[0;34m\u001b[0m\u001b[0m\n\u001b[0m\u001b[1;32m   5204\u001b[0m         dep1 = ma.masked_invalid(\n\u001b[1;32m   5205\u001b[0m             getattr(self, f\"convert_{dep_dir}units\")(dep1))\n",
      "\u001b[0;32m~/opt/anaconda3/lib/python3.7/site-packages/numpy/ma/core.py\u001b[0m in \u001b[0;36mmasked_invalid\u001b[0;34m(a, copy)\u001b[0m\n\u001b[1;32m   2369\u001b[0m         \u001b[0mcls\u001b[0m \u001b[0;34m=\u001b[0m \u001b[0mtype\u001b[0m\u001b[0;34m(\u001b[0m\u001b[0ma\u001b[0m\u001b[0;34m)\u001b[0m\u001b[0;34m\u001b[0m\u001b[0;34m\u001b[0m\u001b[0m\n\u001b[1;32m   2370\u001b[0m     \u001b[0;32melse\u001b[0m\u001b[0;34m:\u001b[0m\u001b[0;34m\u001b[0m\u001b[0;34m\u001b[0m\u001b[0m\n\u001b[0;32m-> 2371\u001b[0;31m         \u001b[0mcondition\u001b[0m \u001b[0;34m=\u001b[0m \u001b[0;34m~\u001b[0m\u001b[0;34m(\u001b[0m\u001b[0mnp\u001b[0m\u001b[0;34m.\u001b[0m\u001b[0misfinite\u001b[0m\u001b[0;34m(\u001b[0m\u001b[0ma\u001b[0m\u001b[0;34m)\u001b[0m\u001b[0;34m)\u001b[0m\u001b[0;34m\u001b[0m\u001b[0;34m\u001b[0m\u001b[0m\n\u001b[0m\u001b[1;32m   2372\u001b[0m         \u001b[0mcls\u001b[0m \u001b[0;34m=\u001b[0m \u001b[0mMaskedArray\u001b[0m\u001b[0;34m\u001b[0m\u001b[0;34m\u001b[0m\u001b[0m\n\u001b[1;32m   2373\u001b[0m     \u001b[0mresult\u001b[0m \u001b[0;34m=\u001b[0m \u001b[0ma\u001b[0m\u001b[0;34m.\u001b[0m\u001b[0mview\u001b[0m\u001b[0;34m(\u001b[0m\u001b[0mcls\u001b[0m\u001b[0;34m)\u001b[0m\u001b[0;34m\u001b[0m\u001b[0;34m\u001b[0m\u001b[0m\n",
      "\u001b[0;31mTypeError\u001b[0m: ufunc 'isfinite' not supported for the input types, and the inputs could not be safely coerced to any supported types according to the casting rule ''safe''"
     ]
    },
    {
     "data": {
      "image/png": "[encoded data removed]",
      "text/plain": [
       "<Figure size 432x288 with 1 Axes>"
      ]
     },
     "metadata": {
      "needs_background": "light"
     },
     "output_type": "display_data"
    }
   ],
   "source": [
    "df = pd.read_csv('thresholds/performance_10M.csv').sort_values('Threshold')\n",
    "df = df[df['TotalHands']==int(1e6)]\n",
    "points, error = df['TotalSum']-df['OppSum'], np.sqrt(df['TotalStd']**2 + df['OppStd']**2)\n",
    "plt.plot(df['Threshold'], points)\n",
    "plt.fill_between(df['Threshold'], points+error, points-error, alpha=0.2, facecolor='gray')\n",
    "plt.xlabel('Calling threshold')\n",
    "plt.ylabel('Points in 10 million hands')\n",
    "mx_thresh = df[(df['TotalSum']-df['OppSum'])==(df['TotalSum']-df['OppSum']).max()]['Threshold']\n",
    "plt.title('Threshold vs performance (opp = 70, max at %i)' %mx_thresh)\n",
    "\n",
    "if 'figs' not in os.listdir():\n",
    "    os.mkdir('figs')\n",
    "plt.savefig('figs/threshold_vs_performance_superdeep.png')\n",
    "\n",
    "plt.show()"
   ]
  },
  {
   "cell_type": "code",
   "execution_count": null,
   "metadata": {},
   "outputs": [],
   "source": []
  }
 ],
 "metadata": {
  "kernelspec": {
   "display_name": "Python 3",
   "language": "python",
   "name": "python3"
  },
  "language_info": {
   "codemirror_mode": {
    "name": "ipython",
    "version": 3
   },
   "file_extension": ".py",
   "mimetype": "text/x-python",
   "name": "python",
   "nbconvert_exporter": "python",
   "pygments_lexer": "ipython3",
   "version": "3.7.7"
  }
 },
 "nbformat": 4,
 "nbformat_minor": 4
}
