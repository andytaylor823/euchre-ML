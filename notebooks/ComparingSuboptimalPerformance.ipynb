{
 "cells": [
  {
   "cell_type": "markdown",
   "metadata": {},
   "source": [
    "# Imports"
   ]
  },
  {
   "cell_type": "code",
   "execution_count": 196,
   "metadata": {},
   "outputs": [
    {
     "name": "stdout",
     "output_type": "stream",
     "text": [
      "The autoreload extension is already loaded. To reload it, use:\n",
      "  %reload_ext autoreload\n"
     ]
    }
   ],
   "source": [
    "%load_ext autoreload\n",
    "%autoreload 2"
   ]
  },
  {
   "cell_type": "code",
   "execution_count": 197,
   "metadata": {},
   "outputs": [],
   "source": [
    "# Basic Python computing\n",
    "import numpy as np\n",
    "import os\n",
    "import sys\n",
    "import matplotlib.pyplot as plt\n",
    "import pickle\n",
    "import pandas as pd\n",
    "pd.set_option('display.max_columns', 200)\n",
    "\n",
    "# Multiprocessing and other helpful non-necessities\n",
    "from functools import partial\n",
    "import multiprocessing\n",
    "import time\n",
    "from multiprocessing.pool import ThreadPool\n",
    "import threading\n",
    "from tqdm import notebook\n",
    "notebook.tqdm.pandas()\n",
    "notebook.tqdm.get_lock().locks = []\n",
    "\n",
    "# Euchre functions from src\n",
    "sys.path.insert(0, '/'.join(os.getcwd().split('/')[:-1]) + '/src')\n",
    "from card import Card\n",
    "from board import Board\n",
    "from player import Player\n",
    "from rule import Rule\n",
    "import optimal_strategy as opt\n",
    "import suboptimal_strategy as subopt\n",
    "\n",
    "# Data functions from src\n",
    "from euchre_lib import *\n",
    "from search_lib import *\n",
    "import data_formatting as dtf\n",
    "from Timer import Timer\n",
    "import store_data"
   ]
  },
  {
   "cell_type": "code",
   "execution_count": 39,
   "metadata": {},
   "outputs": [],
   "source": [
    "import yaml\n",
    "CFG_FILE = '/'.join(os.getcwd().split('/')[:-1]) + '/config.yaml'\n",
    "CONFIG = yaml.load(open(CFG_FILE, 'r'), Loader=yaml.FullLoader)"
   ]
  },
  {
   "cell_type": "code",
   "execution_count": null,
   "metadata": {},
   "outputs": [],
   "source": []
  },
  {
   "cell_type": "markdown",
   "metadata": {},
   "source": [
    "# Create optimal-vs-basic dataset"
   ]
  },
  {
   "cell_type": "code",
   "execution_count": 89,
   "metadata": {},
   "outputs": [],
   "source": [
    "#outfolder = CONFIG['big_data_dir'] + 'opt_vs_basic'\n",
    "outfolder = CONFIG['data_dir'] + 'opt_vs_basic'\n",
    "if not os.path.exists(outfolder): os.mkdir(outfolder)\n",
    "os.system(f'rm {outfolder}/*')\n",
    "p0, p2 = opt.make_optimal_player(0), opt.make_optimal_player(2)\n",
    "p1, p3 = subopt.make_BASIC_player(1), subopt.make_BASIC_player(3)"
   ]
  },
  {
   "cell_type": "code",
   "execution_count": 90,
   "metadata": {},
   "outputs": [],
   "source": [
    "# Short wrapper to use multiprocessing to run many \n",
    "def performance(id, n_epochs, n_hands, p0=None, p1=None, p2=None, p3=None, use_tqdm=False):\n",
    "    iterable = range(n_epochs)\n",
    "    if use_tqdm:\n",
    "        print(' ', end='', flush=True)\n",
    "        iterable = notebook.tqdm(iterable, desc='Worker '+str(id))\n",
    "    \n",
    "    for i in iterable:\n",
    "        if not use_tqdm:\n",
    "            print('Worker %i, epoch %i...' %(id, i))\n",
    "        board = Board(p0=p0, p1=p1, p2=p2, p3=p3)\n",
    "        for hand in range(n_hands):\n",
    "            board.play_hand()\n",
    "        board.writeout(folder=outfolder, keep_results=False)"
   ]
  },
  {
   "cell_type": "code",
   "execution_count": 91,
   "metadata": {},
   "outputs": [],
   "source": [
    "n_epochs, n_hands = int(1e1), int(1e4)\n",
    "AVAILABLE_CPUS = 16-1\n",
    "n_epochs = max(n_epochs, AVAILABLE_CPUS) # Use all the CPUs available\n",
    "particular_performance_function = partial(performance, n_epochs=int(n_epochs/AVAILABLE_CPUS), n_hands=n_hands, p0=p0, p1=p1, p2=p2, p3=p3)"
   ]
  },
  {
   "cell_type": "code",
   "execution_count": 92,
   "metadata": {},
   "outputs": [
    {
     "name": "stdout",
     "output_type": "stream",
     "text": [
      "Worker 1, epoch 0...Worker 3, epoch 0...Worker 0, epoch 0...Worker 2, epoch 0...\n",
      "Worker 5, epoch 0...Worker 6, epoch 0...Worker 4, epoch 0...\n",
      "Worker 7, epoch 0...Worker 9, epoch 0...\n",
      "\n",
      "\n",
      "\n",
      "\n",
      "Worker 8, epoch 0...Worker 11, epoch 0...Worker 12, epoch 0...Worker 10, epoch 0...\n",
      "\n",
      "\n",
      "Worker 13, epoch 0...\n",
      "\n",
      "\n",
      "Worker 14, epoch 0...\n",
      "\n",
      "Done!\n",
      "CPU times: user 15.8 ms, sys: 40.4 ms, total: 56.2 ms\n",
      "Wall time: 151 ms\n"
     ]
    }
   ],
   "source": [
    "%%time\n",
    "pool = multiprocessing.Pool(AVAILABLE_CPUS)\n",
    "for worker in range(AVAILABLE_CPUS):\n",
    "    pool.apply_async(particular_performance_function, args=(worker,))\n",
    "pool.close()\n",
    "pool.join()\n",
    "print('Done!')"
   ]
  },
  {
   "cell_type": "code",
   "execution_count": null,
   "metadata": {},
   "outputs": [],
   "source": []
  },
  {
   "cell_type": "markdown",
   "metadata": {},
   "source": [
    "# Synthesize performance"
   ]
  },
  {
   "cell_type": "code",
   "execution_count": 66,
   "metadata": {},
   "outputs": [],
   "source": [
    "CORRECT_COMMA_COUNT = 124\n",
    "def clean_csv(folder):\n",
    "    print('Cleaning folder:', folder)\n",
    "    for file in os.listdir(folder):\n",
    "        if '.csv' not in file: continue\n",
    "        with open(os.path.join(folder, file), 'r') as f:\n",
    "            lines = f.read().split('\\n')\n",
    "        good_lines = [l for l in lines if len(l.split(',')) == CORRECT_COMMA_COUNT]\n",
    "        if len(good_lines) < 0.5*len(lines):\n",
    "            print('BIG ERROR')\n",
    "            continue\n",
    "        if len(good_lines)+1 < len(lines):\n",
    "            print('%s has %i bad lines' %(file, len(lines)-len(good_lines)))\n",
    "            with open(os.path.join(folder, file), 'w') as f:\n",
    "                f.write('\\n'.join(good_lines))"
   ]
  },
  {
   "cell_type": "code",
   "execution_count": 67,
   "metadata": {},
   "outputs": [
    {
     "name": "stdout",
     "output_type": "stream",
     "text": [
      "Cleaning folder: /home/taylora_mitre/euchre-ML/data/opt_vs_basic\n"
     ]
    }
   ],
   "source": [
    "clean_csv(outfolder)"
   ]
  },
  {
   "cell_type": "code",
   "execution_count": 31,
   "metadata": {},
   "outputs": [],
   "source": [
    "clean_csv('/staging/fast/taylora/euchre/opt_vs_inter')"
   ]
  },
  {
   "cell_type": "code",
   "execution_count": 32,
   "metadata": {},
   "outputs": [],
   "source": [
    "clean_csv('/staging/fast/taylora/euchre/inter_vs_basic')"
   ]
  },
  {
   "cell_type": "code",
   "execution_count": 49,
   "metadata": {},
   "outputs": [],
   "source": [
    "def get_performance(folder, p02_level, p13_level):\n",
    "    print('Loading files into memory...')\n",
    "    if folder[-1] != '/': folder += '/'\n",
    "    df = pd.concat([pd.read_csv(folder+file) for file in os.listdir(folder) if '.csv' in file]).reset_index(drop=True)\n",
    "    if len(p02_level) < len(p13_level): p02_level += ' '*(len(p13_level)-len(p02_level))\n",
    "    else:                               p13_level += ' '*(len(p02_level)-len(p13_level))\n",
    "    \n",
    "    print('Applying caller trueid / points...')\n",
    "    df['caller_trueid'] = df.apply(lambda row: row['p' + str(row['caller']) + 'trueid'], axis=1)\n",
    "    df['caller_points'] = df.apply(lambda x: 4*(x['result']=='Loner') + 2*(x['result']=='Sweep') +\\\n",
    "                                             1*(x['result']=='Single') - 2*(x['result']=='EUCHRE'), axis=1)\n",
    "    calls = [df[df['caller_trueid']==i] for i in range(4)]\n",
    "    \n",
    "    \"\"\"\n",
    "    What do I want to return? What useful statistics can I show to prove that Optimal > Intermediate > Basic?\n",
    "    \n",
    "    1.) Avg points per EVERY hand\n",
    "    2.) Avg points per call\n",
    "    3.) Rate of euchres / singles / sweeps per call\n",
    "    4.) Rate of loner successes\n",
    "    \"\"\"\n",
    "    mask_02 = (df['caller_trueid'] == 0) | (df['caller_trueid'] == 2)\n",
    "    mask_13 = (df['caller_trueid'] == 1) | (df['caller_trueid'] == 3)\n",
    "    callcount_02 = len(calls[0]) + len(calls[2])\n",
    "    callcount_13 = len(calls[1]) + len(calls[3])\n",
    "    \n",
    "    # Statistic 1: Avg points (by team) per every hand\n",
    "    points_02 = sum(df[(df['caller_points'] > 0) & (mask_02)]['caller_points']) + sum(df[(df['caller_points'] < 0) & (mask_13)]['caller_points'])\n",
    "    points_13 = sum(df[(df['caller_points'] > 0) & (mask_13)]['caller_points']) + sum(df[(df['caller_points'] < 0) & (mask_02)]['caller_points'])\n",
    "    print('Non-negative PPH Team 0/2 (%s): %.2f' %(p02_level, points_02/len(df)))\n",
    "    print('Non-negative PPH Team 1/3 (%s): %.2f' %(p13_level, points_13/len(df)))\n",
    "    print()\n",
    "    \n",
    "    # Statistic 2: Avg points (by team) per call\n",
    "    print('PPC Team 0/2 (%s): %.2f' %(p02_level, (sum(calls[0]['caller_points'])+sum(calls[2]['caller_points'])/callcount_02)))\n",
    "    print('PPC Team 1/3 (%s): %.2f' %(p13_level, (sum(calls[1]['caller_points'])+sum(calls[3]['caller_points'])/callcount_13)))\n",
    "    print()\n",
    "    \n",
    "    # Statistic 3: Rate of euchres / singles / sweeps (by team) per call\n",
    "    print('Euchre / single / sweep rate Team 0/2 (%s): %.3f / %.3f / %.3f' %(p02_level,\n",
    "        (sum(calls[0]['caller_points']==-2) + sum(calls[2]['caller_points']==-2)) / callcount_02,\n",
    "        (sum((calls[0]['caller_points']==1)&(calls[0]['alone']==0)) + sum((calls[2]['caller_points']==1)&(calls[2]['alone']==0))) / callcount_02,\n",
    "        (sum(calls[0]['caller_points']==2) + sum(calls[2]['caller_points']==2)) / callcount_02\n",
    "    ))\n",
    "    print('Euchre / single / sweep rate Team 1/3 (%s): %.3f / %.3f / %.3f' %(p13_level,\n",
    "        (sum(calls[1]['caller_points']==-2) + sum(calls[3]['caller_points']==-2)) / callcount_13,\n",
    "        (sum((calls[1]['caller_points']==1)&(calls[1]['alone']==0)) + sum((calls[3]['caller_points']==1)&(calls[3]['alone']==0))) / callcount_13,\n",
    "        (sum(calls[1]['caller_points']==2) + sum(calls[3]['caller_points']==2)) / callcount_13\n",
    "    ))\n",
    "    \n",
    "    # Statistic 4: Rate of loner successes (by team)\n",
    "    loners = [c['alone']==1 for c in calls]\n",
    "    print('Loner success rate Team 0/2 (%s): %.2f' %(p02_level, (sum(loners[0]['caller_points']==4)+sum(loners[2]['caller_points']==4))\\\n",
    "                                                                 /(len(loners[0])+len(loners[2]))))\n",
    "    print('Loner success rate Team 0/2 (%s): %.2f' %(p02_level, (sum(loners[1]['caller_points']==4)+sum(loners[3]['caller_points']==4))\\\n",
    "                                                                 /(len(loners[1])+len(loners[3]))))"
   ]
  },
  {
   "cell_type": "code",
   "execution_count": 58,
   "metadata": {},
   "outputs": [],
   "source": [
    "def get_performance_incremental(folder, p02_level, p13_level, prnt=True, every=20, max_count=None):\n",
    "    totalcounts, callcounts, totallonercounts, successfullonercounts, euchrecounts, singlecounts, sweepcounts = 0,[0,0],[0,0],[0,0],[0,0],[0,0],[0,0]\n",
    "    totalpositivepoints, totalpoints = [0,0],[0,0]\n",
    "    \n",
    "    t = Timer(total=len(os.listdir(folder)), every=min(every, int(len(os.listdir(folder))/3)))\n",
    "    for i, file in enumerate(os.listdir(folder)):\n",
    "        # Look at the right files\n",
    "        if '.csv' not in file: continue\n",
    "        # Optionally stop early if dataset too large\n",
    "        if max_count is not None and i > max_count: break\n",
    "        # Optionally get ETA\n",
    "        if prnt: t.get_eta(i)\n",
    "        \n",
    "        # Make the spacing look good for printing\n",
    "        if len(p02_level) < len(p13_level): p02_level += ' '*(len(p13_level)-len(p02_level))\n",
    "        else:                               p13_level += ' '*(len(p02_level)-len(p13_level))\n",
    "\n",
    "        # Load df and get stats\n",
    "        df = pd.read_csv(os.path.join(folder, file))\n",
    "        df['caller_trueid'] = df.apply(lambda row: row['p' + str(row['caller']) + 'trueid'], axis=1)\n",
    "        df['caller_points'] = 4*(df['result']=='Loner') + 2*(df['result']=='Sweep') + 1*(df['result']=='Single') - 2*(df['result']=='EUCHRE')\n",
    "        calls = [df[df['caller_trueid']==i] for i in range(4)]\n",
    "        loners = [c[c['alone']==1] for c in calls]\n",
    "        masks = [(df['caller_trueid'] == 0) | (df['caller_trueid'] == 2), (df['caller_trueid'] == 1) | (df['caller_trueid'] == 3)]\n",
    "        \n",
    "        totalcounts += len(df)\n",
    "        for j in range(2):\n",
    "            callcounts[j] += len(calls[j])+len(calls[j+2])\n",
    "            totallonercounts[j] += len(loners[j])+len(loners[j+2])\n",
    "            successfullonercounts[j] += sum(loners[j]['caller_points']==4)+sum(loners[j+2]['caller_points']==4)\n",
    "            euchrecounts[j] += sum(calls[j]['caller_points']==-2)+sum(calls[j+2]['caller_points']==-2)\n",
    "            singlecounts[j] += sum((calls[j]['caller_points']==1) & (calls[j]['alone']==0))+\\\n",
    "                                sum((calls[j+2]['caller_points']==1) & (calls[j+2]['alone']==0))\n",
    "            sweepcounts[j] += sum(calls[j]['caller_points']==2)+sum(calls[j+2]['caller_points']==2)\n",
    "            \n",
    "            totalpositivepoints[j] += sum(df[(masks[j]) & (df['caller_points']>0)]['caller_points'])\n",
    "            totalpoints[j] += sum(calls[j]['caller_points'])+sum(calls[j+2]['caller_points'])\n",
    "            \n",
    "        \n",
    "    # Statistic 1: Avg positive points (by team) per every hand\n",
    "    print()\n",
    "    print('Non-negative PPH Team 0/2 (%s): %.3f' %(p02_level, totalpositivepoints[0]/totalcounts))\n",
    "    print('Non-negative PPH Team 1/3 (%s): %.3f' %(p13_level, totalpositivepoints[1]/totalcounts))\n",
    "    print()\n",
    "\n",
    "    # Statistic 2: Avg points (by team) per call\n",
    "    print('PPC Team 0/2 (%s): %.3f' %(p02_level, totalpoints[0]/callcounts[0]))\n",
    "    print('PPC Team 1/3 (%s): %.3f' %(p13_level, totalpoints[1]/callcounts[1]))\n",
    "    print()\n",
    "\n",
    "    # Statistic 3: Rate of euchres / singles / sweeps (by team) per call\n",
    "    print('Euchre / single / sweep rate Team 0/2 (%s): %.3f / %.3f / %.3f' %(p02_level,\n",
    "        euchrecounts[0]/callcounts[0], singlecounts[0]/callcounts[0], sweepcounts[0]/callcounts[0]))\n",
    "    print('Euchre / single / sweep rate Team 1/3 (%s): %.3f / %.3f / %.3f' %(p13_level,\n",
    "        euchrecounts[1]/callcounts[1], singlecounts[1]/callcounts[1], sweepcounts[1]/callcounts[1]))\n",
    "    print()\n",
    "\n",
    "    # Statistic 4: Rate of loner successes (by team)\n",
    "    print('Loner success rate Team 0/2 (%s): %.2f' %(p02_level, successfullonercounts[0]/totallonercounts[0]))\n",
    "    print('Loner success rate Team 1/3 (%s): %.2f' %(p13_level, successfullonercounts[1]/totallonercounts[1]))\n",
    "    print()"
   ]
  },
  {
   "cell_type": "code",
   "execution_count": 68,
   "metadata": {},
   "outputs": [
    {
     "name": "stdout",
     "output_type": "stream",
     "text": [
      "ETA: ???, Now: 1:49:47 PM\n",
      "Doing number 5 / 16  |  ETA: 1:49:50 PM, Now: 1:49:48 PM (2s remaining)\n",
      "Doing number 10 / 16  |  ETA: 1:49:50 PM, Now: 1:49:49 PM (1s remaining)\n",
      "Doing number 15 / 16  |  ETA: 1:49:50 PM, Now: 1:49:50 PM (0s remaining)\n",
      "\n",
      "Non-negative PPH Team 0/2 (optimal): 0.504\n",
      "Non-negative PPH Team 1/3 (basic  ): 0.504\n",
      "\n",
      "PPC Team 0/2 (optimal): 0.596\n",
      "PPC Team 1/3 (basic  ): 0.604\n",
      "\n",
      "Euchre / single / sweep rate Team 0/2 (optimal): 0.205 / 0.609 / 0.147\n",
      "Euchre / single / sweep rate Team 1/3 (basic  ): 0.203 / 0.608 / 0.150\n",
      "\n",
      "Loner success rate Team 0/2 (optimal): 0.54\n",
      "Loner success rate Team 1/3 (basic  ): 0.55\n",
      "\n"
     ]
    }
   ],
   "source": [
    "get_performance_incremental(outfolder, 'optimal', 'basic')"
   ]
  },
  {
   "cell_type": "markdown",
   "metadata": {},
   "source": [
    "# Is there really no benefit to playing \"optimally\"???"
   ]
  },
  {
   "cell_type": "code",
   "execution_count": 212,
   "metadata": {},
   "outputs": [],
   "source": [
    "p0_opt, p2_opt = opt.make_optimal_player(0), opt.make_optimal_player(2)\n",
    "p1_opt, p3_opt = opt.make_optimal_player(1), opt.make_optimal_player(3)\n",
    "p0_basic, p2_basic = opt.make_optimal_player(0), opt.make_optimal_player(2)\n",
    "p1_basic, p3_basic = subopt.make_BASIC_player(1), subopt.make_BASIC_player(3)\n",
    "\n",
    "board_opt = Board(p0=p0_opt, p1=p1_opt, p2=p2_opt, p3=p3_opt, seed=623)\n",
    "board_basic = Board(p0=p0_basic, p1=p1_basic, p2=p2_basic, p3=p3_basic, seed=623)"
   ]
  },
  {
   "cell_type": "code",
   "execution_count": 213,
   "metadata": {},
   "outputs": [
    {
     "name": "stdout",
     "output_type": "stream",
     "text": [
      "Count no diff: 9491\n",
      "Count optimal better: 213\n",
      "Count basic better: 296\n",
      "CPU times: user 51.2 s, sys: 86.1 ms, total: 51.3 s\n",
      "Wall time: 51.2 s\n"
     ]
    }
   ],
   "source": [
    "%%time\n",
    "seeds_optimal_better, seeds_no_difference, seeds_basic_better = [],[],[]\n",
    "for i in range(10000):\n",
    "    seed = np.random.randint(10000)\n",
    "    \n",
    "    board_opt.play_hand(seed=seed)\n",
    "    board_basic.play_hand(seed=seed)\n",
    "    \n",
    "    net_team1_opt = board_opt.points_this_round[1]-board_opt.points_this_round[0]\n",
    "    net_team1_basic = board_basic.points_this_round[1]-board_basic.points_this_round[0]\n",
    "    if board_opt.data[-1] == board_basic.data[-1]:\n",
    "        seeds_no_difference.append(seed)\n",
    "    elif net_team1_opt == net_team1_basic:\n",
    "        seeds_no_difference.append(seed)\n",
    "    elif net_team1_opt > net_team1_basic:\n",
    "        seeds_optimal_better.append(seed)\n",
    "    elif net_team1_opt < net_team1_basic:\n",
    "        seeds_basic_better.append(seed)\n",
    "    else:\n",
    "        print('Why am I here? Seed:', seed, 'Opt:', board_opt.points_this_round, 'Basic:', board_basic.points_this_round)\n",
    "\n",
    "print('Count no diff:', len(seeds_no_difference))\n",
    "print('Count optimal better:', len(seeds_optimal_better))\n",
    "print('Count basic better:', len(seeds_basic_better))"
   ]
  },
  {
   "cell_type": "markdown",
   "metadata": {},
   "source": [
    "# When basic is better, why?"
   ]
  },
  {
   "cell_type": "code",
   "execution_count": 266,
   "metadata": {},
   "outputs": [
    {
     "name": "stdout",
     "output_type": "stream",
     "text": [
      "6781\n",
      "Hands equal       : True\n",
      "Global stuff equal: True\n"
     ]
    }
   ],
   "source": [
    "seed = np.random.choice(seeds_basic_better)\n",
    "print(seed)\n",
    "\n",
    "board_opt.play_hand(seed=seed)\n",
    "board_basic.play_hand(seed=seed)\n",
    "\n",
    "hands_opt, globalstuff_opt, tricks_opt = Board.data_to_readable(board_opt.data[-1])\n",
    "hands_basic, globalstuff_basic, tricks_basic = Board.data_to_readable(board_basic.data[-1])\n",
    "\n",
    "print('Hands equal       :', hands_opt == hands_basic)\n",
    "print('Global stuff equal:', globalstuff_opt == globalstuff_basic)"
   ]
  },
  {
   "cell_type": "code",
   "execution_count": 267,
   "metadata": {},
   "outputs": [
    {
     "data": {
      "text/plain": [
       "{3: ['9C', 'AS', 'JS', 'TS', '9S'],\n",
       " 0: ['JH', 'TC', 'AH', '9H', 'KS'],\n",
       " 1: ['KD', 'JC', 'KH', 'TH', 'QS'],\n",
       " 2: ['QD', '9D', 'AC', 'KC', 'QH']}"
      ]
     },
     "execution_count": 267,
     "metadata": {},
     "output_type": "execute_result"
    }
   ],
   "source": [
    "hands_opt"
   ]
  },
  {
   "cell_type": "code",
   "execution_count": 268,
   "metadata": {},
   "outputs": [
    {
     "data": {
      "text/plain": [
       "['S', 3, 2, False, 'TD']"
      ]
     },
     "execution_count": 268,
     "metadata": {},
     "output_type": "execute_result"
    }
   ],
   "source": [
    "globalstuff_opt # trumpsuit, callerid, dealerid, firstround, turncard"
   ]
  },
  {
   "cell_type": "code",
   "execution_count": 269,
   "metadata": {},
   "outputs": [
    {
     "data": {
      "text/plain": [
       "{0: (['JS', 'KS', 'QS', '9D'], 3),\n",
       " 1: (['9S', '9H', 'JC', 'QD'], 1),\n",
       " 2: (['KD', 'QH', 'TS', 'TC'], 3),\n",
       " 3: (['AS', 'JH', 'TH', 'KC'], 3),\n",
       " 4: (['9C', 'AH', 'KH', 'AC'], 2)}"
      ]
     },
     "execution_count": 269,
     "metadata": {},
     "output_type": "execute_result"
    }
   ],
   "source": [
    "tricks_opt"
   ]
  },
  {
   "cell_type": "code",
   "execution_count": 270,
   "metadata": {},
   "outputs": [
    {
     "data": {
      "text/plain": [
       "{0: (['JS', 'KS', 'QS', '9D'], 3),\n",
       " 1: (['9C', 'TC', 'JC', 'KC'], 1),\n",
       " 2: (['KD', 'QD', '9S', '9H'], 3),\n",
       " 3: (['AS', 'JH', 'TH', 'QH'], 3),\n",
       " 4: (['TS', 'AH', 'KH', 'AC'], 3)}"
      ]
     },
     "execution_count": 270,
     "metadata": {},
     "output_type": "execute_result"
    }
   ],
   "source": [
    "tricks_basic"
   ]
  },
  {
   "cell_type": "markdown",
   "metadata": {},
   "source": [
    "Seems like most of these cases are due to basic leading the highest trump when available, while optimal leads an off-ace. The off-ace gets trumped, which the highest trump would have sucked out."
   ]
  },
  {
   "cell_type": "code",
   "execution_count": null,
   "metadata": {},
   "outputs": [],
   "source": []
  },
  {
   "cell_type": "markdown",
   "metadata": {},
   "source": [
    "# When optimal is better, why?"
   ]
  },
  {
   "cell_type": "code",
   "execution_count": 301,
   "metadata": {},
   "outputs": [
    {
     "name": "stdout",
     "output_type": "stream",
     "text": [
      "6205\n",
      "Hands equal       : True\n",
      "Global stuff equal: True\n"
     ]
    }
   ],
   "source": [
    "seed = np.random.choice(seeds_optimal_better)\n",
    "print(seed)\n",
    "\n",
    "board_opt.play_hand(seed=seed)\n",
    "board_basic.play_hand(seed=seed)\n",
    "\n",
    "hands_opt, globalstuff_opt, tricks_opt = Board.data_to_readable(board_opt.data[-1])\n",
    "hands_basic, globalstuff_basic, tricks_basic = Board.data_to_readable(board_basic.data[-1])\n",
    "\n",
    "print('Hands equal       :', hands_opt == hands_basic)\n",
    "print('Global stuff equal:', globalstuff_opt == globalstuff_basic)"
   ]
  },
  {
   "cell_type": "code",
   "execution_count": 302,
   "metadata": {},
   "outputs": [
    {
     "data": {
      "text/plain": [
       "{3: ['JC', 'QC', 'TC', 'AH', 'TH'],\n",
       " 0: ['QS', 'TS', '9S', 'AC', '9H'],\n",
       " 1: ['AS', 'KC', '9C', 'KD', '9D'],\n",
       " 2: ['QD', 'JD', 'KH', 'QH', 'JH']}"
      ]
     },
     "execution_count": 302,
     "metadata": {},
     "output_type": "execute_result"
    }
   ],
   "source": [
    "hands_opt"
   ]
  },
  {
   "cell_type": "code",
   "execution_count": 303,
   "metadata": {},
   "outputs": [
    {
     "data": {
      "text/plain": [
       "['C', 3, 2, False, 'KS']"
      ]
     },
     "execution_count": 303,
     "metadata": {},
     "output_type": "execute_result"
    }
   ],
   "source": [
    "globalstuff_opt # trumpsuit, callerid, dealerid, firstround, turncard"
   ]
  },
  {
   "cell_type": "code",
   "execution_count": 304,
   "metadata": {},
   "outputs": [
    {
     "data": {
      "text/plain": [
       "{0: (['AH', '9H', 'AS', 'JH'], 3),\n",
       " 1: (['JC', 'AC', '9C', 'JD'], 3),\n",
       " 2: (['TH', '9S', 'KC', 'QH'], 1),\n",
       " 3: (['KD', 'QD', 'TC', 'TS'], 3),\n",
       " 4: (['QC', 'QS', '9D', 'KH'], 3)}"
      ]
     },
     "execution_count": 304,
     "metadata": {},
     "output_type": "execute_result"
    }
   ],
   "source": [
    "tricks_opt"
   ]
  },
  {
   "cell_type": "code",
   "execution_count": 305,
   "metadata": {},
   "outputs": [
    {
     "data": {
      "text/plain": [
       "{0: (['JC', 'AC', '9C', 'JD'], 3),\n",
       " 1: (['AH', '9H', '9D', 'JH'], 3),\n",
       " 2: (['TH', '9S', 'KD', 'KH'], 2),\n",
       " 3: (['QH', 'TC', 'TS', 'AS'], 3),\n",
       " 4: (['QC', 'QS', 'KC', 'QD'], 1)}"
      ]
     },
     "execution_count": 305,
     "metadata": {},
     "output_type": "execute_result"
    }
   ],
   "source": [
    "tricks_basic"
   ]
  },
  {
   "cell_type": "code",
   "execution_count": null,
   "metadata": {},
   "outputs": [],
   "source": []
  },
  {
   "cell_type": "code",
   "execution_count": null,
   "metadata": {},
   "outputs": [],
   "source": []
  },
  {
   "cell_type": "code",
   "execution_count": null,
   "metadata": {},
   "outputs": [],
   "source": []
  },
  {
   "cell_type": "markdown",
   "metadata": {},
   "source": [
    "# Extra"
   ]
  },
  {
   "cell_type": "code",
   "execution_count": null,
   "metadata": {},
   "outputs": [],
   "source": []
  },
  {
   "cell_type": "markdown",
   "metadata": {},
   "source": [
    "# Create optimal-vs-intermediate dataset"
   ]
  },
  {
   "cell_type": "code",
   "execution_count": 16,
   "metadata": {
    "jupyter": {
     "source_hidden": true
    }
   },
   "outputs": [],
   "source": [
    "if os.path.exists('/staging/'):\n",
    "    outfolder = '/staging/fast/taylora/euchre/opt_vs_inter'\n",
    "else:\n",
    "    outfolder = 'opt_vs_inter'\n",
    "if not os.path.exists(outfolder): os.mkdir(outfolder)\n",
    "p0, p2 = opt.make_optimal_player(0), opt.make_optimal_player(2)\n",
    "p1, p3 = subopt.make_INTERMEDIATE_player(1), subopt.make_INTERMEDIATE_player(3)"
   ]
  },
  {
   "cell_type": "code",
   "execution_count": 17,
   "metadata": {
    "jupyter": {
     "source_hidden": true
    }
   },
   "outputs": [],
   "source": [
    "n_epochs, n_hands = int(1e3), int(1e5)\n",
    "AVAILABLE_CPUS = 16-1\n",
    "particular_performance_function = partial(performance, n_epochs=int(n_epochs/AVAILABLE_CPUS), n_hands=n_hands, p0=p0, p1=p1, p2=p2, p3=p3)"
   ]
  },
  {
   "cell_type": "code",
   "execution_count": 21,
   "metadata": {
    "collapsed": true,
    "jupyter": {
     "outputs_hidden": true,
     "source_hidden": true
    }
   },
   "outputs": [
    {
     "name": "stdout",
     "output_type": "stream",
     "text": [
      "CPU times: user 0 ns, sys: 2 µs, total: 2 µs\n",
      "Wall time: 4.05 µs\n"
     ]
    }
   ],
   "source": [
    "%%time\n",
    "z=\"\"\"pool = multiprocessing.Pool(AVAILABLE_CPUS)\n",
    "for worker in range(AVAILABLE_CPUS):\n",
    "    pool.apply_async(particular_performance_function, args=(worker,))\n",
    "pool.close()\n",
    "pool.join()\n",
    "print('Done!')\"\"\""
   ]
  },
  {
   "cell_type": "code",
   "execution_count": 18,
   "metadata": {
    "collapsed": true,
    "jupyter": {
     "outputs_hidden": true,
     "source_hidden": true
    }
   },
   "outputs": [
    {
     "name": "stdout",
     "output_type": "stream",
     "text": [
      "RLdataset  old_thresholds  opt_vs_basic  opt_vs_inter  tfrecords\n"
     ]
    }
   ],
   "source": [
    "!ls /staging/fast/taylora/euchre"
   ]
  },
  {
   "cell_type": "code",
   "execution_count": 4,
   "metadata": {
    "collapsed": true,
    "jupyter": {
     "outputs_hidden": true,
     "source_hidden": true
    }
   },
   "outputs": [
    {
     "name": "stdout",
     "output_type": "stream",
     "text": [
      "100000_hands_000.csv  100000_hands_330.csv  100000_hands_660.csv\n",
      "100000_hands_001.csv  100000_hands_331.csv  100000_hands_661.csv\n",
      "100000_hands_002.csv  100000_hands_332.csv  100000_hands_662.csv\n",
      "100000_hands_003.csv  100000_hands_333.csv  100000_hands_663.csv\n",
      "100000_hands_004.csv  100000_hands_334.csv  100000_hands_664.csv\n",
      "100000_hands_005.csv  100000_hands_335.csv  100000_hands_665.csv\n",
      "100000_hands_006.csv  100000_hands_336.csv  100000_hands_666.csv\n",
      "100000_hands_007.csv  100000_hands_337.csv  100000_hands_667.csv\n",
      "100000_hands_008.csv  100000_hands_338.csv  100000_hands_668.csv\n",
      "100000_hands_009.csv  100000_hands_339.csv  100000_hands_669.csv\n",
      "100000_hands_010.csv  100000_hands_340.csv  100000_hands_670.csv\n",
      "100000_hands_011.csv  100000_hands_341.csv  100000_hands_671.csv\n",
      "100000_hands_012.csv  100000_hands_342.csv  100000_hands_672.csv\n",
      "100000_hands_013.csv  100000_hands_343.csv  100000_hands_673.csv\n",
      "100000_hands_014.csv  100000_hands_344.csv  100000_hands_674.csv\n",
      "100000_hands_015.csv  100000_hands_345.csv  100000_hands_675.csv\n",
      "100000_hands_016.csv  100000_hands_346.csv  100000_hands_676.csv\n",
      "100000_hands_017.csv  100000_hands_347.csv  100000_hands_677.csv\n",
      "100000_hands_018.csv  100000_hands_348.csv  100000_hands_678.csv\n",
      "100000_hands_019.csv  100000_hands_349.csv  100000_hands_679.csv\n",
      "100000_hands_020.csv  100000_hands_350.csv  100000_hands_680.csv\n",
      "100000_hands_021.csv  100000_hands_351.csv  100000_hands_681.csv\n",
      "100000_hands_022.csv  100000_hands_352.csv  100000_hands_682.csv\n",
      "100000_hands_023.csv  100000_hands_353.csv  100000_hands_683.csv\n",
      "100000_hands_024.csv  100000_hands_354.csv  100000_hands_684.csv\n",
      "100000_hands_025.csv  100000_hands_355.csv  100000_hands_685.csv\n",
      "100000_hands_026.csv  100000_hands_356.csv  100000_hands_686.csv\n",
      "100000_hands_027.csv  100000_hands_357.csv  100000_hands_687.csv\n",
      "100000_hands_028.csv  100000_hands_358.csv  100000_hands_688.csv\n",
      "100000_hands_029.csv  100000_hands_359.csv  100000_hands_689.csv\n",
      "100000_hands_030.csv  100000_hands_360.csv  100000_hands_690.csv\n",
      "100000_hands_031.csv  100000_hands_361.csv  100000_hands_691.csv\n",
      "100000_hands_032.csv  100000_hands_362.csv  100000_hands_692.csv\n",
      "100000_hands_033.csv  100000_hands_363.csv  100000_hands_693.csv\n",
      "100000_hands_034.csv  100000_hands_364.csv  100000_hands_694.csv\n",
      "100000_hands_035.csv  100000_hands_365.csv  100000_hands_695.csv\n",
      "100000_hands_036.csv  100000_hands_366.csv  100000_hands_696.csv\n",
      "100000_hands_037.csv  100000_hands_367.csv  100000_hands_697.csv\n",
      "100000_hands_038.csv  100000_hands_368.csv  100000_hands_698.csv\n",
      "100000_hands_039.csv  100000_hands_369.csv  100000_hands_699.csv\n",
      "100000_hands_040.csv  100000_hands_370.csv  100000_hands_700.csv\n",
      "100000_hands_041.csv  100000_hands_371.csv  100000_hands_701.csv\n",
      "100000_hands_042.csv  100000_hands_372.csv  100000_hands_702.csv\n",
      "100000_hands_043.csv  100000_hands_373.csv  100000_hands_703.csv\n",
      "100000_hands_044.csv  100000_hands_374.csv  100000_hands_704.csv\n",
      "100000_hands_045.csv  100000_hands_375.csv  100000_hands_705.csv\n",
      "100000_hands_046.csv  100000_hands_376.csv  100000_hands_706.csv\n",
      "100000_hands_047.csv  100000_hands_377.csv  100000_hands_707.csv\n",
      "100000_hands_048.csv  100000_hands_378.csv  100000_hands_708.csv\n",
      "100000_hands_049.csv  100000_hands_379.csv  100000_hands_709.csv\n",
      "100000_hands_050.csv  100000_hands_380.csv  100000_hands_710.csv\n",
      "100000_hands_051.csv  100000_hands_381.csv  100000_hands_711.csv\n",
      "100000_hands_052.csv  100000_hands_382.csv  100000_hands_712.csv\n",
      "100000_hands_053.csv  100000_hands_383.csv  100000_hands_713.csv\n",
      "100000_hands_054.csv  100000_hands_384.csv  100000_hands_714.csv\n",
      "100000_hands_055.csv  100000_hands_385.csv  100000_hands_715.csv\n",
      "100000_hands_056.csv  100000_hands_386.csv  100000_hands_716.csv\n",
      "100000_hands_057.csv  100000_hands_387.csv  100000_hands_717.csv\n",
      "100000_hands_058.csv  100000_hands_388.csv  100000_hands_718.csv\n",
      "100000_hands_059.csv  100000_hands_389.csv  100000_hands_719.csv\n",
      "100000_hands_060.csv  100000_hands_390.csv  100000_hands_720.csv\n",
      "100000_hands_061.csv  100000_hands_391.csv  100000_hands_721.csv\n",
      "100000_hands_062.csv  100000_hands_392.csv  100000_hands_722.csv\n",
      "100000_hands_063.csv  100000_hands_393.csv  100000_hands_723.csv\n",
      "100000_hands_064.csv  100000_hands_394.csv  100000_hands_724.csv\n",
      "100000_hands_065.csv  100000_hands_395.csv  100000_hands_725.csv\n",
      "100000_hands_066.csv  100000_hands_396.csv  100000_hands_726.csv\n",
      "100000_hands_067.csv  100000_hands_397.csv  100000_hands_727.csv\n",
      "100000_hands_068.csv  100000_hands_398.csv  100000_hands_728.csv\n",
      "100000_hands_069.csv  100000_hands_399.csv  100000_hands_729.csv\n",
      "100000_hands_070.csv  100000_hands_400.csv  100000_hands_730.csv\n",
      "100000_hands_071.csv  100000_hands_401.csv  100000_hands_731.csv\n",
      "100000_hands_072.csv  100000_hands_402.csv  100000_hands_732.csv\n",
      "100000_hands_073.csv  100000_hands_403.csv  100000_hands_733.csv\n",
      "100000_hands_074.csv  100000_hands_404.csv  100000_hands_734.csv\n",
      "100000_hands_075.csv  100000_hands_405.csv  100000_hands_735.csv\n",
      "100000_hands_076.csv  100000_hands_406.csv  100000_hands_736.csv\n",
      "100000_hands_077.csv  100000_hands_407.csv  100000_hands_737.csv\n",
      "100000_hands_078.csv  100000_hands_408.csv  100000_hands_738.csv\n",
      "100000_hands_079.csv  100000_hands_409.csv  100000_hands_739.csv\n",
      "100000_hands_080.csv  100000_hands_410.csv  100000_hands_740.csv\n",
      "100000_hands_081.csv  100000_hands_411.csv  100000_hands_741.csv\n",
      "100000_hands_082.csv  100000_hands_412.csv  100000_hands_742.csv\n",
      "100000_hands_083.csv  100000_hands_413.csv  100000_hands_743.csv\n",
      "100000_hands_084.csv  100000_hands_414.csv  100000_hands_744.csv\n",
      "100000_hands_085.csv  100000_hands_415.csv  100000_hands_745.csv\n",
      "100000_hands_086.csv  100000_hands_416.csv  100000_hands_746.csv\n",
      "100000_hands_087.csv  100000_hands_417.csv  100000_hands_747.csv\n",
      "100000_hands_088.csv  100000_hands_418.csv  100000_hands_748.csv\n",
      "100000_hands_089.csv  100000_hands_419.csv  100000_hands_749.csv\n",
      "100000_hands_090.csv  100000_hands_420.csv  100000_hands_750.csv\n",
      "100000_hands_091.csv  100000_hands_421.csv  100000_hands_751.csv\n",
      "100000_hands_092.csv  100000_hands_422.csv  100000_hands_752.csv\n",
      "100000_hands_093.csv  100000_hands_423.csv  100000_hands_753.csv\n",
      "100000_hands_094.csv  100000_hands_424.csv  100000_hands_754.csv\n",
      "100000_hands_095.csv  100000_hands_425.csv  100000_hands_755.csv\n",
      "100000_hands_096.csv  100000_hands_426.csv  100000_hands_756.csv\n",
      "100000_hands_097.csv  100000_hands_427.csv  100000_hands_757.csv\n",
      "100000_hands_098.csv  100000_hands_428.csv  100000_hands_758.csv\n",
      "100000_hands_099.csv  100000_hands_429.csv  100000_hands_759.csv\n",
      "100000_hands_100.csv  100000_hands_430.csv  100000_hands_760.csv\n",
      "100000_hands_101.csv  100000_hands_431.csv  100000_hands_761.csv\n",
      "100000_hands_102.csv  100000_hands_432.csv  100000_hands_762.csv\n",
      "100000_hands_103.csv  100000_hands_433.csv  100000_hands_763.csv\n",
      "100000_hands_104.csv  100000_hands_434.csv  100000_hands_764.csv\n",
      "100000_hands_105.csv  100000_hands_435.csv  100000_hands_765.csv\n",
      "100000_hands_106.csv  100000_hands_436.csv  100000_hands_766.csv\n",
      "100000_hands_107.csv  100000_hands_437.csv  100000_hands_767.csv\n",
      "100000_hands_108.csv  100000_hands_438.csv  100000_hands_768.csv\n",
      "100000_hands_109.csv  100000_hands_439.csv  100000_hands_769.csv\n",
      "100000_hands_110.csv  100000_hands_440.csv  100000_hands_770.csv\n",
      "100000_hands_111.csv  100000_hands_441.csv  100000_hands_771.csv\n",
      "100000_hands_112.csv  100000_hands_442.csv  100000_hands_772.csv\n",
      "100000_hands_113.csv  100000_hands_443.csv  100000_hands_773.csv\n",
      "100000_hands_114.csv  100000_hands_444.csv  100000_hands_774.csv\n",
      "100000_hands_115.csv  100000_hands_445.csv  100000_hands_775.csv\n",
      "100000_hands_116.csv  100000_hands_446.csv  100000_hands_776.csv\n",
      "100000_hands_117.csv  100000_hands_447.csv  100000_hands_777.csv\n",
      "100000_hands_118.csv  100000_hands_448.csv  100000_hands_778.csv\n",
      "100000_hands_119.csv  100000_hands_449.csv  100000_hands_779.csv\n",
      "100000_hands_120.csv  100000_hands_450.csv  100000_hands_780.csv\n",
      "100000_hands_121.csv  100000_hands_451.csv  100000_hands_781.csv\n",
      "100000_hands_122.csv  100000_hands_452.csv  100000_hands_782.csv\n",
      "100000_hands_123.csv  100000_hands_453.csv  100000_hands_783.csv\n",
      "100000_hands_124.csv  100000_hands_454.csv  100000_hands_784.csv\n",
      "100000_hands_125.csv  100000_hands_455.csv  100000_hands_785.csv\n",
      "100000_hands_126.csv  100000_hands_456.csv  100000_hands_786.csv\n",
      "100000_hands_127.csv  100000_hands_457.csv  100000_hands_787.csv\n",
      "100000_hands_128.csv  100000_hands_458.csv  100000_hands_788.csv\n",
      "100000_hands_129.csv  100000_hands_459.csv  100000_hands_789.csv\n",
      "100000_hands_130.csv  100000_hands_460.csv  100000_hands_790.csv\n",
      "100000_hands_131.csv  100000_hands_461.csv  100000_hands_791.csv\n",
      "100000_hands_132.csv  100000_hands_462.csv  100000_hands_792.csv\n",
      "100000_hands_133.csv  100000_hands_463.csv  100000_hands_793.csv\n",
      "100000_hands_134.csv  100000_hands_464.csv  100000_hands_794.csv\n",
      "100000_hands_135.csv  100000_hands_465.csv  100000_hands_795.csv\n",
      "100000_hands_136.csv  100000_hands_466.csv  100000_hands_796.csv\n",
      "100000_hands_137.csv  100000_hands_467.csv  100000_hands_797.csv\n",
      "100000_hands_138.csv  100000_hands_468.csv  100000_hands_798.csv\n",
      "100000_hands_139.csv  100000_hands_469.csv  100000_hands_799.csv\n",
      "100000_hands_140.csv  100000_hands_470.csv  100000_hands_800.csv\n",
      "100000_hands_141.csv  100000_hands_471.csv  100000_hands_801.csv\n",
      "100000_hands_142.csv  100000_hands_472.csv  100000_hands_802.csv\n",
      "100000_hands_143.csv  100000_hands_473.csv  100000_hands_803.csv\n",
      "100000_hands_144.csv  100000_hands_474.csv  100000_hands_804.csv\n",
      "100000_hands_145.csv  100000_hands_475.csv  100000_hands_805.csv\n",
      "100000_hands_146.csv  100000_hands_476.csv  100000_hands_806.csv\n",
      "100000_hands_147.csv  100000_hands_477.csv  100000_hands_807.csv\n",
      "100000_hands_148.csv  100000_hands_478.csv  100000_hands_808.csv\n",
      "100000_hands_149.csv  100000_hands_479.csv  100000_hands_809.csv\n",
      "100000_hands_150.csv  100000_hands_480.csv  100000_hands_810.csv\n",
      "100000_hands_151.csv  100000_hands_481.csv  100000_hands_811.csv\n",
      "100000_hands_152.csv  100000_hands_482.csv  100000_hands_812.csv\n",
      "100000_hands_153.csv  100000_hands_483.csv  100000_hands_813.csv\n",
      "100000_hands_154.csv  100000_hands_484.csv  100000_hands_814.csv\n",
      "100000_hands_155.csv  100000_hands_485.csv  100000_hands_815.csv\n",
      "100000_hands_156.csv  100000_hands_486.csv  100000_hands_816.csv\n",
      "100000_hands_157.csv  100000_hands_487.csv  100000_hands_817.csv\n",
      "100000_hands_158.csv  100000_hands_488.csv  100000_hands_818.csv\n",
      "100000_hands_159.csv  100000_hands_489.csv  100000_hands_819.csv\n",
      "100000_hands_160.csv  100000_hands_490.csv  100000_hands_820.csv\n",
      "100000_hands_161.csv  100000_hands_491.csv  100000_hands_821.csv\n",
      "100000_hands_162.csv  100000_hands_492.csv  100000_hands_822.csv\n",
      "100000_hands_163.csv  100000_hands_493.csv  100000_hands_823.csv\n",
      "100000_hands_164.csv  100000_hands_494.csv  100000_hands_824.csv\n",
      "100000_hands_165.csv  100000_hands_495.csv  100000_hands_825.csv\n",
      "100000_hands_166.csv  100000_hands_496.csv  100000_hands_826.csv\n",
      "100000_hands_167.csv  100000_hands_497.csv  100000_hands_827.csv\n",
      "100000_hands_168.csv  100000_hands_498.csv  100000_hands_828.csv\n",
      "100000_hands_169.csv  100000_hands_499.csv  100000_hands_829.csv\n",
      "100000_hands_170.csv  100000_hands_500.csv  100000_hands_830.csv\n",
      "100000_hands_171.csv  100000_hands_501.csv  100000_hands_831.csv\n",
      "100000_hands_172.csv  100000_hands_502.csv  100000_hands_832.csv\n",
      "100000_hands_173.csv  100000_hands_503.csv  100000_hands_833.csv\n",
      "100000_hands_174.csv  100000_hands_504.csv  100000_hands_834.csv\n",
      "100000_hands_175.csv  100000_hands_505.csv  100000_hands_835.csv\n",
      "100000_hands_176.csv  100000_hands_506.csv  100000_hands_836.csv\n",
      "100000_hands_177.csv  100000_hands_507.csv  100000_hands_837.csv\n",
      "100000_hands_178.csv  100000_hands_508.csv  100000_hands_838.csv\n",
      "100000_hands_179.csv  100000_hands_509.csv  100000_hands_839.csv\n",
      "100000_hands_180.csv  100000_hands_510.csv  100000_hands_840.csv\n",
      "100000_hands_181.csv  100000_hands_511.csv  100000_hands_841.csv\n",
      "100000_hands_182.csv  100000_hands_512.csv  100000_hands_842.csv\n",
      "100000_hands_183.csv  100000_hands_513.csv  100000_hands_843.csv\n",
      "100000_hands_184.csv  100000_hands_514.csv  100000_hands_844.csv\n",
      "100000_hands_185.csv  100000_hands_515.csv  100000_hands_845.csv\n",
      "100000_hands_186.csv  100000_hands_516.csv  100000_hands_846.csv\n",
      "100000_hands_187.csv  100000_hands_517.csv  100000_hands_847.csv\n",
      "100000_hands_188.csv  100000_hands_518.csv  100000_hands_848.csv\n",
      "100000_hands_189.csv  100000_hands_519.csv  100000_hands_849.csv\n",
      "100000_hands_190.csv  100000_hands_520.csv  100000_hands_850.csv\n",
      "100000_hands_191.csv  100000_hands_521.csv  100000_hands_851.csv\n",
      "100000_hands_192.csv  100000_hands_522.csv  100000_hands_852.csv\n",
      "100000_hands_193.csv  100000_hands_523.csv  100000_hands_853.csv\n",
      "100000_hands_194.csv  100000_hands_524.csv  100000_hands_854.csv\n",
      "100000_hands_195.csv  100000_hands_525.csv  100000_hands_855.csv\n",
      "100000_hands_196.csv  100000_hands_526.csv  100000_hands_856.csv\n",
      "100000_hands_197.csv  100000_hands_527.csv  100000_hands_857.csv\n",
      "100000_hands_198.csv  100000_hands_528.csv  100000_hands_858.csv\n",
      "100000_hands_199.csv  100000_hands_529.csv  100000_hands_859.csv\n",
      "100000_hands_200.csv  100000_hands_530.csv  100000_hands_860.csv\n",
      "100000_hands_201.csv  100000_hands_531.csv  100000_hands_861.csv\n",
      "100000_hands_202.csv  100000_hands_532.csv  100000_hands_862.csv\n",
      "100000_hands_203.csv  100000_hands_533.csv  100000_hands_863.csv\n",
      "100000_hands_204.csv  100000_hands_534.csv  100000_hands_864.csv\n",
      "100000_hands_205.csv  100000_hands_535.csv  100000_hands_865.csv\n",
      "100000_hands_206.csv  100000_hands_536.csv  100000_hands_866.csv\n",
      "100000_hands_207.csv  100000_hands_537.csv  100000_hands_867.csv\n",
      "100000_hands_208.csv  100000_hands_538.csv  100000_hands_868.csv\n",
      "100000_hands_209.csv  100000_hands_539.csv  100000_hands_869.csv\n",
      "100000_hands_210.csv  100000_hands_540.csv  100000_hands_870.csv\n",
      "100000_hands_211.csv  100000_hands_541.csv  100000_hands_871.csv\n",
      "100000_hands_212.csv  100000_hands_542.csv  100000_hands_872.csv\n",
      "100000_hands_213.csv  100000_hands_543.csv  100000_hands_873.csv\n",
      "100000_hands_214.csv  100000_hands_544.csv  100000_hands_874.csv\n",
      "100000_hands_215.csv  100000_hands_545.csv  100000_hands_875.csv\n",
      "100000_hands_216.csv  100000_hands_546.csv  100000_hands_876.csv\n",
      "100000_hands_217.csv  100000_hands_547.csv  100000_hands_877.csv\n",
      "100000_hands_218.csv  100000_hands_548.csv  100000_hands_878.csv\n",
      "100000_hands_219.csv  100000_hands_549.csv  100000_hands_879.csv\n",
      "100000_hands_220.csv  100000_hands_550.csv  100000_hands_880.csv\n",
      "100000_hands_221.csv  100000_hands_551.csv  100000_hands_881.csv\n",
      "100000_hands_222.csv  100000_hands_552.csv  100000_hands_882.csv\n",
      "100000_hands_223.csv  100000_hands_553.csv  100000_hands_883.csv\n",
      "100000_hands_224.csv  100000_hands_554.csv  100000_hands_884.csv\n",
      "100000_hands_225.csv  100000_hands_555.csv  100000_hands_885.csv\n",
      "100000_hands_226.csv  100000_hands_556.csv  100000_hands_886.csv\n",
      "100000_hands_227.csv  100000_hands_557.csv  100000_hands_887.csv\n",
      "100000_hands_228.csv  100000_hands_558.csv  100000_hands_888.csv\n",
      "100000_hands_229.csv  100000_hands_559.csv  100000_hands_889.csv\n",
      "100000_hands_230.csv  100000_hands_560.csv  100000_hands_890.csv\n",
      "100000_hands_231.csv  100000_hands_561.csv  100000_hands_891.csv\n",
      "100000_hands_232.csv  100000_hands_562.csv  100000_hands_892.csv\n",
      "100000_hands_233.csv  100000_hands_563.csv  100000_hands_893.csv\n",
      "100000_hands_234.csv  100000_hands_564.csv  100000_hands_894.csv\n",
      "100000_hands_235.csv  100000_hands_565.csv  100000_hands_895.csv\n",
      "100000_hands_236.csv  100000_hands_566.csv  100000_hands_896.csv\n",
      "100000_hands_237.csv  100000_hands_567.csv  100000_hands_897.csv\n",
      "100000_hands_238.csv  100000_hands_568.csv  100000_hands_898.csv\n",
      "100000_hands_239.csv  100000_hands_569.csv  100000_hands_899.csv\n",
      "100000_hands_240.csv  100000_hands_570.csv  100000_hands_900.csv\n",
      "100000_hands_241.csv  100000_hands_571.csv  100000_hands_901.csv\n",
      "100000_hands_242.csv  100000_hands_572.csv  100000_hands_902.csv\n",
      "100000_hands_243.csv  100000_hands_573.csv  100000_hands_903.csv\n",
      "100000_hands_244.csv  100000_hands_574.csv  100000_hands_904.csv\n",
      "100000_hands_245.csv  100000_hands_575.csv  100000_hands_905.csv\n",
      "100000_hands_246.csv  100000_hands_576.csv  100000_hands_906.csv\n",
      "100000_hands_247.csv  100000_hands_577.csv  100000_hands_907.csv\n",
      "100000_hands_248.csv  100000_hands_578.csv  100000_hands_908.csv\n",
      "100000_hands_249.csv  100000_hands_579.csv  100000_hands_909.csv\n",
      "100000_hands_250.csv  100000_hands_580.csv  100000_hands_910.csv\n",
      "100000_hands_251.csv  100000_hands_581.csv  100000_hands_911.csv\n",
      "100000_hands_252.csv  100000_hands_582.csv  100000_hands_912.csv\n",
      "100000_hands_253.csv  100000_hands_583.csv  100000_hands_913.csv\n",
      "100000_hands_254.csv  100000_hands_584.csv  100000_hands_914.csv\n",
      "100000_hands_255.csv  100000_hands_585.csv  100000_hands_915.csv\n",
      "100000_hands_256.csv  100000_hands_586.csv  100000_hands_916.csv\n",
      "100000_hands_257.csv  100000_hands_587.csv  100000_hands_917.csv\n",
      "100000_hands_258.csv  100000_hands_588.csv  100000_hands_918.csv\n",
      "100000_hands_259.csv  100000_hands_589.csv  100000_hands_919.csv\n",
      "100000_hands_260.csv  100000_hands_590.csv  100000_hands_920.csv\n",
      "100000_hands_261.csv  100000_hands_591.csv  100000_hands_921.csv\n",
      "100000_hands_262.csv  100000_hands_592.csv  100000_hands_922.csv\n",
      "100000_hands_263.csv  100000_hands_593.csv  100000_hands_923.csv\n",
      "100000_hands_264.csv  100000_hands_594.csv  100000_hands_924.csv\n",
      "100000_hands_265.csv  100000_hands_595.csv  100000_hands_925.csv\n",
      "100000_hands_266.csv  100000_hands_596.csv  100000_hands_926.csv\n",
      "100000_hands_267.csv  100000_hands_597.csv  100000_hands_927.csv\n",
      "100000_hands_268.csv  100000_hands_598.csv  100000_hands_928.csv\n",
      "100000_hands_269.csv  100000_hands_599.csv  100000_hands_929.csv\n",
      "100000_hands_270.csv  100000_hands_600.csv  100000_hands_930.csv\n",
      "100000_hands_271.csv  100000_hands_601.csv  100000_hands_931.csv\n",
      "100000_hands_272.csv  100000_hands_602.csv  100000_hands_932.csv\n",
      "100000_hands_273.csv  100000_hands_603.csv  100000_hands_933.csv\n",
      "100000_hands_274.csv  100000_hands_604.csv  100000_hands_934.csv\n",
      "100000_hands_275.csv  100000_hands_605.csv  100000_hands_935.csv\n",
      "100000_hands_276.csv  100000_hands_606.csv  100000_hands_936.csv\n",
      "100000_hands_277.csv  100000_hands_607.csv  100000_hands_937.csv\n",
      "100000_hands_278.csv  100000_hands_608.csv  100000_hands_938.csv\n",
      "100000_hands_279.csv  100000_hands_609.csv  100000_hands_939.csv\n",
      "100000_hands_280.csv  100000_hands_610.csv  100000_hands_940.csv\n",
      "100000_hands_281.csv  100000_hands_611.csv  100000_hands_941.csv\n",
      "100000_hands_282.csv  100000_hands_612.csv  100000_hands_942.csv\n",
      "100000_hands_283.csv  100000_hands_613.csv  100000_hands_943.csv\n",
      "100000_hands_284.csv  100000_hands_614.csv  100000_hands_944.csv\n",
      "100000_hands_285.csv  100000_hands_615.csv  100000_hands_945.csv\n",
      "100000_hands_286.csv  100000_hands_616.csv  100000_hands_946.csv\n",
      "100000_hands_287.csv  100000_hands_617.csv  100000_hands_947.csv\n",
      "100000_hands_288.csv  100000_hands_618.csv  100000_hands_948.csv\n",
      "100000_hands_289.csv  100000_hands_619.csv  100000_hands_949.csv\n",
      "100000_hands_290.csv  100000_hands_620.csv  100000_hands_950.csv\n",
      "100000_hands_291.csv  100000_hands_621.csv  100000_hands_951.csv\n",
      "100000_hands_292.csv  100000_hands_622.csv  100000_hands_952.csv\n",
      "100000_hands_293.csv  100000_hands_623.csv  100000_hands_953.csv\n",
      "100000_hands_294.csv  100000_hands_624.csv  100000_hands_954.csv\n",
      "100000_hands_295.csv  100000_hands_625.csv  100000_hands_955.csv\n",
      "100000_hands_296.csv  100000_hands_626.csv  100000_hands_956.csv\n",
      "100000_hands_297.csv  100000_hands_627.csv  100000_hands_957.csv\n",
      "100000_hands_298.csv  100000_hands_628.csv  100000_hands_958.csv\n",
      "100000_hands_299.csv  100000_hands_629.csv  100000_hands_959.csv\n",
      "100000_hands_300.csv  100000_hands_630.csv  100000_hands_960.csv\n",
      "100000_hands_301.csv  100000_hands_631.csv  100000_hands_961.csv\n",
      "100000_hands_302.csv  100000_hands_632.csv  100000_hands_962.csv\n",
      "100000_hands_303.csv  100000_hands_633.csv  100000_hands_963.csv\n",
      "100000_hands_304.csv  100000_hands_634.csv  100000_hands_964.csv\n",
      "100000_hands_305.csv  100000_hands_635.csv  100000_hands_965.csv\n",
      "100000_hands_306.csv  100000_hands_636.csv  100000_hands_966.csv\n",
      "100000_hands_307.csv  100000_hands_637.csv  100000_hands_967.csv\n",
      "100000_hands_308.csv  100000_hands_638.csv  100000_hands_968.csv\n",
      "100000_hands_309.csv  100000_hands_639.csv  100000_hands_969.csv\n",
      "100000_hands_310.csv  100000_hands_640.csv  100000_hands_970.csv\n",
      "100000_hands_311.csv  100000_hands_641.csv  100000_hands_971.csv\n",
      "100000_hands_312.csv  100000_hands_642.csv  100000_hands_972.csv\n",
      "100000_hands_313.csv  100000_hands_643.csv  100000_hands_973.csv\n",
      "100000_hands_314.csv  100000_hands_644.csv  100000_hands_974.csv\n",
      "100000_hands_315.csv  100000_hands_645.csv  100000_hands_975.csv\n",
      "100000_hands_316.csv  100000_hands_646.csv  100000_hands_976.csv\n",
      "100000_hands_317.csv  100000_hands_647.csv  100000_hands_977.csv\n",
      "100000_hands_318.csv  100000_hands_648.csv  100000_hands_978.csv\n",
      "100000_hands_319.csv  100000_hands_649.csv  100000_hands_979.csv\n",
      "100000_hands_320.csv  100000_hands_650.csv  100000_hands_980.csv\n",
      "100000_hands_321.csv  100000_hands_651.csv  100000_hands_981.csv\n",
      "100000_hands_322.csv  100000_hands_652.csv  100000_hands_982.csv\n",
      "100000_hands_323.csv  100000_hands_653.csv  100000_hands_983.csv\n",
      "100000_hands_324.csv  100000_hands_654.csv  100000_hands_984.csv\n",
      "100000_hands_325.csv  100000_hands_655.csv  100000_hands_985.csv\n",
      "100000_hands_326.csv  100000_hands_656.csv  100000_hands_986.csv\n",
      "100000_hands_327.csv  100000_hands_657.csv  100000_hands_987.csv\n",
      "100000_hands_328.csv  100000_hands_658.csv  100000_hands_988.csv\n",
      "100000_hands_329.csv  100000_hands_659.csv  100000_hands_989.csv\n"
     ]
    }
   ],
   "source": [
    "!ls /staging/fast/taylora/euchre/opt_vs_inter"
   ]
  },
  {
   "cell_type": "markdown",
   "metadata": {},
   "source": [
    "# Create intermediate-vs-basic dataset"
   ]
  },
  {
   "cell_type": "code",
   "execution_count": 17,
   "metadata": {
    "jupyter": {
     "source_hidden": true
    }
   },
   "outputs": [],
   "source": [
    "if os.path.exists('/staging/'):\n",
    "    outfolder = '/staging/fast/taylora/euchre/inter_vs_basic'\n",
    "else:\n",
    "    outfolder = 'inter_vs_basic'\n",
    "if not os.path.exists(outfolder): os.mkdir(outfolder)\n",
    "p0, p2 = subopt.make_BASIC_player(0), subopt.make_BASIC_player(2)\n",
    "p1, p3 = subopt.make_INTERMEDIATE_player(1), subopt.make_INTERMEDIATE_player(3)"
   ]
  },
  {
   "cell_type": "code",
   "execution_count": 18,
   "metadata": {
    "jupyter": {
     "source_hidden": true
    }
   },
   "outputs": [],
   "source": [
    "n_epochs, n_hands = int(1e3), int(1e5)\n",
    "AVAILABLE_CPUS = 16-1\n",
    "particular_performance_function = partial(performance, n_epochs=int(n_epochs/AVAILABLE_CPUS), n_hands=n_hands, p0=p0, p1=p1, p2=p2, p3=p3)"
   ]
  },
  {
   "cell_type": "code",
   "execution_count": 20,
   "metadata": {
    "collapsed": true,
    "jupyter": {
     "outputs_hidden": true,
     "source_hidden": true
    }
   },
   "outputs": [
    {
     "name": "stdout",
     "output_type": "stream",
     "text": [
      "CPU times: user 0 ns, sys: 3 µs, total: 3 µs\n",
      "Wall time: 79.9 µs\n"
     ]
    }
   ],
   "source": [
    "%%time\n",
    "z=\"\"\"\n",
    "pool = multiprocessing.Pool(AVAILABLE_CPUS)\n",
    "for worker in range(AVAILABLE_CPUS):\n",
    "    pool.apply_async(particular_performance_function, args=(worker,))\n",
    "pool.close()\n",
    "pool.join()\n",
    "print('Done!')\"\"\""
   ]
  },
  {
   "cell_type": "code",
   "execution_count": 8,
   "metadata": {
    "jupyter": {
     "source_hidden": true
    }
   },
   "outputs": [],
   "source": [
    "!ls /staging/fast/taylora/euchre/inter_vs_basic"
   ]
  }
 ],
 "metadata": {
  "kernelspec": {
   "display_name": "Python 3",
   "language": "python",
   "name": "python3"
  },
  "language_info": {
   "codemirror_mode": {
    "name": "ipython",
    "version": 3
   },
   "file_extension": ".py",
   "mimetype": "text/x-python",
   "name": "python",
   "nbconvert_exporter": "python",
   "pygments_lexer": "ipython3",
   "version": "3.6.9"
  }
 },
 "nbformat": 4,
 "nbformat_minor": 4
}
