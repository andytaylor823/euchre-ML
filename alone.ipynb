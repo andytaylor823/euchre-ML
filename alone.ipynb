{
 "cells": [
  {
   "cell_type": "code",
   "execution_count": 1,
   "metadata": {},
   "outputs": [],
   "source": [
    "%load_ext autoreload\n",
    "%autoreload 2"
   ]
  },
  {
   "cell_type": "code",
   "execution_count": 8,
   "metadata": {},
   "outputs": [],
   "source": [
    "import numpy as np\n",
    "from tqdm import notebook\n",
    "\n",
    "from card import Card\n",
    "from board import Board\n",
    "from player import Player\n",
    "from rule import Rule"
   ]
  },
  {
   "cell_type": "code",
   "execution_count": 69,
   "metadata": {},
   "outputs": [],
   "source": [
    "board = Board()"
   ]
  },
  {
   "cell_type": "code",
   "execution_count": null,
   "metadata": {
    "collapsed": true,
    "jupyter": {
     "outputs_hidden": true
    }
   },
   "outputs": [
    {
     "data": {
      "application/vnd.jupyter.widget-view+json": {
       "model_id": "",
       "version_major": 2,
       "version_minor": 0
      },
      "text/plain": [
       "  0%|          | 0/1000 [00:00<?, ?it/s]"
      ]
     },
     "metadata": {},
     "output_type": "display_data"
    },
    {
     "name": "stdout",
     "output_type": "stream",
     "text": [
      "\n",
      "             0\n",
      "      TC 9D KH JH 9S \n",
      " \n",
      "   JS                --\n",
      "\n",
      "   QC                --\n",
      "\n",
      " 3 9C    JC          -- 1\n",
      "\n",
      "   AD                --\n",
      "\n",
      "   --                --\n",
      "\n",
      "      AC KC TD QH 9H \n",
      "             2\n",
      "\n",
      "Turn card: JD, Player 2 is dealer\n",
      "Trump suit: *CLUBS* (called second round by Player 3)\n",
      "THIS PLAYER IS GOING ALONE\n",
      "\n",
      "Player 3 led, and Player 3 is winning\n",
      "Players 0/2 score: 6 (0 tricks currently)\n",
      "Players 1/3 score: 8 (0 tricks currently)\n",
      "\n",
      "\n"
     ]
    },
    {
     "name": "stdin",
     "output_type": "stream",
     "text": [
      "Enter \"c\" to continue, \"x\" to exit:  c\n"
     ]
    },
    {
     "name": "stdout",
     "output_type": "stream",
     "text": [
      "\n",
      "             0\n",
      "      9D KH JH 9S --\n",
      " \n",
      "   JS                --\n",
      "\n",
      "   QC       TC       --\n",
      "\n",
      " 3 9C    JC          -- 1\n",
      "\n",
      "   AD                --\n",
      "\n",
      "   --                --\n",
      "\n",
      "      AC KC TD QH 9H \n",
      "             2\n",
      "\n",
      "Turn card: JD, Player 2 is dealer\n",
      "Trump suit: *CLUBS* (called second round by Player 3)\n",
      "THIS PLAYER IS GOING ALONE\n",
      "\n",
      "Player 3 led, and Player 3 is winning\n",
      "Players 0/2 score: 6 (0 tricks currently)\n",
      "Players 1/3 score: 8 (0 tricks currently)\n",
      "\n",
      "\n"
     ]
    },
    {
     "name": "stdin",
     "output_type": "stream",
     "text": [
      "Enter \"c\" to continue, \"x\" to exit:  c\n"
     ]
    },
    {
     "name": "stdout",
     "output_type": "stream",
     "text": [
      "\n",
      "             0\n",
      "      9D KH JH 9S --\n",
      " \n",
      "   JS                --\n",
      "\n",
      "   QC       TC       --\n",
      "\n",
      " 3 9C    JC    --    -- 1\n",
      "\n",
      "   AD                --\n",
      "\n",
      "   --                --\n",
      "\n",
      "      AC KC TD QH 9H \n",
      "             2\n",
      "\n",
      "Turn card: JD, Player 2 is dealer\n",
      "Trump suit: *CLUBS* (called second round by Player 3)\n",
      "THIS PLAYER IS GOING ALONE\n",
      "\n",
      "Player 3 led, and Player 3 is winning\n",
      "Players 0/2 score: 6 (0 tricks currently)\n",
      "Players 1/3 score: 8 (0 tricks currently)\n",
      "\n",
      "\n"
     ]
    },
    {
     "name": "stdin",
     "output_type": "stream",
     "text": [
      "Enter \"c\" to continue, \"x\" to exit:  c\n"
     ]
    },
    {
     "name": "stdout",
     "output_type": "stream",
     "text": [
      "\n",
      "             0\n",
      "      9D KH JH 9S --\n",
      " \n",
      "   JS                --\n",
      "\n",
      "   QC       TC       --\n",
      "\n",
      " 3 9C    JC    --    -- 1\n",
      "\n",
      "   AD       KC       --\n",
      "\n",
      "   --                --\n",
      "\n",
      "      AC TD QH 9H --\n",
      "             2\n",
      "\n",
      "Turn card: JD, Player 2 is dealer\n",
      "Trump suit: *CLUBS* (called second round by Player 3)\n",
      "THIS PLAYER IS GOING ALONE\n",
      "\n",
      "Player 3 led, and Player 3 is winning\n",
      "Players 0/2 score: 6 (0 tricks currently)\n",
      "Players 1/3 score: 8 (0 tricks currently)\n",
      "\n",
      "\n"
     ]
    },
    {
     "name": "stdin",
     "output_type": "stream",
     "text": [
      "Enter \"c\" to continue, \"x\" to exit:  c\n"
     ]
    },
    {
     "name": "stdout",
     "output_type": "stream",
     "text": [
      "\n",
      "             0\n",
      "      9D KH JH 9S --\n",
      " \n",
      "   QC                --\n",
      "\n",
      "   9C                --\n",
      "\n",
      " 3 AD    JS          -- 1\n",
      "\n",
      "   --                --\n",
      "\n",
      "   --                --\n",
      "\n",
      "      AC TD QH 9H --\n",
      "             2\n",
      "\n",
      "Turn card: JD, Player 2 is dealer\n",
      "Trump suit: *CLUBS* (called second round by Player 3)\n",
      "THIS PLAYER IS GOING ALONE\n",
      "\n",
      "Player 3 led, and Player 3 is winning\n",
      "Players 0/2 score: 6 (0 tricks currently)\n",
      "Players 1/3 score: 8 (1 tricks currently)\n",
      "\n",
      "\n"
     ]
    },
    {
     "name": "stdin",
     "output_type": "stream",
     "text": [
      "Enter \"c\" to continue, \"x\" to exit:  c\n"
     ]
    },
    {
     "name": "stdout",
     "output_type": "stream",
     "text": [
      "\n",
      "             0\n",
      "      KH JH 9S -- --\n",
      " \n",
      "   QC                --\n",
      "\n",
      "   9C       9D       --\n",
      "\n",
      " 3 AD    JS          -- 1\n",
      "\n",
      "   --                --\n",
      "\n",
      "   --                --\n",
      "\n",
      "      AC TD QH 9H --\n",
      "             2\n",
      "\n",
      "Turn card: JD, Player 2 is dealer\n",
      "Trump suit: *CLUBS* (called second round by Player 3)\n",
      "THIS PLAYER IS GOING ALONE\n",
      "\n",
      "Player 3 led, and Player 3 is winning\n",
      "Players 0/2 score: 6 (0 tricks currently)\n",
      "Players 1/3 score: 8 (1 tricks currently)\n",
      "\n",
      "\n"
     ]
    },
    {
     "name": "stdin",
     "output_type": "stream",
     "text": [
      "Enter \"c\" to continue, \"x\" to exit:  c\n"
     ]
    },
    {
     "name": "stdout",
     "output_type": "stream",
     "text": [
      "\n",
      "             0\n",
      "      KH JH 9S -- --\n",
      " \n",
      "   QC                --\n",
      "\n",
      "   9C       9D       --\n",
      "\n",
      " 3 AD    JS    --    -- 1\n",
      "\n",
      "   --                --\n",
      "\n",
      "   --                --\n",
      "\n",
      "      AC TD QH 9H --\n",
      "             2\n",
      "\n",
      "Turn card: JD, Player 2 is dealer\n",
      "Trump suit: *CLUBS* (called second round by Player 3)\n",
      "THIS PLAYER IS GOING ALONE\n",
      "\n",
      "Player 3 led, and Player 3 is winning\n",
      "Players 0/2 score: 6 (0 tricks currently)\n",
      "Players 1/3 score: 8 (1 tricks currently)\n",
      "\n",
      "\n"
     ]
    },
    {
     "name": "stdin",
     "output_type": "stream",
     "text": [
      "Enter \"c\" to continue, \"x\" to exit:  c\n"
     ]
    },
    {
     "name": "stdout",
     "output_type": "stream",
     "text": [
      "\n",
      "             0\n",
      "      KH JH 9S -- --\n",
      " \n",
      "   QC                --\n",
      "\n",
      "   9C       9D       --\n",
      "\n",
      " 3 AD    JS    --    -- 1\n",
      "\n",
      "   --       AC       --\n",
      "\n",
      "   --                --\n",
      "\n",
      "      TD QH 9H -- --\n",
      "             2\n",
      "\n",
      "Turn card: JD, Player 2 is dealer\n",
      "Trump suit: *CLUBS* (called second round by Player 3)\n",
      "THIS PLAYER IS GOING ALONE\n",
      "\n",
      "Player 3 led, and Player 3 is winning\n",
      "Players 0/2 score: 6 (0 tricks currently)\n",
      "Players 1/3 score: 8 (1 tricks currently)\n",
      "\n",
      "\n"
     ]
    },
    {
     "name": "stdin",
     "output_type": "stream",
     "text": [
      "Enter \"c\" to continue, \"x\" to exit:  c\n"
     ]
    },
    {
     "name": "stdout",
     "output_type": "stream",
     "text": [
      "\n",
      "             0\n",
      "      KH JH 9S -- --\n",
      " \n",
      "   9C                --\n",
      "\n",
      "   AD                --\n",
      "\n",
      " 3 --    QC          -- 1\n",
      "\n",
      "   --                --\n",
      "\n",
      "   --                --\n",
      "\n",
      "      TD QH 9H -- --\n",
      "             2\n",
      "\n",
      "Turn card: JD, Player 2 is dealer\n",
      "Trump suit: *CLUBS* (called second round by Player 3)\n",
      "THIS PLAYER IS GOING ALONE\n",
      "\n",
      "Player 3 led, and Player 3 is winning\n",
      "Players 0/2 score: 6 (0 tricks currently)\n",
      "Players 1/3 score: 8 (2 tricks currently)\n",
      "\n",
      "\n"
     ]
    },
    {
     "name": "stdin",
     "output_type": "stream",
     "text": [
      "Enter \"c\" to continue, \"x\" to exit:  c\n"
     ]
    },
    {
     "name": "stdout",
     "output_type": "stream",
     "text": [
      "\n",
      "             0\n",
      "      KH JH -- -- --\n",
      " \n",
      "   9C                --\n",
      "\n",
      "   AD       9S       --\n",
      "\n",
      " 3 --    QC          -- 1\n",
      "\n",
      "   --                --\n",
      "\n",
      "   --                --\n",
      "\n",
      "      TD QH 9H -- --\n",
      "             2\n",
      "\n",
      "Turn card: JD, Player 2 is dealer\n",
      "Trump suit: *CLUBS* (called second round by Player 3)\n",
      "THIS PLAYER IS GOING ALONE\n",
      "\n",
      "Player 3 led, and Player 3 is winning\n",
      "Players 0/2 score: 6 (0 tricks currently)\n",
      "Players 1/3 score: 8 (2 tricks currently)\n",
      "\n",
      "\n"
     ]
    },
    {
     "name": "stdin",
     "output_type": "stream",
     "text": [
      "Enter \"c\" to continue, \"x\" to exit:  c\n"
     ]
    },
    {
     "name": "stdout",
     "output_type": "stream",
     "text": [
      "\n",
      "             0\n",
      "      KH JH -- -- --\n",
      " \n",
      "   9C                --\n",
      "\n",
      "   AD       9S       --\n",
      "\n",
      " 3 --    QC    --    -- 1\n",
      "\n",
      "   --                --\n",
      "\n",
      "   --                --\n",
      "\n",
      "      TD QH 9H -- --\n",
      "             2\n",
      "\n",
      "Turn card: JD, Player 2 is dealer\n",
      "Trump suit: *CLUBS* (called second round by Player 3)\n",
      "THIS PLAYER IS GOING ALONE\n",
      "\n",
      "Player 3 led, and Player 3 is winning\n",
      "Players 0/2 score: 6 (0 tricks currently)\n",
      "Players 1/3 score: 8 (2 tricks currently)\n",
      "\n",
      "\n"
     ]
    },
    {
     "name": "stdin",
     "output_type": "stream",
     "text": [
      "Enter \"c\" to continue, \"x\" to exit:  c\n"
     ]
    },
    {
     "name": "stdout",
     "output_type": "stream",
     "text": [
      "\n",
      "             0\n",
      "      KH JH -- -- --\n",
      " \n",
      "   9C                --\n",
      "\n",
      "   AD       9S       --\n",
      "\n",
      " 3 --    QC    --    -- 1\n",
      "\n",
      "   --       9H       --\n",
      "\n",
      "   --                --\n",
      "\n",
      "      TD QH -- -- --\n",
      "             2\n",
      "\n",
      "Turn card: JD, Player 2 is dealer\n",
      "Trump suit: *CLUBS* (called second round by Player 3)\n",
      "THIS PLAYER IS GOING ALONE\n",
      "\n",
      "Player 3 led, and Player 3 is winning\n",
      "Players 0/2 score: 6 (0 tricks currently)\n",
      "Players 1/3 score: 8 (2 tricks currently)\n",
      "\n",
      "\n"
     ]
    },
    {
     "name": "stdin",
     "output_type": "stream",
     "text": [
      "Enter \"c\" to continue, \"x\" to exit:  c\n"
     ]
    },
    {
     "name": "stdout",
     "output_type": "stream",
     "text": [
      "\n",
      "             0\n",
      "      KH JH -- -- --\n",
      " \n",
      "   AD                --\n",
      "\n",
      "   --                --\n",
      "\n",
      " 3 --    9C          -- 1\n",
      "\n",
      "   --                --\n",
      "\n",
      "   --                --\n",
      "\n",
      "      TD QH -- -- --\n",
      "             2\n",
      "\n",
      "Turn card: JD, Player 2 is dealer\n",
      "Trump suit: *CLUBS* (called second round by Player 3)\n",
      "THIS PLAYER IS GOING ALONE\n",
      "\n",
      "Player 3 led, and Player 3 is winning\n",
      "Players 0/2 score: 6 (0 tricks currently)\n",
      "Players 1/3 score: 8 (3 tricks currently)\n",
      "\n",
      "\n"
     ]
    },
    {
     "name": "stdin",
     "output_type": "stream",
     "text": [
      "Enter \"c\" to continue, \"x\" to exit:  c\n"
     ]
    },
    {
     "name": "stdout",
     "output_type": "stream",
     "text": [
      "\n",
      "             0\n",
      "      KH -- -- -- --\n",
      " \n",
      "   AD                --\n",
      "\n",
      "   --       JH       --\n",
      "\n",
      " 3 --    9C          -- 1\n",
      "\n",
      "   --                --\n",
      "\n",
      "   --                --\n",
      "\n",
      "      TD QH -- -- --\n",
      "             2\n",
      "\n",
      "Turn card: JD, Player 2 is dealer\n",
      "Trump suit: *CLUBS* (called second round by Player 3)\n",
      "THIS PLAYER IS GOING ALONE\n",
      "\n",
      "Player 3 led, and Player 3 is winning\n",
      "Players 0/2 score: 6 (0 tricks currently)\n",
      "Players 1/3 score: 8 (3 tricks currently)\n",
      "\n",
      "\n"
     ]
    },
    {
     "name": "stdin",
     "output_type": "stream",
     "text": [
      "Enter \"c\" to continue, \"x\" to exit:  c\n"
     ]
    },
    {
     "name": "stdout",
     "output_type": "stream",
     "text": [
      "\n",
      "             0\n",
      "      KH -- -- -- --\n",
      " \n",
      "   AD                --\n",
      "\n",
      "   --       JH       --\n",
      "\n",
      " 3 --    9C    --    -- 1\n",
      "\n",
      "   --                --\n",
      "\n",
      "   --                --\n",
      "\n",
      "      TD QH -- -- --\n",
      "             2\n",
      "\n",
      "Turn card: JD, Player 2 is dealer\n",
      "Trump suit: *CLUBS* (called second round by Player 3)\n",
      "THIS PLAYER IS GOING ALONE\n",
      "\n",
      "Player 3 led, and Player 3 is winning\n",
      "Players 0/2 score: 6 (0 tricks currently)\n",
      "Players 1/3 score: 8 (3 tricks currently)\n",
      "\n",
      "\n"
     ]
    },
    {
     "name": "stdin",
     "output_type": "stream",
     "text": [
      "Enter \"c\" to continue, \"x\" to exit:  c\n"
     ]
    },
    {
     "name": "stdout",
     "output_type": "stream",
     "text": [
      "\n",
      "             0\n",
      "      KH -- -- -- --\n",
      " \n",
      "   AD                --\n",
      "\n",
      "   --       JH       --\n",
      "\n",
      " 3 --    9C    --    -- 1\n",
      "\n",
      "   --       TD       --\n",
      "\n",
      "   --                --\n",
      "\n",
      "      QH -- -- -- --\n",
      "             2\n",
      "\n",
      "Turn card: JD, Player 2 is dealer\n",
      "Trump suit: *CLUBS* (called second round by Player 3)\n",
      "THIS PLAYER IS GOING ALONE\n",
      "\n",
      "Player 3 led, and Player 3 is winning\n",
      "Players 0/2 score: 6 (0 tricks currently)\n",
      "Players 1/3 score: 8 (3 tricks currently)\n",
      "\n",
      "\n"
     ]
    },
    {
     "name": "stdin",
     "output_type": "stream",
     "text": [
      "Enter \"c\" to continue, \"x\" to exit:  c\n"
     ]
    },
    {
     "name": "stdout",
     "output_type": "stream",
     "text": [
      "\n",
      "             0\n",
      "      KH -- -- -- --\n",
      " \n",
      "   --                --\n",
      "\n",
      "   --                --\n",
      "\n",
      " 3 --    AD          -- 1\n",
      "\n",
      "   --                --\n",
      "\n",
      "   --                --\n",
      "\n",
      "      QH -- -- -- --\n",
      "             2\n",
      "\n",
      "Turn card: JD, Player 2 is dealer\n",
      "Trump suit: *CLUBS* (called second round by Player 3)\n",
      "THIS PLAYER IS GOING ALONE\n",
      "\n",
      "Player 3 led, and Player 3 is winning\n",
      "Players 0/2 score: 6 (0 tricks currently)\n",
      "Players 1/3 score: 8 (4 tricks currently)\n",
      "\n",
      "\n"
     ]
    },
    {
     "name": "stdin",
     "output_type": "stream",
     "text": [
      "Enter \"c\" to continue, \"x\" to exit:  c\n"
     ]
    },
    {
     "name": "stdout",
     "output_type": "stream",
     "text": [
      "\n",
      "             0\n",
      "       -- -- -- -- --\n",
      " \n",
      "   --                --\n",
      "\n",
      "   --       KH       --\n",
      "\n",
      " 3 --    AD          -- 1\n",
      "\n",
      "   --                --\n",
      "\n",
      "   --                --\n",
      "\n",
      "      QH -- -- -- --\n",
      "             2\n",
      "\n",
      "Turn card: JD, Player 2 is dealer\n",
      "Trump suit: *CLUBS* (called second round by Player 3)\n",
      "THIS PLAYER IS GOING ALONE\n",
      "\n",
      "Player 3 led, and Player 3 is winning\n",
      "Players 0/2 score: 6 (0 tricks currently)\n",
      "Players 1/3 score: 8 (4 tricks currently)\n",
      "\n",
      "\n"
     ]
    },
    {
     "name": "stdin",
     "output_type": "stream",
     "text": [
      "Enter \"c\" to continue, \"x\" to exit:  c\n"
     ]
    },
    {
     "name": "stdout",
     "output_type": "stream",
     "text": [
      "\n",
      "             0\n",
      "       -- -- -- -- --\n",
      " \n",
      "   --                --\n",
      "\n",
      "   --       KH       --\n",
      "\n",
      " 3 --    AD    --    -- 1\n",
      "\n",
      "   --                --\n",
      "\n",
      "   --                --\n",
      "\n",
      "      QH -- -- -- --\n",
      "             2\n",
      "\n",
      "Turn card: JD, Player 2 is dealer\n",
      "Trump suit: *CLUBS* (called second round by Player 3)\n",
      "THIS PLAYER IS GOING ALONE\n",
      "\n",
      "Player 3 led, and Player 3 is winning\n",
      "Players 0/2 score: 6 (0 tricks currently)\n",
      "Players 1/3 score: 8 (4 tricks currently)\n",
      "\n",
      "\n"
     ]
    },
    {
     "name": "stdin",
     "output_type": "stream",
     "text": [
      "Enter \"c\" to continue, \"x\" to exit:  c\n"
     ]
    },
    {
     "name": "stdout",
     "output_type": "stream",
     "text": [
      "\n",
      "             0\n",
      "       -- -- -- -- --\n",
      " \n",
      "   --                --\n",
      "\n",
      "   --       KH       --\n",
      "\n",
      " 3 --    AD    --    -- 1\n",
      "\n",
      "   --       QH       --\n",
      "\n",
      "   --                --\n",
      "\n",
      "       -- -- -- -- --\n",
      "             2\n",
      "\n",
      "Turn card: JD, Player 2 is dealer\n",
      "Trump suit: *CLUBS* (called second round by Player 3)\n",
      "THIS PLAYER IS GOING ALONE\n",
      "\n",
      "Player 3 led, and Player 3 is winning\n",
      "Players 0/2 score: 6 (0 tricks currently)\n",
      "Players 1/3 score: 8 (4 tricks currently)\n",
      "\n",
      "\n"
     ]
    },
    {
     "name": "stdin",
     "output_type": "stream",
     "text": [
      "Enter \"c\" to continue, \"x\" to exit:  c\n"
     ]
    },
    {
     "name": "stdout",
     "output_type": "stream",
     "text": [
      "Hand is finished!\n",
      "Loner sweep by Player 3\n",
      "Players 0/2 score: 6 (0 tricks)\n",
      "Players 1/3 score: 12 (5 tricks)\n",
      "\n",
      "             3\n",
      "      -- -- -- -- -- \n",
      " \n",
      "   KC                JD\n",
      "\n",
      "   QH                QC\n",
      "\n",
      " 2 TH    AC          9C 0\n",
      "\n",
      "   JS                AS\n",
      "\n",
      "   --                KS\n",
      "\n",
      "      AD KD QD TD 9D \n",
      "             1\n",
      "\n",
      "Turn card: TD, Player 1 is dealer\n",
      "Trump suit: *DIAMONDS* (called first round by Player 1)\n",
      "THIS PLAYER IS GOING ALONE\n",
      "\n",
      "Player 2 led, and Player 2 is winning\n",
      "Players 0/2 score: 10 (0 tricks currently)\n",
      "Players 1/3 score: 19 (0 tricks currently)\n",
      "\n",
      "\n"
     ]
    }
   ],
   "source": [
    "for i in notebook.tqdm(range(1000)):\n",
    "    board.play_hand()"
   ]
  },
  {
   "cell_type": "code",
   "execution_count": null,
   "metadata": {},
   "outputs": [],
   "source": []
  },
  {
   "cell_type": "code",
   "execution_count": null,
   "metadata": {},
   "outputs": [],
   "source": []
  }
 ],
 "metadata": {
  "kernelspec": {
   "display_name": "Python 3",
   "language": "python",
   "name": "python3"
  },
  "language_info": {
   "codemirror_mode": {
    "name": "ipython",
    "version": 3
   },
   "file_extension": ".py",
   "mimetype": "text/x-python",
   "name": "python",
   "nbconvert_exporter": "python",
   "pygments_lexer": "ipython3",
   "version": "3.7.7"
  }
 },
 "nbformat": 4,
 "nbformat_minor": 4
}
